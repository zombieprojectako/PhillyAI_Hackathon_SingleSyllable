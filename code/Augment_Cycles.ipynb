{
 "cells": [
  {
   "cell_type": "code",
   "execution_count": 1,
   "metadata": {},
   "outputs": [],
   "source": [
    "import pandas as pd\n",
    "import numpy as np\n",
    "import os\n",
    "from datetime import datetime, date, time"
   ]
  },
  {
   "cell_type": "markdown",
   "metadata": {},
   "source": [
    "# Load Data\n"
   ]
  },
  {
   "cell_type": "code",
   "execution_count": 2,
   "metadata": {},
   "outputs": [],
   "source": [
    "fp = os.path.join('..', 'data_out', 'cycles.csv')\n",
    "cycles = pd.read_csv(fp, parse_dates=['cycle_start_date'])"
   ]
  },
  {
   "cell_type": "code",
   "execution_count": 3,
   "metadata": {},
   "outputs": [
    {
     "name": "stdout",
     "output_type": "stream",
     "text": [
      "<class 'pandas.core.frame.DataFrame'>\n",
      "RangeIndex: 21962 entries, 0 to 21961\n",
      "Data columns (total 3 columns):\n",
      "user_id             21962 non-null int64\n",
      "cycle_start_date    21962 non-null datetime64[ns]\n",
      "cycle_length        21962 non-null object\n",
      "dtypes: datetime64[ns](1), int64(1), object(1)\n",
      "memory usage: 514.8+ KB\n"
     ]
    }
   ],
   "source": [
    "cycles.info()"
   ]
  },
  {
   "cell_type": "code",
   "execution_count": 4,
   "metadata": {},
   "outputs": [],
   "source": [
    "def parse_mmdd(id, date_in): \n",
    "    tt = date_in.timetuple()\n",
    "    month_str = str(tt[1])\n",
    "    year_str = str(tt[0])\n",
    "    rtn_str = str(id) + year_str + month_str\n",
    "    return(rtn_str)\n"
   ]
  },
  {
   "cell_type": "code",
   "execution_count": 5,
   "metadata": {},
   "outputs": [],
   "source": [
    "cycles['key'] = ''"
   ]
  },
  {
   "cell_type": "code",
   "execution_count": 6,
   "metadata": {},
   "outputs": [
    {
     "data": {
      "text/html": [
       "<div>\n",
       "<style scoped>\n",
       "    .dataframe tbody tr th:only-of-type {\n",
       "        vertical-align: middle;\n",
       "    }\n",
       "\n",
       "    .dataframe tbody tr th {\n",
       "        vertical-align: top;\n",
       "    }\n",
       "\n",
       "    .dataframe thead th {\n",
       "        text-align: right;\n",
       "    }\n",
       "</style>\n",
       "<table border=\"1\" class=\"dataframe\">\n",
       "  <thead>\n",
       "    <tr style=\"text-align: right;\">\n",
       "      <th></th>\n",
       "      <th>user_id</th>\n",
       "      <th>cycle_start_date</th>\n",
       "      <th>cycle_length</th>\n",
       "      <th>key</th>\n",
       "    </tr>\n",
       "  </thead>\n",
       "  <tbody>\n",
       "    <tr>\n",
       "      <th>0</th>\n",
       "      <td>257</td>\n",
       "      <td>2015-03-10</td>\n",
       "      <td>32 days 00:00:00.000000000</td>\n",
       "      <td></td>\n",
       "    </tr>\n",
       "    <tr>\n",
       "      <th>1</th>\n",
       "      <td>258</td>\n",
       "      <td>2015-03-11</td>\n",
       "      <td>31 days 00:00:00.000000000</td>\n",
       "      <td></td>\n",
       "    </tr>\n",
       "    <tr>\n",
       "      <th>2</th>\n",
       "      <td>262</td>\n",
       "      <td>2015-03-10</td>\n",
       "      <td>33 days 00:00:00.000000000</td>\n",
       "      <td></td>\n",
       "    </tr>\n",
       "    <tr>\n",
       "      <th>3</th>\n",
       "      <td>269</td>\n",
       "      <td>2015-08-28</td>\n",
       "      <td>34 days 00:00:00.000000000</td>\n",
       "      <td></td>\n",
       "    </tr>\n",
       "    <tr>\n",
       "      <th>4</th>\n",
       "      <td>269</td>\n",
       "      <td>2015-12-02</td>\n",
       "      <td>33 days 00:00:00.000000000</td>\n",
       "      <td></td>\n",
       "    </tr>\n",
       "  </tbody>\n",
       "</table>\n",
       "</div>"
      ],
      "text/plain": [
       "   user_id cycle_start_date                cycle_length key\n",
       "0      257       2015-03-10  32 days 00:00:00.000000000    \n",
       "1      258       2015-03-11  31 days 00:00:00.000000000    \n",
       "2      262       2015-03-10  33 days 00:00:00.000000000    \n",
       "3      269       2015-08-28  34 days 00:00:00.000000000    \n",
       "4      269       2015-12-02  33 days 00:00:00.000000000    "
      ]
     },
     "execution_count": 6,
     "metadata": {},
     "output_type": "execute_result"
    }
   ],
   "source": [
    "cycles.head()"
   ]
  },
  {
   "cell_type": "code",
   "execution_count": 15,
   "metadata": {},
   "outputs": [],
   "source": [
    "for i in range(0, len(cycles)):\n",
    "    cycles.iloc[i,3] = parse_mmdd(cycles.iloc[i, 0], cycles.iloc[i, 1])\n",
    "    \n"
   ]
  },
  {
   "cell_type": "code",
   "execution_count": 16,
   "metadata": {},
   "outputs": [
    {
     "data": {
      "text/html": [
       "<div>\n",
       "<style scoped>\n",
       "    .dataframe tbody tr th:only-of-type {\n",
       "        vertical-align: middle;\n",
       "    }\n",
       "\n",
       "    .dataframe tbody tr th {\n",
       "        vertical-align: top;\n",
       "    }\n",
       "\n",
       "    .dataframe thead th {\n",
       "        text-align: right;\n",
       "    }\n",
       "</style>\n",
       "<table border=\"1\" class=\"dataframe\">\n",
       "  <thead>\n",
       "    <tr style=\"text-align: right;\">\n",
       "      <th></th>\n",
       "      <th>user_id</th>\n",
       "      <th>cycle_start_date</th>\n",
       "      <th>cycle_length</th>\n",
       "      <th>key</th>\n",
       "    </tr>\n",
       "  </thead>\n",
       "  <tbody>\n",
       "    <tr>\n",
       "      <th>0</th>\n",
       "      <td>257</td>\n",
       "      <td>2015-03-10</td>\n",
       "      <td>32 days 00:00:00.000000000</td>\n",
       "      <td>25720153</td>\n",
       "    </tr>\n",
       "    <tr>\n",
       "      <th>1</th>\n",
       "      <td>258</td>\n",
       "      <td>2015-03-11</td>\n",
       "      <td>31 days 00:00:00.000000000</td>\n",
       "      <td>25820153</td>\n",
       "    </tr>\n",
       "    <tr>\n",
       "      <th>2</th>\n",
       "      <td>262</td>\n",
       "      <td>2015-03-10</td>\n",
       "      <td>33 days 00:00:00.000000000</td>\n",
       "      <td>26220153</td>\n",
       "    </tr>\n",
       "    <tr>\n",
       "      <th>3</th>\n",
       "      <td>269</td>\n",
       "      <td>2015-08-28</td>\n",
       "      <td>34 days 00:00:00.000000000</td>\n",
       "      <td>26920158</td>\n",
       "    </tr>\n",
       "    <tr>\n",
       "      <th>4</th>\n",
       "      <td>269</td>\n",
       "      <td>2015-12-02</td>\n",
       "      <td>33 days 00:00:00.000000000</td>\n",
       "      <td>269201512</td>\n",
       "    </tr>\n",
       "  </tbody>\n",
       "</table>\n",
       "</div>"
      ],
      "text/plain": [
       "   user_id cycle_start_date                cycle_length        key\n",
       "0      257       2015-03-10  32 days 00:00:00.000000000   25720153\n",
       "1      258       2015-03-11  31 days 00:00:00.000000000   25820153\n",
       "2      262       2015-03-10  33 days 00:00:00.000000000   26220153\n",
       "3      269       2015-08-28  34 days 00:00:00.000000000   26920158\n",
       "4      269       2015-12-02  33 days 00:00:00.000000000  269201512"
      ]
     },
     "execution_count": 16,
     "metadata": {},
     "output_type": "execute_result"
    }
   ],
   "source": [
    "cycles.head()"
   ]
  },
  {
   "cell_type": "code",
   "execution_count": null,
   "metadata": {},
   "outputs": [],
   "source": []
  }
 ],
 "metadata": {
  "kernelspec": {
   "display_name": "Python 3",
   "language": "python",
   "name": "python3"
  },
  "language_info": {
   "codemirror_mode": {
    "name": "ipython",
    "version": 3
   },
   "file_extension": ".py",
   "mimetype": "text/x-python",
   "name": "python",
   "nbconvert_exporter": "python",
   "pygments_lexer": "ipython3",
   "version": "3.7.0"
  }
 },
 "nbformat": 4,
 "nbformat_minor": 2
}

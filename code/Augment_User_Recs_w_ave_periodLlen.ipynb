{
 "cells": [
  {
   "cell_type": "code",
   "execution_count": null,
   "metadata": {},
   "outputs": [],
   "source": [
    "import pandas as pd\n",
    "import numpy as np\n",
    "import os"
   ]
  },
  {
   "cell_type": "markdown",
   "metadata": {},
   "source": [
    "# Load and Merge Data\n",
    "- want to see cycle data"
   ]
  },
  {
   "cell_type": "code",
   "execution_count": null,
   "metadata": {},
   "outputs": [],
   "source": [
    "fp = os.path.join('..', 'data_out', 'Symptoms_clean.csv')\n",
    "symptoms =pd. read_csv(fp)\n",
    "#set zeroes as nans\n",
    "symptoms.replace(0, np.NaN, inplace=True)\n",
    "symptoms.info()"
   ]
  },
  {
   "cell_type": "markdown",
   "metadata": {},
   "source": [
    "#### Agg Symptoms"
   ]
  },
  {
   "cell_type": "code",
   "execution_count": null,
   "metadata": {},
   "outputs": [],
   "source": [
    "categories = ['acne', 'backache', 'bloating', 'cramp',\n",
    "       'diarrhea', 'dizzy', 'headache', 'mood', 'nausea', 'sore']\n",
    "agg_symptoms = symptoms[categories].agg(['mean', 'count']).T\n",
    "agg_symptoms.sort_values('count', ascending=False)\n",
    "agg_symptoms.reset_index().plot.bar(x='index', y='count', title='Top Reported Symptoms')"
   ]
  },
  {
   "cell_type": "markdown",
   "metadata": {},
   "source": [
    "#### Agg to the User Level"
   ]
  },
  {
   "cell_type": "code",
   "execution_count": null,
   "metadata": {},
   "outputs": [],
   "source": [
    "users_agg_symptoms = symptoms.groupby(['user_id'], as_index=False).mean()\n",
    "users_agg_symptoms.sample(5)"
   ]
  },
  {
   "cell_type": "markdown",
   "metadata": {},
   "source": [
    "#### Cycle Data"
   ]
  },
  {
   "cell_type": "code",
   "execution_count": null,
   "metadata": {},
   "outputs": [],
   "source": [
    "fp = os.path.join('..', 'data_out', 'Clean_periods_clean.csv')\n",
    "periods = pd.read_csv(fp, parse_dates=['start_date_fix', 'end_date_fix'])\n",
    "periods.info()"
   ]
  },
  {
   "cell_type": "code",
   "execution_count": null,
   "metadata": {},
   "outputs": [],
   "source": [
    "print('predrop:', periods.shape[0])\n",
    "periods_multi_respos = periods.groupby('user_id').filter(lambda x: x.shape[0] > 1).copy()\n",
    "print('postdrop:', periods_multi_respos.shape[0])"
   ]
  },
  {
   "cell_type": "code",
   "execution_count": null,
   "metadata": {},
   "outputs": [],
   "source": [
    "#sort\n",
    "periods_multi_respos.sort_values(['user_id', 'start_date_fix'], inplace=True)\n",
    "#roll column\n",
    "periods_multi_respos['previous_start_date'] = periods_multi_respos.start_date_fix.shift(1)\n",
    "#calc difference\n",
    "periods_multi_respos['cycle_length'] = periods_multi_respos['start_date_fix'] - periods_multi_respos['previous_start_date']\n",
    "#set non repeated user it \n",
    "cumcount = periods_multi_respos.groupby('user_id').cumcount()\n",
    "periods_multi_respos.loc[cumcount==0, 'cycle_length'] = np.NaN\n",
    "#drop missing data\n",
    "periods_multi_respos.dropna(subset=['cycle_length'], inplace=True)\n",
    "#check cycle_length stats\n",
    "print('stats pre drop:', periods_multi_respos.cycle_length.describe(), sep='\\n')\n",
    "#drop any cycle ove 60 days"
   ]
  },
  {
   "cell_type": "code",
   "execution_count": null,
   "metadata": {},
   "outputs": [],
   "source": [
    "days = periods_multi_respos.cycle_length.dt.days\n",
    "days = days[(days > 50 ]\n",
    "days.plot.hist()"
   ]
  }
 ],
 "metadata": {
  "kernelspec": {
   "display_name": "Python 3",
   "language": "python",
   "name": "python3"
  },
  "language_info": {
   "codemirror_mode": {
    "name": "ipython",
    "version": 3
   },
   "file_extension": ".py",
   "mimetype": "text/x-python",
   "name": "python",
   "nbconvert_exporter": "python",
   "pygments_lexer": "ipython3",
   "version": "3.7.0"
  }
 },
 "nbformat": 4,
 "nbformat_minor": 2
}

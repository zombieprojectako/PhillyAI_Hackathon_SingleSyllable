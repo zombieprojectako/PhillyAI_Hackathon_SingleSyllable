{
 "cells": [
  {
   "cell_type": "code",
   "execution_count": 16,
   "metadata": {},
   "outputs": [],
   "source": [
    "# Load Libraries \n",
    "import pandas as pd\n",
    "import numpy as np\n",
    "import os"
   ]
  },
  {
   "cell_type": "markdown",
   "metadata": {},
   "source": [
    "### Load Data"
   ]
  },
  {
   "cell_type": "code",
   "execution_count": 35,
   "metadata": {},
   "outputs": [],
   "source": [
    "user_file_path = os.path.join('..', 'data_out', 'User_clean.csv')\n",
    "users = pd.read_csv(user_file_path)\n",
    "file_path = os.path.join('..', 'data_out', 'Symptoms_clean.csv')\n",
    "symptoms = pd.read_csv(file_path)\n",
    "file_path = os.path.join('..', 'data_out', 'Clean_periods_clean.csv')\n",
    "periods = pd.read_csv(file_path)\n",
    "periods['length'] = pd.to_timedelta(periods.length)\n",
    "periods['days'] = periods.length.dt.days"
   ]
  },
  {
   "cell_type": "code",
   "execution_count": 34,
   "metadata": {},
   "outputs": [
    {
     "data": {
      "text/html": [
       "<div>\n",
       "<style scoped>\n",
       "    .dataframe tbody tr th:only-of-type {\n",
       "        vertical-align: middle;\n",
       "    }\n",
       "\n",
       "    .dataframe tbody tr th {\n",
       "        vertical-align: top;\n",
       "    }\n",
       "\n",
       "    .dataframe thead th {\n",
       "        text-align: right;\n",
       "    }\n",
       "</style>\n",
       "<table border=\"1\" class=\"dataframe\">\n",
       "  <thead>\n",
       "    <tr style=\"text-align: right;\">\n",
       "      <th></th>\n",
       "      <th>Unnamed: 0</th>\n",
       "      <th>id</th>\n",
       "      <th>start_date</th>\n",
       "      <th>end_date</th>\n",
       "      <th>user_id</th>\n",
       "      <th>start_date_fix</th>\n",
       "      <th>end_date_fix</th>\n",
       "      <th>length</th>\n",
       "    </tr>\n",
       "  </thead>\n",
       "  <tbody>\n",
       "    <tr>\n",
       "      <th>0</th>\n",
       "      <td>0</td>\n",
       "      <td>352</td>\n",
       "      <td>5/4/15</td>\n",
       "      <td>10/4/15</td>\n",
       "      <td>252</td>\n",
       "      <td>2015-04-05</td>\n",
       "      <td>2015-04-10</td>\n",
       "      <td>5 days</td>\n",
       "    </tr>\n",
       "    <tr>\n",
       "      <th>1</th>\n",
       "      <td>1</td>\n",
       "      <td>353</td>\n",
       "      <td>23/3/15</td>\n",
       "      <td>27/3/15</td>\n",
       "      <td>253</td>\n",
       "      <td>2015-03-23</td>\n",
       "      <td>2015-03-27</td>\n",
       "      <td>4 days</td>\n",
       "    </tr>\n",
       "    <tr>\n",
       "      <th>2</th>\n",
       "      <td>2</td>\n",
       "      <td>354</td>\n",
       "      <td>6/4/15</td>\n",
       "      <td>11/4/15</td>\n",
       "      <td>254</td>\n",
       "      <td>2015-04-06</td>\n",
       "      <td>2015-04-11</td>\n",
       "      <td>5 days</td>\n",
       "    </tr>\n",
       "    <tr>\n",
       "      <th>3</th>\n",
       "      <td>3</td>\n",
       "      <td>355</td>\n",
       "      <td>21/3/15</td>\n",
       "      <td>24/3/15</td>\n",
       "      <td>255</td>\n",
       "      <td>2015-03-21</td>\n",
       "      <td>2015-03-24</td>\n",
       "      <td>3 days</td>\n",
       "    </tr>\n",
       "    <tr>\n",
       "      <th>4</th>\n",
       "      <td>4</td>\n",
       "      <td>356</td>\n",
       "      <td>26/3/15</td>\n",
       "      <td>31/3/15</td>\n",
       "      <td>256</td>\n",
       "      <td>2015-03-26</td>\n",
       "      <td>2015-03-31</td>\n",
       "      <td>5 days</td>\n",
       "    </tr>\n",
       "  </tbody>\n",
       "</table>\n",
       "</div>"
      ],
      "text/plain": [
       "   Unnamed: 0   id start_date end_date  user_id start_date_fix end_date_fix  \\\n",
       "0           0  352     5/4/15  10/4/15      252     2015-04-05   2015-04-10   \n",
       "1           1  353    23/3/15  27/3/15      253     2015-03-23   2015-03-27   \n",
       "2           2  354     6/4/15  11/4/15      254     2015-04-06   2015-04-11   \n",
       "3           3  355    21/3/15  24/3/15      255     2015-03-21   2015-03-24   \n",
       "4           4  356    26/3/15  31/3/15      256     2015-03-26   2015-03-31   \n",
       "\n",
       "  length  \n",
       "0 5 days  \n",
       "1 4 days  \n",
       "2 5 days  \n",
       "3 3 days  \n",
       "4 5 days  "
      ]
     },
     "execution_count": 34,
     "metadata": {},
     "output_type": "execute_result"
    }
   ],
   "source": [
    "periods.head()"
   ]
  },
  {
   "cell_type": "code",
   "execution_count": 18,
   "metadata": {},
   "outputs": [
    {
     "data": {
      "text/html": [
       "<div>\n",
       "<style scoped>\n",
       "    .dataframe tbody tr th:only-of-type {\n",
       "        vertical-align: middle;\n",
       "    }\n",
       "\n",
       "    .dataframe tbody tr th {\n",
       "        vertical-align: top;\n",
       "    }\n",
       "\n",
       "    .dataframe thead th {\n",
       "        text-align: right;\n",
       "    }\n",
       "</style>\n",
       "<table border=\"1\" class=\"dataframe\">\n",
       "  <thead>\n",
       "    <tr style=\"text-align: right;\">\n",
       "      <th></th>\n",
       "      <th>Unnamed: 0</th>\n",
       "      <th>id</th>\n",
       "      <th>dob</th>\n",
       "      <th>cycle_length_initial</th>\n",
       "      <th>period_length_initial</th>\n",
       "      <th>dob_fix</th>\n",
       "    </tr>\n",
       "  </thead>\n",
       "  <tbody>\n",
       "    <tr>\n",
       "      <th>0</th>\n",
       "      <td>0</td>\n",
       "      <td>252</td>\n",
       "      <td>NaN</td>\n",
       "      <td>28</td>\n",
       "      <td>6</td>\n",
       "      <td>NaN</td>\n",
       "    </tr>\n",
       "    <tr>\n",
       "      <th>1</th>\n",
       "      <td>1</td>\n",
       "      <td>253</td>\n",
       "      <td>NaN</td>\n",
       "      <td>30</td>\n",
       "      <td>5</td>\n",
       "      <td>NaN</td>\n",
       "    </tr>\n",
       "    <tr>\n",
       "      <th>2</th>\n",
       "      <td>2</td>\n",
       "      <td>254</td>\n",
       "      <td>NaN</td>\n",
       "      <td>28</td>\n",
       "      <td>6</td>\n",
       "      <td>NaN</td>\n",
       "    </tr>\n",
       "    <tr>\n",
       "      <th>3</th>\n",
       "      <td>3</td>\n",
       "      <td>255</td>\n",
       "      <td>NaN</td>\n",
       "      <td>30</td>\n",
       "      <td>4</td>\n",
       "      <td>NaN</td>\n",
       "    </tr>\n",
       "    <tr>\n",
       "      <th>4</th>\n",
       "      <td>4</td>\n",
       "      <td>256</td>\n",
       "      <td>NaN</td>\n",
       "      <td>25</td>\n",
       "      <td>6</td>\n",
       "      <td>NaN</td>\n",
       "    </tr>\n",
       "  </tbody>\n",
       "</table>\n",
       "</div>"
      ],
      "text/plain": [
       "   Unnamed: 0   id  dob  cycle_length_initial  period_length_initial dob_fix\n",
       "0           0  252  NaN                    28                      6     NaN\n",
       "1           1  253  NaN                    30                      5     NaN\n",
       "2           2  254  NaN                    28                      6     NaN\n",
       "3           3  255  NaN                    30                      4     NaN\n",
       "4           4  256  NaN                    25                      6     NaN"
      ]
     },
     "execution_count": 18,
     "metadata": {},
     "output_type": "execute_result"
    }
   ],
   "source": [
    "users.head()"
   ]
  },
  {
   "cell_type": "code",
   "execution_count": 19,
   "metadata": {},
   "outputs": [],
   "source": [
    "import pixiedust"
   ]
  },
  {
   "cell_type": "code",
   "execution_count": 25,
   "metadata": {},
   "outputs": [],
   "source": [
    "users.rename(columns={'cycle_length_initial':'Cycle Length'}, inplace=True)\n",
    "users.rename(columns={'period_length_initial':'Period Length'}, inplace=True)"
   ]
  },
  {
   "cell_type": "code",
   "execution_count": 36,
   "metadata": {
    "pixiedust": {
     "displayParams": {
      "binsize": "14",
      "handlerId": "histogram",
      "rendererId": "seaborn",
      "rug": "true",
      "title": "Actual Period Lengths",
      "valueFields": "days"
     }
    },
    "scrolled": false
   },
   "outputs": [
    {
     "data": {
      "text/html": [
       "<style type=\"text/css\">.pd_warning{display:none;}</style><div class=\"pd_warning\"><em>Hey, there's something awesome here! To see it, open this notebook outside GitHub, in a viewer like Jupyter</em></div>"
      ],
      "text/plain": [
       "<IPython.core.display.HTML object>"
      ]
     },
     "metadata": {
      "pixieapp_metadata": null
     },
     "output_type": "display_data"
    }
   ],
   "source": [
    "display(periods)"
   ]
  },
  {
   "cell_type": "code",
   "execution_count": 37,
   "metadata": {
    "pixiedust": {
     "displayParams": {
      "binsize": "18",
      "handlerId": "histogram",
      "valueFields": "period_length_initial"
     }
    }
   },
   "outputs": [
    {
     "data": {
      "text/html": [
       "<style type=\"text/css\">.pd_warning{display:none;}</style><div class=\"pd_warning\"><em>Hey, there's something awesome here! To see it, open this notebook outside GitHub, in a viewer like Jupyter</em></div><img class=\"pd_save is-viewer-good\" style=\"max-width:initial !important\" src=\"data:image/png;base64,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\">"
      ],
      "text/plain": [
       "<IPython.core.display.HTML object>"
      ]
     },
     "metadata": {},
     "output_type": "display_data"
    }
   ],
   "source": [
    "display(users)\n"
   ]
  },
  {
   "cell_type": "code",
   "execution_count": 48,
   "metadata": {},
   "outputs": [],
   "source": [
    "estimated_period_len = users.period_length_initial\n",
    "estimated_period_len = list(filter(lambda x: x<15, estimated_period_len))\n",
    "actual_period_len = periods.days"
   ]
  },
  {
   "cell_type": "code",
   "execution_count": 41,
   "metadata": {},
   "outputs": [
    {
     "data": {
      "text/plain": [
       "0       6\n",
       "1       5\n",
       "2       6\n",
       "3       4\n",
       "4       6\n",
       "5       6\n",
       "6       5\n",
       "7       6\n",
       "8       6\n",
       "9       5\n",
       "10      5\n",
       "11      4\n",
       "12      7\n",
       "13      5\n",
       "14      8\n",
       "15      5\n",
       "16      8\n",
       "17      6\n",
       "18      6\n",
       "19      4\n",
       "20      7\n",
       "21      7\n",
       "22      5\n",
       "23      3\n",
       "24      4\n",
       "25      8\n",
       "26      4\n",
       "27      6\n",
       "28      6\n",
       "29      5\n",
       "       ..\n",
       "6699    6\n",
       "6700    7\n",
       "6701    4\n",
       "6702    8\n",
       "6703    7\n",
       "6704    7\n",
       "6705    5\n",
       "6706    6\n",
       "6707    3\n",
       "6708    5\n",
       "6709    6\n",
       "6710    7\n",
       "6711    5\n",
       "6712    6\n",
       "6713    3\n",
       "6714    7\n",
       "6715    6\n",
       "6716    5\n",
       "6717    6\n",
       "6718    7\n",
       "6719    3\n",
       "6720    6\n",
       "6721    5\n",
       "6722    2\n",
       "6723    4\n",
       "6724    4\n",
       "6725    5\n",
       "6726    4\n",
       "6727    5\n",
       "6728    6\n",
       "Name: period_length_initial, Length: 6729, dtype: int64"
      ]
     },
     "execution_count": 41,
     "metadata": {},
     "output_type": "execute_result"
    }
   ],
   "source": [
    "estimated_period_len"
   ]
  },
  {
   "cell_type": "code",
   "execution_count": 49,
   "metadata": {},
   "outputs": [
    {
     "name": "stderr",
     "output_type": "stream",
     "text": [
      "C:\\Users\\patrick.cronin\\AppData\\Local\\Continuum\\anaconda3\\lib\\site-packages\\matplotlib\\font_manager.py:1331: UserWarning: findfont: Font family ['serif'] not found. Falling back to DejaVu Sans\n",
      "  (prop.get_family(), self.defaultFamily[fontext]))\n"
     ]
    },
    {
     "data": {
      "image/png": "[encoded data removed]",
      "text/plain": [
       "<Figure size 432x288 with 1 Axes>"
      ]
     },
     "metadata": {
      "needs_background": "light"
     },
     "output_type": "display_data"
    }
   ],
   "source": [
    "import seaborn as sns\n",
    "import matplotlib.pyplot as plt\n",
    "# sns.kdeplot(estimated_period_len)\n",
    "sns.kdeplot(estimated_period_len, bw=2, label=\"Estimated\")\n",
    "sns.kdeplot(actual_period_len, bw=2, label=\"Actual\")\n",
    "plt.legend();"
   ]
  },
  {
   "cell_type": "code",
   "execution_count": null,
   "metadata": {},
   "outputs": [],
   "source": []
  }
 ],
 "metadata": {
  "kernelspec": {
   "display_name": "Python 3",
   "language": "python",
   "name": "python3"
  },
  "language_info": {
   "codemirror_mode": {
    "name": "ipython",
    "version": 3
   },
   "file_extension": ".py",
   "mimetype": "text/x-python",
   "name": "python",
   "nbconvert_exporter": "python",
   "pygments_lexer": "ipython3",
   "version": "3.7.0"
  }
 },
 "nbformat": 4,
 "nbformat_minor": 2
}

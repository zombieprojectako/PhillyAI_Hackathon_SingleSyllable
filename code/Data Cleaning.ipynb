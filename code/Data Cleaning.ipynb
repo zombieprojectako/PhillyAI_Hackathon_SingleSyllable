{
 "cells": [
  {
   "cell_type": "code",
   "execution_count": 20,
   "metadata": {},
   "outputs": [
    {
     "data": {
      "text/html": [
       "<script type=\"text/javascript\">window.PlotlyConfig = {MathJaxConfig: 'local'};</script><script type=\"text/javascript\">if (window.MathJax) {MathJax.Hub.Config({SVG: {font: \"STIX-Web\"}});}</script><script>requirejs.config({paths: { 'plotly': ['https://cdn.plot.ly/plotly-latest.min']},});if(!window._Plotly) {require(['plotly'],function(plotly) {window._Plotly=plotly;});}</script>"
      ],
      "text/vnd.plotly.v1+html": [
       "<script type=\"text/javascript\">window.PlotlyConfig = {MathJaxConfig: 'local'};</script><script type=\"text/javascript\">if (window.MathJax) {MathJax.Hub.Config({SVG: {font: \"STIX-Web\"}});}</script><script>requirejs.config({paths: { 'plotly': ['https://cdn.plot.ly/plotly-latest.min']},});if(!window._Plotly) {require(['plotly'],function(plotly) {window._Plotly=plotly;});}</script>"
      ]
     },
     "metadata": {},
     "output_type": "display_data"
    }
   ],
   "source": [
    "import pandas as pd\n",
    "import numpy as np\n",
    "import chart_maker\n",
    "cm = chart_maker.ChartMaker()"
   ]
  },
  {
   "cell_type": "markdown",
   "metadata": {},
   "source": [
    "# Load Data sets"
   ]
  },
  {
   "cell_type": "markdown",
   "metadata": {},
   "source": [
    "#### Load users"
   ]
  },
  {
   "cell_type": "code",
   "execution_count": 31,
   "metadata": {},
   "outputs": [
    {
     "name": "stdout",
     "output_type": "stream",
     "text": [
      "<class 'pandas.core.frame.DataFrame'>\n",
      "RangeIndex: 6729 entries, 0 to 6728\n",
      "Data columns (total 5 columns):\n",
      "id                       6729 non-null object\n",
      "dob                      440 non-null object\n",
      "cycle_length_initial     6729 non-null int64\n",
      "period_length_initial    6729 non-null int64\n",
      "dob_fix                  345 non-null datetime64[ns]\n",
      "dtypes: datetime64[ns](1), int64(2), object(2)\n",
      "memory usage: 262.9+ KB\n"
     ]
    }
   ],
   "source": [
    "dtypes = {'id': 'str'}\n",
    "users = pd.read_csv('./User.csv', dtype=dtypes)\n",
    "users['dob_fix'] = pd.to_datetime(users.dob, errors='coerce')\n",
    "users.info()"
   ]
  },
  {
   "cell_type": "markdown",
   "metadata": {},
   "source": [
    "#### Check users\n",
    "- still some issues"
   ]
  },
  {
   "cell_type": "code",
   "execution_count": 32,
   "metadata": {},
   "outputs": [
    {
     "data": {
      "application/vnd.plotly.v1+json": {
       "config": {
        "linkText": "Export to plot.ly",
        "plotlyServerURL": "https://plot.ly",
        "showLink": false
       },
       "data": [
        {
         "line": {
          "width": 3
         },
         "mode": "lines",
         "type": "scatter",
         "uid": "de2500e3-273d-4cb1-a7a3-8993d38dd126",
         "x": [
          "1969-12-31",
          "1970-12-31",
          "1971-12-31",
          "1972-12-31",
          "1973-12-31",
          "1974-12-31",
          "1975-12-31",
          "1976-12-31",
          "1977-12-31",
          "1978-12-31",
          "1979-12-31",
          "1980-12-31",
          "1981-12-31",
          "1982-12-31",
          "1983-12-31",
          "1984-12-31",
          "1985-12-31",
          "1986-12-31",
          "1987-12-31",
          "1988-12-31",
          "1989-12-31",
          "1990-12-31",
          "1991-12-31",
          "1992-12-31",
          "1993-12-31",
          "1994-12-31",
          "1995-12-31",
          "1996-12-31",
          "1997-12-31",
          "1998-12-31",
          "1999-12-31",
          "2000-12-31",
          "2001-12-31",
          "2002-12-31",
          "2003-12-31",
          "2004-12-31",
          "2005-12-31",
          "2006-12-31",
          "2007-12-31",
          "2008-12-31",
          "2009-12-31",
          "2010-12-31",
          "2011-12-31",
          "2012-12-31",
          "2013-12-31",
          "2014-12-31",
          "2015-12-31",
          "2016-12-31",
          "2017-12-31",
          "2018-12-31",
          "2019-12-31",
          "2020-12-31",
          "2021-12-31",
          "2022-12-31",
          "2023-12-31",
          "2024-12-31",
          "2025-12-31",
          "2026-12-31",
          "2027-12-31",
          "2028-12-31",
          "2029-12-31",
          "2030-12-31",
          "2031-12-31",
          "2032-12-31",
          "2033-12-31",
          "2034-12-31",
          "2035-12-31",
          "2036-12-31",
          "2037-12-31",
          "2038-12-31",
          "2039-12-31",
          "2040-12-31",
          "2041-12-31",
          "2042-12-31",
          "2043-12-31",
          "2044-12-31",
          "2045-12-31",
          "2046-12-31",
          "2047-12-31",
          "2048-12-31",
          "2049-12-31",
          "2050-12-31",
          "2051-12-31",
          "2052-12-31",
          "2053-12-31",
          "2054-12-31",
          "2055-12-31",
          "2056-12-31",
          "2057-12-31",
          "2058-12-31",
          "2059-12-31",
          "2060-12-31",
          "2061-12-31",
          "2062-12-31",
          "2063-12-31",
          "2064-12-31",
          "2065-12-31",
          "2066-12-31",
          "2067-12-31",
          "2068-12-31"
         ],
         "y": [
          3,
          3,
          3,
          4,
          3,
          4,
          5,
          4,
          2,
          4,
          4,
          5,
          11,
          10,
          7,
          10,
          5,
          1,
          13,
          14,
          11,
          15,
          20,
          14,
          18,
          21,
          16,
          23,
          16,
          21,
          13,
          12,
          5,
          7,
          4,
          4,
          2,
          0,
          0,
          0,
          0,
          0,
          0,
          0,
          0,
          0,
          0,
          0,
          0,
          0,
          0,
          0,
          0,
          0,
          0,
          0,
          0,
          0,
          0,
          0,
          0,
          0,
          0,
          0,
          0,
          0,
          0,
          0,
          0,
          0,
          0,
          0,
          0,
          0,
          0,
          0,
          0,
          0,
          0,
          0,
          0,
          0,
          0,
          0,
          0,
          0,
          0,
          0,
          0,
          0,
          0,
          0,
          0,
          1,
          1,
          2,
          0,
          2,
          1,
          1
         ]
        }
       ],
       "layout": {
        "title": {
         "text": "Line Chart"
        },
        "xaxis": {
         "title": {
          "font": {
           "size": 15
          }
         }
        },
        "yaxis": {
         "title": {
          "font": {
           "size": 16
          }
         }
        }
       }
      },
      "text/html": [
       "<div id=\"929db409-7a5a-4502-9347-785e8582a3e8\" style=\"height: 525px; width: 100%;\" class=\"plotly-graph-div\"></div><script type=\"text/javascript\">require([\"plotly\"], function(Plotly) { window.PLOTLYENV=window.PLOTLYENV || {};window.PLOTLYENV.BASE_URL=\"https://plot.ly\";\n",
       "if (document.getElementById(\"929db409-7a5a-4502-9347-785e8582a3e8\")) {\n",
       "    Plotly.newPlot(\"929db409-7a5a-4502-9347-785e8582a3e8\", [{\"line\": {\"width\": 3}, \"mode\": \"lines\", \"x\": [\"1969-12-31\", \"1970-12-31\", \"1971-12-31\", \"1972-12-31\", \"1973-12-31\", \"1974-12-31\", \"1975-12-31\", \"1976-12-31\", \"1977-12-31\", \"1978-12-31\", \"1979-12-31\", \"1980-12-31\", \"1981-12-31\", \"1982-12-31\", \"1983-12-31\", \"1984-12-31\", \"1985-12-31\", \"1986-12-31\", \"1987-12-31\", \"1988-12-31\", \"1989-12-31\", \"1990-12-31\", \"1991-12-31\", \"1992-12-31\", \"1993-12-31\", \"1994-12-31\", \"1995-12-31\", \"1996-12-31\", \"1997-12-31\", \"1998-12-31\", \"1999-12-31\", \"2000-12-31\", \"2001-12-31\", \"2002-12-31\", \"2003-12-31\", \"2004-12-31\", \"2005-12-31\", \"2006-12-31\", \"2007-12-31\", \"2008-12-31\", \"2009-12-31\", \"2010-12-31\", \"2011-12-31\", \"2012-12-31\", \"2013-12-31\", \"2014-12-31\", \"2015-12-31\", \"2016-12-31\", \"2017-12-31\", \"2018-12-31\", \"2019-12-31\", \"2020-12-31\", \"2021-12-31\", \"2022-12-31\", \"2023-12-31\", \"2024-12-31\", \"2025-12-31\", \"2026-12-31\", \"2027-12-31\", \"2028-12-31\", \"2029-12-31\", \"2030-12-31\", \"2031-12-31\", \"2032-12-31\", \"2033-12-31\", \"2034-12-31\", \"2035-12-31\", \"2036-12-31\", \"2037-12-31\", \"2038-12-31\", \"2039-12-31\", \"2040-12-31\", \"2041-12-31\", \"2042-12-31\", \"2043-12-31\", \"2044-12-31\", \"2045-12-31\", \"2046-12-31\", \"2047-12-31\", \"2048-12-31\", \"2049-12-31\", \"2050-12-31\", \"2051-12-31\", \"2052-12-31\", \"2053-12-31\", \"2054-12-31\", \"2055-12-31\", \"2056-12-31\", \"2057-12-31\", \"2058-12-31\", \"2059-12-31\", \"2060-12-31\", \"2061-12-31\", \"2062-12-31\", \"2063-12-31\", \"2064-12-31\", \"2065-12-31\", \"2066-12-31\", \"2067-12-31\", \"2068-12-31\"], \"y\": [3, 3, 3, 4, 3, 4, 5, 4, 2, 4, 4, 5, 11, 10, 7, 10, 5, 1, 13, 14, 11, 15, 20, 14, 18, 21, 16, 23, 16, 21, 13, 12, 5, 7, 4, 4, 2, 0, 0, 0, 0, 0, 0, 0, 0, 0, 0, 0, 0, 0, 0, 0, 0, 0, 0, 0, 0, 0, 0, 0, 0, 0, 0, 0, 0, 0, 0, 0, 0, 0, 0, 0, 0, 0, 0, 0, 0, 0, 0, 0, 0, 0, 0, 0, 0, 0, 0, 0, 0, 0, 0, 0, 0, 1, 1, 2, 0, 2, 1, 1], \"type\": \"scatter\", \"uid\": \"0b0f67ea-1d1b-4e24-9a06-629bd16ed468\"}], {\"title\": {\"text\": \"Line Chart\"}, \"xaxis\": {\"title\": {\"font\": {\"size\": 15}}}, \"yaxis\": {\"title\": {\"font\": {\"size\": 16}}}}, {\"showLink\": false, \"linkText\": \"Export to plot.ly\", \"plotlyServerURL\": \"https://plot.ly\"}); \n",
       "}\n",
       "});</script><script type=\"text/javascript\">window.addEventListener(\"resize\", function(){if (document.getElementById(\"929db409-7a5a-4502-9347-785e8582a3e8\")) {window._Plotly.Plots.resize(document.getElementById(\"929db409-7a5a-4502-9347-785e8582a3e8\"));};})</script>"
      ],
      "text/vnd.plotly.v1+html": [
       "<div id=\"929db409-7a5a-4502-9347-785e8582a3e8\" style=\"height: 525px; width: 100%;\" class=\"plotly-graph-div\"></div><script type=\"text/javascript\">require([\"plotly\"], function(Plotly) { window.PLOTLYENV=window.PLOTLYENV || {};window.PLOTLYENV.BASE_URL=\"https://plot.ly\";\n",
       "if (document.getElementById(\"929db409-7a5a-4502-9347-785e8582a3e8\")) {\n",
       "    Plotly.newPlot(\"929db409-7a5a-4502-9347-785e8582a3e8\", [{\"line\": {\"width\": 3}, \"mode\": \"lines\", \"x\": [\"1969-12-31\", \"1970-12-31\", \"1971-12-31\", \"1972-12-31\", \"1973-12-31\", \"1974-12-31\", \"1975-12-31\", \"1976-12-31\", \"1977-12-31\", \"1978-12-31\", \"1979-12-31\", \"1980-12-31\", \"1981-12-31\", \"1982-12-31\", \"1983-12-31\", \"1984-12-31\", \"1985-12-31\", \"1986-12-31\", \"1987-12-31\", \"1988-12-31\", \"1989-12-31\", \"1990-12-31\", \"1991-12-31\", \"1992-12-31\", \"1993-12-31\", \"1994-12-31\", \"1995-12-31\", \"1996-12-31\", \"1997-12-31\", \"1998-12-31\", \"1999-12-31\", \"2000-12-31\", \"2001-12-31\", \"2002-12-31\", \"2003-12-31\", \"2004-12-31\", \"2005-12-31\", \"2006-12-31\", \"2007-12-31\", \"2008-12-31\", \"2009-12-31\", \"2010-12-31\", \"2011-12-31\", \"2012-12-31\", \"2013-12-31\", \"2014-12-31\", \"2015-12-31\", \"2016-12-31\", \"2017-12-31\", \"2018-12-31\", \"2019-12-31\", \"2020-12-31\", \"2021-12-31\", \"2022-12-31\", \"2023-12-31\", \"2024-12-31\", \"2025-12-31\", \"2026-12-31\", \"2027-12-31\", \"2028-12-31\", \"2029-12-31\", \"2030-12-31\", \"2031-12-31\", \"2032-12-31\", \"2033-12-31\", \"2034-12-31\", \"2035-12-31\", \"2036-12-31\", \"2037-12-31\", \"2038-12-31\", \"2039-12-31\", \"2040-12-31\", \"2041-12-31\", \"2042-12-31\", \"2043-12-31\", \"2044-12-31\", \"2045-12-31\", \"2046-12-31\", \"2047-12-31\", \"2048-12-31\", \"2049-12-31\", \"2050-12-31\", \"2051-12-31\", \"2052-12-31\", \"2053-12-31\", \"2054-12-31\", \"2055-12-31\", \"2056-12-31\", \"2057-12-31\", \"2058-12-31\", \"2059-12-31\", \"2060-12-31\", \"2061-12-31\", \"2062-12-31\", \"2063-12-31\", \"2064-12-31\", \"2065-12-31\", \"2066-12-31\", \"2067-12-31\", \"2068-12-31\"], \"y\": [3, 3, 3, 4, 3, 4, 5, 4, 2, 4, 4, 5, 11, 10, 7, 10, 5, 1, 13, 14, 11, 15, 20, 14, 18, 21, 16, 23, 16, 21, 13, 12, 5, 7, 4, 4, 2, 0, 0, 0, 0, 0, 0, 0, 0, 0, 0, 0, 0, 0, 0, 0, 0, 0, 0, 0, 0, 0, 0, 0, 0, 0, 0, 0, 0, 0, 0, 0, 0, 0, 0, 0, 0, 0, 0, 0, 0, 0, 0, 0, 0, 0, 0, 0, 0, 0, 0, 0, 0, 0, 0, 0, 0, 1, 1, 2, 0, 2, 1, 1], \"type\": \"scatter\", \"uid\": \"0b0f67ea-1d1b-4e24-9a06-629bd16ed468\"}], {\"title\": {\"text\": \"Line Chart\"}, \"xaxis\": {\"title\": {\"font\": {\"size\": 15}}}, \"yaxis\": {\"title\": {\"font\": {\"size\": 16}}}}, {\"showLink\": false, \"linkText\": \"Export to plot.ly\", \"plotlyServerURL\": \"https://plot.ly\"}); \n",
       "}\n",
       "});</script><script type=\"text/javascript\">window.addEventListener(\"resize\", function(){if (document.getElementById(\"929db409-7a5a-4502-9347-785e8582a3e8\")) {window._Plotly.Plots.resize(document.getElementById(\"929db409-7a5a-4502-9347-785e8582a3e8\"));};})</script>"
      ]
     },
     "metadata": {},
     "output_type": "display_data"
    }
   ],
   "source": [
    "real_dates = users[users.dob_fix.notna()]\n",
    "birth_years = real_dates.groupby(pd.Grouper(key='dob_fix', freq='y')).size().reset_index()\n",
    "lines_births = cm.line_chart(birth_years, x_col='dob_fix', y_col=0)\n",
    "cm.iplot(lines_births)"
   ]
  },
  {
   "cell_type": "markdown",
   "metadata": {},
   "source": [
    "#### Load Symptoms"
   ]
  },
  {
   "cell_type": "code",
   "execution_count": 57,
   "metadata": {},
   "outputs": [
    {
     "name": "stdout",
     "output_type": "stream",
     "text": [
      "<class 'pandas.core.frame.DataFrame'>\n",
      "RangeIndex: 13512 entries, 0 to 13511\n",
      "Data columns (total 14 columns):\n",
      "id          13512 non-null int64\n",
      "user_id     13512 non-null int64\n",
      "acne        13512 non-null int64\n",
      "backache    13512 non-null int64\n",
      "bloating    13512 non-null int64\n",
      "cramp       13512 non-null int64\n",
      "diarrhea    13512 non-null int64\n",
      "dizzy       13512 non-null int64\n",
      "headache    13512 non-null int64\n",
      "mood        13512 non-null int64\n",
      "nausea      13512 non-null int64\n",
      "sore        13512 non-null int64\n",
      "date        13512 non-null object\n",
      "date_fix    13511 non-null datetime64[ns]\n",
      "dtypes: datetime64[ns](1), int64(12), object(1)\n",
      "memory usage: 1.4+ MB\n"
     ]
    }
   ],
   "source": [
    "symptoms = pd.read_csv('./Symptom.csv')\n",
    "symptoms.rename(columns={'id': 'symptom_id'})\n",
    "symptoms['date_fix'] = pd.to_datetime(symptoms.date, errors='coerce')\n",
    "symptoms.info()"
   ]
  },
  {
   "cell_type": "markdown",
   "metadata": {},
   "source": [
    "#### User responses"
   ]
  },
  {
   "cell_type": "code",
   "execution_count": 46,
   "metadata": {},
   "outputs": [
    {
     "data": {
      "text/plain": [
       "count    3953.000000\n",
       "mean        3.418163\n",
       "std         6.645441\n",
       "min         1.000000\n",
       "25%         1.000000\n",
       "50%         1.000000\n",
       "75%         3.000000\n",
       "max       182.000000\n",
       "dtype: float64"
      ]
     },
     "execution_count": 46,
     "metadata": {},
     "output_type": "execute_result"
    }
   ],
   "source": [
    "symptoms.groupby('user_id').size().describe()"
   ]
  },
  {
   "cell_type": "markdown",
   "metadata": {},
   "source": [
    "#### Read Period Data"
   ]
  },
  {
   "cell_type": "code",
   "execution_count": 85,
   "metadata": {},
   "outputs": [
    {
     "name": "stdout",
     "output_type": "stream",
     "text": [
      "<class 'pandas.core.frame.DataFrame'>\n",
      "RangeIndex: 34942 entries, 0 to 34941\n",
      "Data columns (total 6 columns):\n",
      "id                34942 non-null int64\n",
      "start_date        34939 non-null object\n",
      "end_date          32168 non-null object\n",
      "user_id           34942 non-null int64\n",
      "start_date_fix    34934 non-null datetime64[ns]\n",
      "end_date_fix      32163 non-null datetime64[ns]\n",
      "dtypes: datetime64[ns](2), int64(2), object(2)\n",
      "memory usage: 1.6+ MB\n"
     ]
    }
   ],
   "source": [
    "periods = pd.read_csv('./Period.csv')\n",
    "periods.rename(columns={'id': 'period_id'})\n",
    "periods.columns = periods.columns.str.lower()\n",
    "periods['start_date_fix'] = pd.to_datetime(periods.start_date, errors='coerce', dayfirst=True)\n",
    "periods['end_date_fix'] = pd.to_datetime(periods.end_date, errors='coerce', dayfirst=True)\n",
    "periods.info()"
   ]
  },
  {
   "cell_type": "markdown",
   "metadata": {},
   "source": [
    "#### add period length"
   ]
  },
  {
   "cell_type": "code",
   "execution_count": 86,
   "metadata": {},
   "outputs": [
    {
     "data": {
      "text/plain": [
       "count                     32163\n",
       "mean     4 days 20:06:09.368529\n",
       "std      5 days 18:08:52.487068\n",
       "min          -22 days +00:00:00\n",
       "25%             4 days 00:00:00\n",
       "50%             5 days 00:00:00\n",
       "75%             6 days 00:00:00\n",
       "max           383 days 00:00:00\n",
       "Name: length, dtype: object"
      ]
     },
     "execution_count": 86,
     "metadata": {},
     "output_type": "execute_result"
    }
   ],
   "source": [
    "periods['length'] = periods.end_date_fix - periods.start_date_fix\n",
    "periods['length'].describe()"
   ]
  },
  {
   "cell_type": "markdown",
   "metadata": {},
   "source": [
    "#### fix dates"
   ]
  },
  {
   "cell_type": "code",
   "execution_count": 87,
   "metadata": {},
   "outputs": [
    {
     "data": {
      "text/html": [
       "<div>\n",
       "<style scoped>\n",
       "    .dataframe tbody tr th:only-of-type {\n",
       "        vertical-align: middle;\n",
       "    }\n",
       "\n",
       "    .dataframe tbody tr th {\n",
       "        vertical-align: top;\n",
       "    }\n",
       "\n",
       "    .dataframe thead th {\n",
       "        text-align: right;\n",
       "    }\n",
       "</style>\n",
       "<table border=\"1\" class=\"dataframe\">\n",
       "  <thead>\n",
       "    <tr style=\"text-align: right;\">\n",
       "      <th></th>\n",
       "      <th>start_date_fix</th>\n",
       "      <th>end_date_fix</th>\n",
       "    </tr>\n",
       "  </thead>\n",
       "  <tbody>\n",
       "    <tr>\n",
       "      <th>count</th>\n",
       "      <td>34934</td>\n",
       "      <td>32163</td>\n",
       "    </tr>\n",
       "    <tr>\n",
       "      <th>unique</th>\n",
       "      <td>1579</td>\n",
       "      <td>1566</td>\n",
       "    </tr>\n",
       "    <tr>\n",
       "      <th>top</th>\n",
       "      <td>2016-01-01 00:00:00</td>\n",
       "      <td>2016-07-31 00:00:00</td>\n",
       "    </tr>\n",
       "    <tr>\n",
       "      <th>freq</th>\n",
       "      <td>53</td>\n",
       "      <td>45</td>\n",
       "    </tr>\n",
       "    <tr>\n",
       "      <th>first</th>\n",
       "      <td>1997-04-17 00:00:00</td>\n",
       "      <td>1997-04-24 00:00:00</td>\n",
       "    </tr>\n",
       "    <tr>\n",
       "      <th>last</th>\n",
       "      <td>2061-10-30 00:00:00</td>\n",
       "      <td>2061-10-28 00:00:00</td>\n",
       "    </tr>\n",
       "  </tbody>\n",
       "</table>\n",
       "</div>"
      ],
      "text/plain": [
       "             start_date_fix         end_date_fix\n",
       "count                 34934                32163\n",
       "unique                 1579                 1566\n",
       "top     2016-01-01 00:00:00  2016-07-31 00:00:00\n",
       "freq                     53                   45\n",
       "first   1997-04-17 00:00:00  1997-04-24 00:00:00\n",
       "last    2061-10-30 00:00:00  2061-10-28 00:00:00"
      ]
     },
     "execution_count": 87,
     "metadata": {},
     "output_type": "execute_result"
    }
   ],
   "source": [
    "periods[['start_date_fix', 'end_date_fix']].describe()"
   ]
  },
  {
   "cell_type": "markdown",
   "metadata": {},
   "source": [
    "#### Periods with dates over today\n",
    "- why would there be data from 1958-61"
   ]
  },
  {
   "cell_type": "code",
   "execution_count": 88,
   "metadata": {},
   "outputs": [
    {
     "data": {
      "text/plain": [
       "59    20\n",
       "60    10\n",
       "61     7\n",
       "58     3\n",
       "Name: start_date, dtype: int64"
      ]
     },
     "execution_count": 88,
     "metadata": {},
     "output_type": "execute_result"
    }
   ],
   "source": [
    "periods.loc[periods.start_date_fix > pd.to_datetime('today'), 'start_date'].str[-2:].value_counts()"
   ]
  },
  {
   "cell_type": "markdown",
   "metadata": {},
   "source": [
    "#### A lot with period less than 0"
   ]
  },
  {
   "cell_type": "code",
   "execution_count": 90,
   "metadata": {},
   "outputs": [
    {
     "name": "stdout",
     "output_type": "stream",
     "text": [
      "Periods with negative times: 50\n"
     ]
    },
    {
     "data": {
      "text/html": [
       "<div>\n",
       "<style scoped>\n",
       "    .dataframe tbody tr th:only-of-type {\n",
       "        vertical-align: middle;\n",
       "    }\n",
       "\n",
       "    .dataframe tbody tr th {\n",
       "        vertical-align: top;\n",
       "    }\n",
       "\n",
       "    .dataframe thead th {\n",
       "        text-align: right;\n",
       "    }\n",
       "</style>\n",
       "<table border=\"1\" class=\"dataframe\">\n",
       "  <thead>\n",
       "    <tr style=\"text-align: right;\">\n",
       "      <th></th>\n",
       "      <th>id</th>\n",
       "      <th>start_date</th>\n",
       "      <th>end_date</th>\n",
       "      <th>user_id</th>\n",
       "      <th>start_date_fix</th>\n",
       "      <th>end_date_fix</th>\n",
       "      <th>length</th>\n",
       "    </tr>\n",
       "  </thead>\n",
       "  <tbody>\n",
       "    <tr>\n",
       "      <th>15392</th>\n",
       "      <td>17659</td>\n",
       "      <td>13/1/17</td>\n",
       "      <td>8/1/17</td>\n",
       "      <td>1329</td>\n",
       "      <td>2017-01-13</td>\n",
       "      <td>2017-01-08</td>\n",
       "      <td>-5 days</td>\n",
       "    </tr>\n",
       "    <tr>\n",
       "      <th>26443</th>\n",
       "      <td>29694</td>\n",
       "      <td>31/3/18</td>\n",
       "      <td>25/3/18</td>\n",
       "      <td>3723</td>\n",
       "      <td>2018-03-31</td>\n",
       "      <td>2018-03-25</td>\n",
       "      <td>-6 days</td>\n",
       "    </tr>\n",
       "    <tr>\n",
       "      <th>16232</th>\n",
       "      <td>18585</td>\n",
       "      <td>12/2/17</td>\n",
       "      <td>7/2/17</td>\n",
       "      <td>1329</td>\n",
       "      <td>2017-02-12</td>\n",
       "      <td>2017-02-07</td>\n",
       "      <td>-5 days</td>\n",
       "    </tr>\n",
       "    <tr>\n",
       "      <th>10125</th>\n",
       "      <td>11863</td>\n",
       "      <td>28/7/16</td>\n",
       "      <td>25/7/16</td>\n",
       "      <td>838</td>\n",
       "      <td>2016-07-28</td>\n",
       "      <td>2016-07-25</td>\n",
       "      <td>-3 days</td>\n",
       "    </tr>\n",
       "    <tr>\n",
       "      <th>23643</th>\n",
       "      <td>26715</td>\n",
       "      <td>5/12/17</td>\n",
       "      <td>27/11/17</td>\n",
       "      <td>3723</td>\n",
       "      <td>2017-12-05</td>\n",
       "      <td>2017-11-27</td>\n",
       "      <td>-8 days</td>\n",
       "    </tr>\n",
       "  </tbody>\n",
       "</table>\n",
       "</div>"
      ],
      "text/plain": [
       "          id start_date  end_date  user_id start_date_fix end_date_fix  length\n",
       "15392  17659    13/1/17    8/1/17     1329     2017-01-13   2017-01-08 -5 days\n",
       "26443  29694    31/3/18   25/3/18     3723     2018-03-31   2018-03-25 -6 days\n",
       "16232  18585    12/2/17    7/2/17     1329     2017-02-12   2017-02-07 -5 days\n",
       "10125  11863    28/7/16   25/7/16      838     2016-07-28   2016-07-25 -3 days\n",
       "23643  26715    5/12/17  27/11/17     3723     2017-12-05   2017-11-27 -8 days"
      ]
     },
     "execution_count": 90,
     "metadata": {},
     "output_type": "execute_result"
    }
   ],
   "source": [
    "negatives_periods = periods[periods['length'] < pd.to_timedelta(0, unit='days')] \n",
    "print('Periods with negative times:', negatives_periods.shape[0])\n",
    "negatives_periods.sample(5)\n"
   ]
  },
  {
   "cell_type": "markdown",
   "metadata": {},
   "source": [
    "#### periods with long length"
   ]
  },
  {
   "cell_type": "code",
   "execution_count": 97,
   "metadata": {},
   "outputs": [
    {
     "name": "stdout",
     "output_type": "stream",
     "text": [
      "Count of periods over 20 days: 106\n"
     ]
    }
   ],
   "source": [
    "max_days = 20\n",
    "long_periods = periods[periods['length'] > pd.to_timedelta(max_days, unit='days')]\n",
    "print('Count of periods over {} days: {}'.format(max_days, long_periods.shape[0]))"
   ]
  },
  {
   "cell_type": "markdown",
   "metadata": {},
   "source": [
    "# Clean dates for periods\n",
    "- drop anything under 0 days in length\n",
    "- drop any period with a start or end date before toda"
   ]
  },
  {
   "cell_type": "code",
   "execution_count": 108,
   "metadata": {},
   "outputs": [
    {
     "name": "stdout",
     "output_type": "stream",
     "text": [
      "Predrop: 34942\n",
      "after dropping negative period length: 32113\n",
      "after dropping start dates before today: 32076\n",
      "after dropping end dates before today: 32076\n",
      "after dropping periods over 20 days: 31964\n"
     ]
    }
   ],
   "source": [
    "print('Predrop:', periods.shape[0])\n",
    "clean_periods = periods[periods.length >= pd.to_timedelta(0, unit='days')].copy()\n",
    "print('after dropping negative period length:', clean_periods.shape[0])\n",
    "clean_periods = clean_periods[clean_periods.start_date_fix < pd.to_datetime('today')]\n",
    "print('after dropping start dates before today:', clean_periods.shape[0])\n",
    "clean_periods = clean_periods[clean_periods.end_date_fix < pd.to_datetime('today')]\n",
    "print('after dropping end dates before today:', clean_periods.shape[0])\n",
    "max_days = 20\n",
    "clean_periods = clean_periods[clean_periods['length'] < pd.to_timedelta(max_days, unit='days')]\n",
    "print('after dropping periods over {} days: {}'.format(max_days, clean_periods.shape[0]))"
   ]
  },
  {
   "cell_type": "code",
   "execution_count": 109,
   "metadata": {},
   "outputs": [
    {
     "data": {
      "text/plain": [
       "count                     31964\n",
       "mean     4 days 16:11:58.107871\n",
       "std      1 days 15:34:35.670295\n",
       "min             0 days 00:00:00\n",
       "25%             4 days 00:00:00\n",
       "50%             5 days 00:00:00\n",
       "75%             6 days 00:00:00\n",
       "max            19 days 00:00:00\n",
       "Name: length, dtype: object"
      ]
     },
     "execution_count": 109,
     "metadata": {},
     "output_type": "execute_result"
    }
   ],
   "source": [
    "clean_periods.length.describe()"
   ]
  }
 ],
 "metadata": {
  "kernelspec": {
   "display_name": "Python 3",
   "language": "python",
   "name": "python3"
  },
  "language_info": {
   "codemirror_mode": {
    "name": "ipython",
    "version": 3
   },
   "file_extension": ".py",
   "mimetype": "text/x-python",
   "name": "python",
   "nbconvert_exporter": "python",
   "pygments_lexer": "ipython3",
   "version": "3.6.6"
  }
 },
 "nbformat": 4,
 "nbformat_minor": 2
}

{
 "cells": [
  {
   "cell_type": "code",
   "execution_count": 1,
   "metadata": {},
   "outputs": [],
   "source": [
    "import pandas as pd\n",
    "import numpy as np\n",
    "import os"
   ]
  },
  {
   "cell_type": "markdown",
   "metadata": {},
   "source": [
    "# Load Data sets"
   ]
  },
  {
   "cell_type": "markdown",
   "metadata": {},
   "source": [
    "#### Load users"
   ]
  },
  {
   "cell_type": "code",
   "execution_count": 2,
   "metadata": {},
   "outputs": [
    {
     "name": "stdout",
     "output_type": "stream",
     "text": [
      "<class 'pandas.core.frame.DataFrame'>\n",
      "RangeIndex: 6729 entries, 0 to 6728\n",
      "Data columns (total 5 columns):\n",
      "user_id                  6729 non-null object\n",
      "dob                      440 non-null object\n",
      "cycle_length_initial     6729 non-null int64\n",
      "period_length_initial    6729 non-null int64\n",
      "dob_fix                  345 non-null datetime64[ns]\n",
      "dtypes: datetime64[ns](1), int64(2), object(2)\n",
      "memory usage: 262.9+ KB\n"
     ]
    }
   ],
   "source": [
    "dtypes = {'id': 'str'}\n",
    "user_file_path = os.path.join('..', 'data_in', 'User.csv')\n",
    "users = pd.read_csv(user_file_path, dtype=dtypes)\n",
    "users['dob_fix'] = pd.to_datetime(users.dob, errors='coerce', dayfirst=True)\n",
    "users.rename(columns={'id': 'user_id'}, inplace=True)\n",
    "users.info()"
   ]
  },
  {
   "cell_type": "markdown",
   "metadata": {},
   "source": [
    "#### Check users\n",
    "- still some issues"
   ]
  },
  {
   "cell_type": "code",
   "execution_count": 3,
   "metadata": {},
   "outputs": [
    {
     "data": {
      "text/plain": [
       "<matplotlib.axes._subplots.AxesSubplot at 0xee33390>"
      ]
     },
     "execution_count": 3,
     "metadata": {},
     "output_type": "execute_result"
    }
   ],
   "source": [
    "real_dates = users[users.dob_fix.notna()]\n",
    "birth_years = real_dates.groupby(pd.Grouper(key='dob_fix', freq='y')).size().reset_index()\n",
    "#lines_births = cm.line_chart(birth_years, x_col='dob_fix', y_col=0)\n",
    "birth_years.plot.line(x='dob_fix', y=0)"
   ]
  },
  {
   "cell_type": "markdown",
   "metadata": {},
   "source": [
    "#### Load Symptoms"
   ]
  },
  {
   "cell_type": "code",
   "execution_count": 4,
   "metadata": {},
   "outputs": [
    {
     "name": "stdout",
     "output_type": "stream",
     "text": [
      "<class 'pandas.core.frame.DataFrame'>\n",
      "RangeIndex: 13512 entries, 0 to 13511\n",
      "Data columns (total 14 columns):\n",
      "symptom_id    13512 non-null int64\n",
      "user_id       13512 non-null int64\n",
      "acne          13512 non-null int64\n",
      "backache      13512 non-null int64\n",
      "bloating      13512 non-null int64\n",
      "cramp         13512 non-null int64\n",
      "diarrhea      13512 non-null int64\n",
      "dizzy         13512 non-null int64\n",
      "headache      13512 non-null int64\n",
      "mood          13512 non-null int64\n",
      "nausea        13512 non-null int64\n",
      "sore          13512 non-null int64\n",
      "date          13512 non-null object\n",
      "date_fix      13511 non-null datetime64[ns]\n",
      "dtypes: datetime64[ns](1), int64(12), object(1)\n",
      "memory usage: 1.4+ MB\n"
     ]
    }
   ],
   "source": [
    "file_path = os.path.join('..', 'data_in', 'Symptom.csv')\n",
    "symptoms = pd.read_csv(file_path)\n",
    "symptoms.rename(columns={'id': 'symptom_id'}, inplace=True)\n",
    "symptoms['date_fix'] = pd.to_datetime(symptoms.date, errors='coerce', dayfirst=True)\n",
    "symptoms.info()"
   ]
  },
  {
   "cell_type": "markdown",
   "metadata": {},
   "source": [
    "#### User responses"
   ]
  },
  {
   "cell_type": "code",
   "execution_count": 5,
   "metadata": {},
   "outputs": [
    {
     "data": {
      "text/plain": [
       "count    3953.000000\n",
       "mean        3.418163\n",
       "std         6.645441\n",
       "min         1.000000\n",
       "25%         1.000000\n",
       "50%         1.000000\n",
       "75%         3.000000\n",
       "max       182.000000\n",
       "dtype: float64"
      ]
     },
     "execution_count": 5,
     "metadata": {},
     "output_type": "execute_result"
    }
   ],
   "source": [
    "symptoms.groupby('user_id').size().describe()"
   ]
  },
  {
   "cell_type": "markdown",
   "metadata": {},
   "source": [
    "#### Times"
   ]
  },
  {
   "cell_type": "code",
   "execution_count": 6,
   "metadata": {},
   "outputs": [
    {
     "name": "stdout",
     "output_type": "stream",
     "text": [
      "records with dates before today: 12\n"
     ]
    },
    {
     "data": {
      "text/plain": [
       "<matplotlib.axes._subplots.AxesSubplot at 0x110ab7b8>"
      ]
     },
     "execution_count": 6,
     "metadata": {},
     "output_type": "execute_result"
    },
    {
     "data": {
      "image/png": "[encoded data removed]",
      "text/plain": [
       "<Figure size 432x288 with 1 Axes>"
      ]
     },
     "metadata": {},
     "output_type": "display_data"
    }
   ],
   "source": [
    "print('records with dates before today:', symptoms[symptoms.date_fix > pd.to_datetime('today')].shape[0])\n",
    "#plot vals\n",
    "syptom_years = symptoms.groupby([pd.Grouper(key='date_fix', freq='y')]).size().reset_index()\n",
    "syptom_years.plot.line(x='date_fix', y=0, title='Count of Symptom Records per Year')"
   ]
  },
  {
   "cell_type": "markdown",
   "metadata": {},
   "source": [
    "#### Read Period Data"
   ]
  },
  {
   "cell_type": "code",
   "execution_count": 7,
   "metadata": {},
   "outputs": [
    {
     "name": "stdout",
     "output_type": "stream",
     "text": [
      "<class 'pandas.core.frame.DataFrame'>\n",
      "RangeIndex: 34942 entries, 0 to 34941\n",
      "Data columns (total 6 columns):\n",
      "period_id         34942 non-null int64\n",
      "start_date        34939 non-null object\n",
      "end_date          32168 non-null object\n",
      "user_id           34942 non-null int64\n",
      "start_date_fix    34934 non-null datetime64[ns]\n",
      "end_date_fix      32163 non-null datetime64[ns]\n",
      "dtypes: datetime64[ns](2), int64(2), object(2)\n",
      "memory usage: 1.6+ MB\n"
     ]
    }
   ],
   "source": [
    "file_path = os.path.join('..', 'data_in', 'Period.csv')\n",
    "periods = pd.read_csv(file_path)\n",
    "periods.rename(columns={'id': 'period_id'}, inplace=True)\n",
    "periods.columns = periods.columns.str.lower()\n",
    "periods['start_date_fix'] = pd.to_datetime(periods.start_date, errors='coerce', dayfirst=True)\n",
    "periods['end_date_fix'] = pd.to_datetime(periods.end_date, errors='coerce', dayfirst=True)\n",
    "periods.info()"
   ]
  },
  {
   "cell_type": "markdown",
   "metadata": {},
   "source": [
    "#### add period length"
   ]
  },
  {
   "cell_type": "code",
   "execution_count": 8,
   "metadata": {},
   "outputs": [
    {
     "data": {
      "text/plain": [
       "count                     32163\n",
       "mean     4 days 20:06:09.368529\n",
       "std      5 days 18:08:52.487068\n",
       "min          -22 days +00:00:00\n",
       "25%             4 days 00:00:00\n",
       "50%             5 days 00:00:00\n",
       "75%             6 days 00:00:00\n",
       "max           383 days 00:00:00\n",
       "Name: length, dtype: object"
      ]
     },
     "execution_count": 8,
     "metadata": {},
     "output_type": "execute_result"
    }
   ],
   "source": [
    "periods['length'] = periods.end_date_fix - periods.start_date_fix\n",
    "periods['length'].describe()"
   ]
  },
  {
   "cell_type": "markdown",
   "metadata": {},
   "source": [
    "#### Periods with dates over today\n",
    "- why would there be data from 1958-61"
   ]
  },
  {
   "cell_type": "code",
   "execution_count": 9,
   "metadata": {},
   "outputs": [
    {
     "data": {
      "text/plain": [
       "59    20\n",
       "60    10\n",
       "61     7\n",
       "58     3\n",
       "Name: start_date, dtype: int64"
      ]
     },
     "execution_count": 9,
     "metadata": {},
     "output_type": "execute_result"
    }
   ],
   "source": [
    "periods.loc[periods.start_date_fix > pd.to_datetime('today'), 'start_date'].str[-2:].value_counts()"
   ]
  },
  {
   "cell_type": "markdown",
   "metadata": {},
   "source": [
    "#### A lot with period less than 0"
   ]
  },
  {
   "cell_type": "code",
   "execution_count": 10,
   "metadata": {},
   "outputs": [
    {
     "name": "stdout",
     "output_type": "stream",
     "text": [
      "Periods with negative times: 50\n"
     ]
    },
    {
     "data": {
      "text/html": [
       "<div>\n",
       "<style scoped>\n",
       "    .dataframe tbody tr th:only-of-type {\n",
       "        vertical-align: middle;\n",
       "    }\n",
       "\n",
       "    .dataframe tbody tr th {\n",
       "        vertical-align: top;\n",
       "    }\n",
       "\n",
       "    .dataframe thead th {\n",
       "        text-align: right;\n",
       "    }\n",
       "</style>\n",
       "<table border=\"1\" class=\"dataframe\">\n",
       "  <thead>\n",
       "    <tr style=\"text-align: right;\">\n",
       "      <th></th>\n",
       "      <th>period_id</th>\n",
       "      <th>start_date</th>\n",
       "      <th>end_date</th>\n",
       "      <th>user_id</th>\n",
       "      <th>start_date_fix</th>\n",
       "      <th>end_date_fix</th>\n",
       "      <th>length</th>\n",
       "    </tr>\n",
       "  </thead>\n",
       "  <tbody>\n",
       "    <tr>\n",
       "      <th>13527</th>\n",
       "      <td>15629</td>\n",
       "      <td>10/11/16</td>\n",
       "      <td>6/11/16</td>\n",
       "      <td>1329</td>\n",
       "      <td>2016-11-10</td>\n",
       "      <td>2016-11-06</td>\n",
       "      <td>-4 days</td>\n",
       "    </tr>\n",
       "    <tr>\n",
       "      <th>2758</th>\n",
       "      <td>3756</td>\n",
       "      <td>19/12/15</td>\n",
       "      <td>18/12/15</td>\n",
       "      <td>687</td>\n",
       "      <td>2015-12-19</td>\n",
       "      <td>2015-12-18</td>\n",
       "      <td>-1 days</td>\n",
       "    </tr>\n",
       "    <tr>\n",
       "      <th>26443</th>\n",
       "      <td>29694</td>\n",
       "      <td>31/3/18</td>\n",
       "      <td>25/3/18</td>\n",
       "      <td>3723</td>\n",
       "      <td>2018-03-31</td>\n",
       "      <td>2018-03-25</td>\n",
       "      <td>-6 days</td>\n",
       "    </tr>\n",
       "    <tr>\n",
       "      <th>24806</th>\n",
       "      <td>27960</td>\n",
       "      <td>18/1/18</td>\n",
       "      <td>16/1/18</td>\n",
       "      <td>3074</td>\n",
       "      <td>2018-01-18</td>\n",
       "      <td>2018-01-16</td>\n",
       "      <td>-2 days</td>\n",
       "    </tr>\n",
       "    <tr>\n",
       "      <th>16232</th>\n",
       "      <td>18585</td>\n",
       "      <td>12/2/17</td>\n",
       "      <td>7/2/17</td>\n",
       "      <td>1329</td>\n",
       "      <td>2017-02-12</td>\n",
       "      <td>2017-02-07</td>\n",
       "      <td>-5 days</td>\n",
       "    </tr>\n",
       "  </tbody>\n",
       "</table>\n",
       "</div>"
      ],
      "text/plain": [
       "       period_id start_date  end_date  user_id start_date_fix end_date_fix  \\\n",
       "13527      15629   10/11/16   6/11/16     1329     2016-11-10   2016-11-06   \n",
       "2758        3756   19/12/15  18/12/15      687     2015-12-19   2015-12-18   \n",
       "26443      29694    31/3/18   25/3/18     3723     2018-03-31   2018-03-25   \n",
       "24806      27960    18/1/18   16/1/18     3074     2018-01-18   2018-01-16   \n",
       "16232      18585    12/2/17    7/2/17     1329     2017-02-12   2017-02-07   \n",
       "\n",
       "       length  \n",
       "13527 -4 days  \n",
       "2758  -1 days  \n",
       "26443 -6 days  \n",
       "24806 -2 days  \n",
       "16232 -5 days  "
      ]
     },
     "execution_count": 10,
     "metadata": {},
     "output_type": "execute_result"
    }
   ],
   "source": [
    "negatives_periods = periods[periods['length'] < pd.to_timedelta(0, unit='days')] \n",
    "print('Periods with negative times:', negatives_periods.shape[0])\n",
    "negatives_periods.sample(5)"
   ]
  },
  {
   "cell_type": "markdown",
   "metadata": {},
   "source": [
    "#### periods with long length"
   ]
  },
  {
   "cell_type": "code",
   "execution_count": 11,
   "metadata": {},
   "outputs": [
    {
     "name": "stdout",
     "output_type": "stream",
     "text": [
      "Count of periods over 20 days: 106\n"
     ]
    }
   ],
   "source": [
    "max_days = 20\n",
    "long_periods = periods[periods['length'] > pd.to_timedelta(max_days, unit='days')]\n",
    "print('Count of periods over {} days: {}'.format(max_days, long_periods.shape[0]))"
   ]
  },
  {
   "cell_type": "markdown",
   "metadata": {},
   "source": [
    "# Clean dates for periods\n",
    "- drop anything under 0 days in length\n",
    "- drop any period with a start or end date before toda"
   ]
  },
  {
   "cell_type": "code",
   "execution_count": 12,
   "metadata": {},
   "outputs": [
    {
     "name": "stdout",
     "output_type": "stream",
     "text": [
      "Predrop: 34942\n",
      "after dropping negative period length: 32113\n",
      "after dropping start dates before today: 32076\n",
      "after dropping end dates before today: 32076\n",
      "after dropping periods over 20 days: 31964\n"
     ]
    }
   ],
   "source": [
    "print('Predrop:', periods.shape[0])\n",
    "clean_periods = periods[periods.length >= pd.to_timedelta(0, unit='days')].copy()\n",
    "print('after dropping negative period length:', clean_periods.shape[0])\n",
    "clean_periods = clean_periods[clean_periods.start_date_fix < pd.to_datetime('today')]\n",
    "print('after dropping start dates before today:', clean_periods.shape[0])\n",
    "clean_periods = clean_periods[clean_periods.end_date_fix < pd.to_datetime('today')]\n",
    "print('after dropping end dates before today:', clean_periods.shape[0])\n",
    "max_days = 20\n",
    "clean_periods = clean_periods[clean_periods['length'] < pd.to_timedelta(max_days, unit='days')]\n",
    "print('after dropping periods over {} days: {}'.format(max_days, clean_periods.shape[0]))"
   ]
  },
  {
   "cell_type": "markdown",
   "metadata": {},
   "source": [
    "# Clean dates for symptoms\n",
    "- drop data before today"
   ]
  },
  {
   "cell_type": "code",
   "execution_count": 13,
   "metadata": {},
   "outputs": [
    {
     "name": "stdout",
     "output_type": "stream",
     "text": [
      "total rowns: 13512\n",
      "after drpping rows after today: 13499\n"
     ]
    }
   ],
   "source": [
    "print('total rowns:', symptoms.shape[0])\n",
    "symptoms_clean = symptoms[symptoms.date_fix < pd.to_datetime('today')].copy()\n",
    "print('after drpping rows after today:', symptoms_clean.shape[0])"
   ]
  },
  {
   "cell_type": "markdown",
   "metadata": {},
   "source": [
    "# Export the Data"
   ]
  },
  {
   "cell_type": "code",
   "execution_count": 14,
   "metadata": {},
   "outputs": [],
   "source": [
    "# wrtie user data\n",
    "user_file_path = os.path.join('..', 'data_out', 'User_clean.csv')\n",
    "users.to_csv(user_file_path)\n",
    "# wrtie syptoms\n",
    "symptom_file_path = os.path.join('..', 'data_out', 'Symptoms_clean.csv')\n",
    "symptoms.to_csv(symptom_file_path)\n",
    "# wrtie periods\n",
    "period_file_path = os.path.join('..', 'data_out', 'Clean_periods_clean.csv')\n",
    "clean_periods.to_csv(period_file_path)"
   ]
  }
 ],
 "metadata": {
  "kernelspec": {
   "display_name": "Python 3",
   "language": "python",
   "name": "python3"
  },
  "language_info": {
   "codemirror_mode": {
    "name": "ipython",
    "version": 3
   },
   "file_extension": ".py",
   "mimetype": "text/x-python",
   "name": "python",
   "nbconvert_exporter": "python",
   "pygments_lexer": "ipython3",
   "version": "3.6.6"
  }
 },
 "nbformat": 4,
 "nbformat_minor": 2
}

{
 "cells": [
  {
   "cell_type": "code",
   "execution_count": 1,
   "metadata": {},
   "outputs": [],
   "source": [
    "import pandas as pd\n",
    "import numpy as np\n",
    "import os"
   ]
  },
  {
   "cell_type": "markdown",
   "metadata": {},
   "source": [
    "# Load Data sets"
   ]
  },
  {
   "cell_type": "markdown",
   "metadata": {},
   "source": [
    "#### Load users"
   ]
  },
  {
   "cell_type": "code",
   "execution_count": 2,
   "metadata": {},
   "outputs": [
    {
     "name": "stdout",
     "output_type": "stream",
     "text": [
      "<class 'pandas.core.frame.DataFrame'>\n",
      "RangeIndex: 6729 entries, 0 to 6728\n",
      "Data columns (total 5 columns):\n",
      "id                       6729 non-null object\n",
      "dob                      440 non-null object\n",
      "cycle_length_initial     6729 non-null int64\n",
      "period_length_initial    6729 non-null int64\n",
      "dob_fix                  345 non-null datetime64[ns]\n",
      "dtypes: datetime64[ns](1), int64(2), object(2)\n",
      "memory usage: 262.9+ KB\n"
     ]
    }
   ],
   "source": [
    "dtypes = {'id': 'str'}\n",
    "user_file_path = os.path.join('..', 'data_in', 'User.csv')\n",
    "users = pd.read_csv(user_file_path, dtype=dtypes)\n",
    "users['dob_fix'] = pd.to_datetime(users.dob, errors='coerce')\n",
    "users.info()"
   ]
  },
  {
   "cell_type": "markdown",
   "metadata": {},
   "source": [
    "#### Check users\n",
    "- still some issues"
   ]
  },
  {
   "cell_type": "code",
   "execution_count": 4,
   "metadata": {},
   "outputs": [],
   "source": [
    "real_dates = users[users.dob_fix.notna()]\n",
    "birth_years = real_dates.groupby(pd.Grouper(key='dob_fix', freq='y')).size().reset_index()\n",
    "#lines_births = cm.line_chart(birth_years, x_col='dob_fix', y_col=0)\n",
    "birth_years.plot.line(x='dob_fix', y=0)\n",
    "%matplotlib inline "
   ]
  },
  {
   "cell_type": "markdown",
   "metadata": {},
   "source": [
    "#### Load Symptoms"
   ]
  },
  {
   "cell_type": "code",
   "execution_count": null,
   "metadata": {},
   "outputs": [],
   "source": [
    "file_path = os.path.join('..', 'data_in', 'Symptom.csv')\n",
    "symptoms = pd.read_csv(file_path)\n",
    "symptoms.rename(columns={'id': 'symptom_id'})\n",
    "symptoms['date_fix'] = pd.to_datetime(symptoms.date, errors='coerce')\n",
    "symptoms.info()"
   ]
  },
  {
   "cell_type": "markdown",
   "metadata": {},
   "source": [
    "#### User responses"
   ]
  },
  {
   "cell_type": "code",
   "execution_count": null,
   "metadata": {},
   "outputs": [],
   "source": [
    "symptoms.groupby('user_id').size().describe()"
   ]
  },
  {
   "cell_type": "markdown",
   "metadata": {},
   "source": [
    "#### Read Period Data"
   ]
  },
  {
   "cell_type": "code",
   "execution_count": null,
   "metadata": {},
   "outputs": [],
   "source": [
    "file_path = os.path.join('..', 'data_in', 'Period.csv')\n",
    "periods = pd.read_csv(file_path)\n",
    "periods.rename(columns={'id': 'period_id'})\n",
    "periods.columns = periods.columns.str.lower()\n",
    "periods['start_date_fix'] = pd.to_datetime(periods.start_date, errors='coerce', dayfirst=True)\n",
    "periods['end_date_fix'] = pd.to_datetime(periods.end_date, errors='coerce', dayfirst=True)\n",
    "periods.info()"
   ]
  },
  {
   "cell_type": "markdown",
   "metadata": {},
   "source": [
    "#### add period length"
   ]
  },
  {
   "cell_type": "code",
   "execution_count": null,
   "metadata": {},
   "outputs": [],
   "source": [
    "periods['length'] = periods.end_date_fix - periods.start_date_fix\n",
    "periods['length'].describe()"
   ]
  },
  {
   "cell_type": "markdown",
   "metadata": {},
   "source": [
    "#### fix dates"
   ]
  },
  {
   "cell_type": "code",
   "execution_count": null,
   "metadata": {},
   "outputs": [],
   "source": [
    "periods[['start_date_fix', 'end_date_fix']].describe()"
   ]
  },
  {
   "cell_type": "markdown",
   "metadata": {},
   "source": [
    "#### Periods with dates over today\n",
    "- why would there be data from 1958-61"
   ]
  },
  {
   "cell_type": "code",
   "execution_count": null,
   "metadata": {},
   "outputs": [],
   "source": [
    "periods.loc[periods.start_date_fix > pd.to_datetime('today'), 'start_date'].str[-2:].value_counts()"
   ]
  },
  {
   "cell_type": "markdown",
   "metadata": {},
   "source": [
    "#### A lot with period less than 0"
   ]
  },
  {
   "cell_type": "code",
   "execution_count": null,
   "metadata": {},
   "outputs": [],
   "source": [
    "negatives_periods = periods[periods['length'] < pd.to_timedelta(0, unit='days')] \n",
    "print('Periods with negative times:', negatives_periods.shape[0])\n",
    "negatives_periods.sample(5)\n"
   ]
  },
  {
   "cell_type": "markdown",
   "metadata": {},
   "source": [
    "#### periods with long length"
   ]
  },
  {
   "cell_type": "code",
   "execution_count": null,
   "metadata": {},
   "outputs": [],
   "source": [
    "max_days = 20\n",
    "long_periods = periods[periods['length'] > pd.to_timedelta(max_days, unit='days')]\n",
    "print('Count of periods over {} days: {}'.format(max_days, long_periods.shape[0]))"
   ]
  },
  {
   "cell_type": "markdown",
   "metadata": {},
   "source": [
    "# Clean dates for periods\n",
    "- drop anything under 0 days in length\n",
    "- drop any period with a start or end date before toda"
   ]
  },
  {
   "cell_type": "code",
   "execution_count": null,
   "metadata": {},
   "outputs": [],
   "source": [
    "print('Predrop:', periods.shape[0])\n",
    "clean_periods = periods[periods.length >= pd.to_timedelta(0, unit='days')].copy()\n",
    "print('after dropping negative period length:', clean_periods.shape[0])\n",
    "clean_periods = clean_periods[clean_periods.start_date_fix < pd.to_datetime('today')]\n",
    "print('after dropping start dates before today:', clean_periods.shape[0])\n",
    "clean_periods = clean_periods[clean_periods.end_date_fix < pd.to_datetime('today')]\n",
    "print('after dropping end dates before today:', clean_periods.shape[0])\n",
    "max_days = 20\n",
    "clean_periods = clean_periods[clean_periods['length'] < pd.to_timedelta(max_days, unit='days')]\n",
    "print('after dropping periods over {} days: {}'.format(max_days, clean_periods.shape[0]))"
   ]
  },
  {
   "cell_type": "code",
   "execution_count": null,
   "metadata": {},
   "outputs": [],
   "source": [
    "clean_periods.length.describe()"
   ]
  }
 ],
 "metadata": {
  "kernelspec": {
   "display_name": "Python 3",
   "language": "python",
   "name": "python3"
  },
  "language_info": {
   "codemirror_mode": {
    "name": "ipython",
    "version": 3
   },
   "file_extension": ".py",
   "mimetype": "text/x-python",
   "name": "python",
   "nbconvert_exporter": "python",
   "pygments_lexer": "ipython3",
   "version": "3.7.0"
  }
 },
 "nbformat": 4,
 "nbformat_minor": 2
}

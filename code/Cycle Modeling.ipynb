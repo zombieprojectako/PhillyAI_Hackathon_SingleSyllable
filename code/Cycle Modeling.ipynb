{
 "cells": [
  {
   "cell_type": "code",
   "execution_count": 1,
   "metadata": {},
   "outputs": [],
   "source": [
    "import pandas as pd\n",
    "import numpy as np\n",
    "import os"
   ]
  },
  {
   "cell_type": "markdown",
   "metadata": {},
   "source": [
    "# Load and Merge Data\n",
    "- want to see cycle data"
   ]
  },
  {
   "cell_type": "code",
   "execution_count": 2,
   "metadata": {},
   "outputs": [
    {
     "name": "stdout",
     "output_type": "stream",
     "text": [
      "<class 'pandas.core.frame.DataFrame'>\n",
      "RangeIndex: 13512 entries, 0 to 13511\n",
      "Data columns (total 14 columns):\n",
      "symptom_id    13512 non-null int64\n",
      "user_id       13512 non-null int64\n",
      "acne          4230 non-null float64\n",
      "backache      5027 non-null float64\n",
      "bloating      5278 non-null float64\n",
      "cramp         6943 non-null float64\n",
      "diarrhea      2233 non-null float64\n",
      "dizzy         2170 non-null float64\n",
      "headache      4402 non-null float64\n",
      "mood          5177 non-null float64\n",
      "nausea        2194 non-null float64\n",
      "sore          4090 non-null float64\n",
      "date          13512 non-null object\n",
      "date_fix      13511 non-null object\n",
      "dtypes: float64(10), int64(2), object(2)\n",
      "memory usage: 1.4+ MB\n"
     ]
    }
   ],
   "source": [
    "fp = os.path.join('..', 'data_out', 'Symptoms_clean.csv')\n",
    "symptoms =pd. read_csv(fp)\n",
    "#set zeroes as nans\n",
    "symptoms.replace(0, np.NaN, inplace=True)\n",
    "symptoms.info()"
   ]
  },
  {
   "cell_type": "markdown",
   "metadata": {},
   "source": [
    "#### Agg Symptoms"
   ]
  },
  {
   "cell_type": "code",
   "execution_count": 3,
   "metadata": {},
   "outputs": [
    {
     "data": {
      "text/plain": [
       "<matplotlib.axes._subplots.AxesSubplot at 0xeee7588>"
      ]
     },
     "execution_count": 3,
     "metadata": {},
     "output_type": "execute_result"
    }
   ],
   "source": [
    "categories = ['acne', 'backache', 'bloating', 'cramp',\n",
    "       'diarrhea', 'dizzy', 'headache', 'mood', 'nausea', 'sore']\n",
    "agg_symptoms = symptoms[categories].agg(['mean', 'count']).T\n",
    "agg_symptoms.sort_values('count', ascending=False)\n",
    "agg_symptoms.reset_index().plot.bar(x='index', y='count', title='Top Reported Symptoms')"
   ]
  },
  {
   "cell_type": "markdown",
   "metadata": {},
   "source": [
    "#### Agg to the User Level"
   ]
  },
  {
   "cell_type": "code",
   "execution_count": 4,
   "metadata": {},
   "outputs": [
    {
     "data": {
      "text/html": [
       "<div>\n",
       "<style scoped>\n",
       "    .dataframe tbody tr th:only-of-type {\n",
       "        vertical-align: middle;\n",
       "    }\n",
       "\n",
       "    .dataframe tbody tr th {\n",
       "        vertical-align: top;\n",
       "    }\n",
       "\n",
       "    .dataframe thead th {\n",
       "        text-align: right;\n",
       "    }\n",
       "</style>\n",
       "<table border=\"1\" class=\"dataframe\">\n",
       "  <thead>\n",
       "    <tr style=\"text-align: right;\">\n",
       "      <th></th>\n",
       "      <th>user_id</th>\n",
       "      <th>symptom_id</th>\n",
       "      <th>acne</th>\n",
       "      <th>backache</th>\n",
       "      <th>bloating</th>\n",
       "      <th>cramp</th>\n",
       "      <th>diarrhea</th>\n",
       "      <th>dizzy</th>\n",
       "      <th>headache</th>\n",
       "      <th>mood</th>\n",
       "      <th>nausea</th>\n",
       "      <th>sore</th>\n",
       "    </tr>\n",
       "  </thead>\n",
       "  <tbody>\n",
       "    <tr>\n",
       "      <th>222</th>\n",
       "      <td>746</td>\n",
       "      <td>445.000000</td>\n",
       "      <td>NaN</td>\n",
       "      <td>NaN</td>\n",
       "      <td>NaN</td>\n",
       "      <td>53.0</td>\n",
       "      <td>NaN</td>\n",
       "      <td>NaN</td>\n",
       "      <td>NaN</td>\n",
       "      <td>23.0</td>\n",
       "      <td>NaN</td>\n",
       "      <td>NaN</td>\n",
       "    </tr>\n",
       "    <tr>\n",
       "      <th>1768</th>\n",
       "      <td>3368</td>\n",
       "      <td>5789.333333</td>\n",
       "      <td>NaN</td>\n",
       "      <td>NaN</td>\n",
       "      <td>29.000000</td>\n",
       "      <td>9.0</td>\n",
       "      <td>NaN</td>\n",
       "      <td>17.000000</td>\n",
       "      <td>NaN</td>\n",
       "      <td>23.0</td>\n",
       "      <td>NaN</td>\n",
       "      <td>NaN</td>\n",
       "    </tr>\n",
       "    <tr>\n",
       "      <th>2373</th>\n",
       "      <td>4357</td>\n",
       "      <td>6510.000000</td>\n",
       "      <td>NaN</td>\n",
       "      <td>NaN</td>\n",
       "      <td>NaN</td>\n",
       "      <td>NaN</td>\n",
       "      <td>29.000000</td>\n",
       "      <td>NaN</td>\n",
       "      <td>NaN</td>\n",
       "      <td>NaN</td>\n",
       "      <td>NaN</td>\n",
       "      <td>NaN</td>\n",
       "    </tr>\n",
       "    <tr>\n",
       "      <th>2650</th>\n",
       "      <td>4838</td>\n",
       "      <td>8967.500000</td>\n",
       "      <td>35.666667</td>\n",
       "      <td>53.750000</td>\n",
       "      <td>64.666667</td>\n",
       "      <td>52.5</td>\n",
       "      <td>NaN</td>\n",
       "      <td>45.666667</td>\n",
       "      <td>32.0</td>\n",
       "      <td>35.0</td>\n",
       "      <td>26.0</td>\n",
       "      <td>39.333333</td>\n",
       "    </tr>\n",
       "    <tr>\n",
       "      <th>1509</th>\n",
       "      <td>2943</td>\n",
       "      <td>4349.666667</td>\n",
       "      <td>NaN</td>\n",
       "      <td>41.166667</td>\n",
       "      <td>42.000000</td>\n",
       "      <td>57.0</td>\n",
       "      <td>67.333333</td>\n",
       "      <td>NaN</td>\n",
       "      <td>NaN</td>\n",
       "      <td>41.5</td>\n",
       "      <td>NaN</td>\n",
       "      <td>56.000000</td>\n",
       "    </tr>\n",
       "  </tbody>\n",
       "</table>\n",
       "</div>"
      ],
      "text/plain": [
       "      user_id   symptom_id       acne   backache   bloating  cramp   diarrhea  \\\n",
       "222       746   445.000000        NaN        NaN        NaN   53.0        NaN   \n",
       "1768     3368  5789.333333        NaN        NaN  29.000000    9.0        NaN   \n",
       "2373     4357  6510.000000        NaN        NaN        NaN    NaN  29.000000   \n",
       "2650     4838  8967.500000  35.666667  53.750000  64.666667   52.5        NaN   \n",
       "1509     2943  4349.666667        NaN  41.166667  42.000000   57.0  67.333333   \n",
       "\n",
       "          dizzy  headache  mood  nausea       sore  \n",
       "222         NaN       NaN  23.0     NaN        NaN  \n",
       "1768  17.000000       NaN  23.0     NaN        NaN  \n",
       "2373        NaN       NaN   NaN     NaN        NaN  \n",
       "2650  45.666667      32.0  35.0    26.0  39.333333  \n",
       "1509        NaN       NaN  41.5     NaN  56.000000  "
      ]
     },
     "execution_count": 4,
     "metadata": {},
     "output_type": "execute_result"
    }
   ],
   "source": [
    "users_agg_symptoms = symptoms.groupby(['user_id'], as_index=False).mean()\n",
    "users_agg_symptoms.sample(5)"
   ]
  },
  {
   "cell_type": "markdown",
   "metadata": {},
   "source": [
    "#### Cycle Data"
   ]
  },
  {
   "cell_type": "code",
   "execution_count": 5,
   "metadata": {},
   "outputs": [
    {
     "name": "stdout",
     "output_type": "stream",
     "text": [
      "<class 'pandas.core.frame.DataFrame'>\n",
      "RangeIndex: 31964 entries, 0 to 31963\n",
      "Data columns (total 7 columns):\n",
      "period_id         31964 non-null int64\n",
      "start_date        31964 non-null object\n",
      "end_date          31964 non-null object\n",
      "user_id           31964 non-null int64\n",
      "start_date_fix    31964 non-null datetime64[ns]\n",
      "end_date_fix      31964 non-null datetime64[ns]\n",
      "length            31964 non-null object\n",
      "dtypes: datetime64[ns](2), int64(2), object(3)\n",
      "memory usage: 1.7+ MB\n"
     ]
    }
   ],
   "source": [
    "fp = os.path.join('..', 'data_out', 'Clean_periods_clean.csv')\n",
    "periods = pd.read_csv(fp, parse_dates=['start_date_fix', 'end_date_fix'])\n",
    "periods.info()"
   ]
  },
  {
   "cell_type": "markdown",
   "metadata": {},
   "source": [
    "#### create cycle lengths\n",
    "- drop any cycle with length over 45 days"
   ]
  },
  {
   "cell_type": "code",
   "execution_count": 26,
   "metadata": {},
   "outputs": [
    {
     "name": "stdout",
     "output_type": "stream",
     "text": [
      "predrop: 31964\n",
      "postdrop: 28549\n",
      "stats pre drop:\n",
      "count                      25377\n",
      "mean     36 days 18:27:59.347440\n",
      "std      34 days 18:54:53.149531\n",
      "min              0 days 00:00:00\n",
      "25%             27 days 00:00:00\n",
      "50%             29 days 00:00:00\n",
      "75%             34 days 00:00:00\n",
      "max            947 days 00:00:00\n",
      "Name: cycle_length, dtype: object\n",
      "stats post drop:\n",
      "count                      21962\n",
      "mean     28 days 18:00:25.571441\n",
      "std       5 days 07:30:12.911247\n",
      "min              0 days 00:00:00\n",
      "25%             26 days 00:00:00\n",
      "50%             28 days 00:00:00\n",
      "75%             31 days 00:00:00\n",
      "max             44 days 00:00:00\n",
      "Name: cycle_length, dtype: object\n"
     ]
    },
    {
     "data": {
      "text/html": [
       "<div>\n",
       "<style scoped>\n",
       "    .dataframe tbody tr th:only-of-type {\n",
       "        vertical-align: middle;\n",
       "    }\n",
       "\n",
       "    .dataframe tbody tr th {\n",
       "        vertical-align: top;\n",
       "    }\n",
       "\n",
       "    .dataframe thead th {\n",
       "        text-align: right;\n",
       "    }\n",
       "</style>\n",
       "<table border=\"1\" class=\"dataframe\">\n",
       "  <thead>\n",
       "    <tr style=\"text-align: right;\">\n",
       "      <th></th>\n",
       "      <th>user_id</th>\n",
       "      <th>cycle_start_date</th>\n",
       "      <th>cycle_length</th>\n",
       "    </tr>\n",
       "  </thead>\n",
       "  <tbody>\n",
       "    <tr>\n",
       "      <th>15415</th>\n",
       "      <td>4719</td>\n",
       "      <td>2017-02-05</td>\n",
       "      <td>26 days</td>\n",
       "    </tr>\n",
       "    <tr>\n",
       "      <th>18007</th>\n",
       "      <td>1416</td>\n",
       "      <td>2017-05-30</td>\n",
       "      <td>24 days</td>\n",
       "    </tr>\n",
       "    <tr>\n",
       "      <th>21473</th>\n",
       "      <td>1837</td>\n",
       "      <td>2017-10-30</td>\n",
       "      <td>24 days</td>\n",
       "    </tr>\n",
       "    <tr>\n",
       "      <th>12452</th>\n",
       "      <td>3741</td>\n",
       "      <td>2016-10-19</td>\n",
       "      <td>23 days</td>\n",
       "    </tr>\n",
       "    <tr>\n",
       "      <th>5943</th>\n",
       "      <td>2922</td>\n",
       "      <td>2016-03-06</td>\n",
       "      <td>35 days</td>\n",
       "    </tr>\n",
       "  </tbody>\n",
       "</table>\n",
       "</div>"
      ],
      "text/plain": [
       "       user_id cycle_start_date cycle_length\n",
       "15415     4719       2017-02-05      26 days\n",
       "18007     1416       2017-05-30      24 days\n",
       "21473     1837       2017-10-30      24 days\n",
       "12452     3741       2016-10-19      23 days\n",
       "5943      2922       2016-03-06      35 days"
      ]
     },
     "execution_count": 26,
     "metadata": {},
     "output_type": "execute_result"
    }
   ],
   "source": [
    "print('predrop:', periods.shape[0])\n",
    "periods_multi_respos = periods.groupby('user_id').filter(lambda x: x.shape[0] > 1).copy()\n",
    "print('postdrop:', periods_multi_respos.shape[0])\n",
    "#sort\n",
    "periods_multi_respos.sort_values(['user_id', 'start_date_fix'], inplace=True)\n",
    "#roll column\n",
    "periods_multi_respos['previous_start_date'] = periods_multi_respos.start_date_fix.shift(1)\n",
    "#calc difference\n",
    "periods_multi_respos['cycle_length'] = periods_multi_respos['start_date_fix'] - periods_multi_respos['previous_start_date']\n",
    "#set non repeated user it \n",
    "cumcount = periods_multi_respos.groupby('user_id').cumcount()\n",
    "periods_multi_respos.loc[cumcount==0, 'cycle_length'] = np.NaN\n",
    "#drop missing data\n",
    "periods_multi_respos.dropna(subset=['cycle_length'], inplace=True)\n",
    "#check cycle_length stats\n",
    "print('stats pre drop:', periods_multi_respos.cycle_length.describe(), sep='\\n')\n",
    "#drop any cycle ove 45 days\n",
    "periods_multi_respos = periods_multi_respos[periods_multi_respos.cycle_length < pd.to_timedelta(45, unit='days')]\n",
    "print('stats post drop:', periods_multi_respos.cycle_length.describe(), sep='\\n')\n",
    "#create cycle df\n",
    "select = ['user_id', 'previous_start_date', 'cycle_length']\n",
    "cycles = periods_multi_respos[select].copy()\n",
    "cycles.rename(columns={'previous_start_date': 'cycle_start_date'}, inplace=True)\n",
    "fp = os.path.join('..', 'data_out', 'cycles.csv')\n",
    "cycles.to_csv(fp, index=False)\n",
    "cycles.sample(5)"
   ]
  },
  {
   "cell_type": "markdown",
   "metadata": {},
   "source": [
    "#### format data for modeling"
   ]
  },
  {
   "cell_type": "markdown",
   "metadata": {},
   "source": [
    "#### Look at good gap in data"
   ]
  },
  {
   "cell_type": "code",
   "execution_count": 28,
   "metadata": {},
   "outputs": [
    {
     "data": {
      "text/plain": [
       "<matplotlib.axes._subplots.AxesSubplot at 0x136e5198>"
      ]
     },
     "execution_count": 28,
     "metadata": {},
     "output_type": "execute_result"
    },
    {
     "data": {
      "image/png": "[encoded data removed]",
      "text/plain": [
       "<Figure size 432x288 with 1 Axes>"
      ]
     },
     "metadata": {},
     "output_type": "display_data"
    }
   ],
   "source": [
    "days = cycles.cycle_length.dt.days\n",
    "days = days[(days > 0 ) & (days < 100)]\n",
    "days.plot.hist()"
   ]
  }
 ],
 "metadata": {
  "kernelspec": {
   "display_name": "Python 3",
   "language": "python",
   "name": "python3"
  },
  "language_info": {
   "codemirror_mode": {
    "name": "ipython",
    "version": 3
   },
   "file_extension": ".py",
   "mimetype": "text/x-python",
   "name": "python",
   "nbconvert_exporter": "python",
   "pygments_lexer": "ipython3",
   "version": "3.6.6"
  }
 },
 "nbformat": 4,
 "nbformat_minor": 2
}

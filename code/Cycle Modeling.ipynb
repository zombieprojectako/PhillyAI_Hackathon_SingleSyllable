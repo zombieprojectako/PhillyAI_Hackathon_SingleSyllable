{
 "cells": [
  {
   "cell_type": "code",
   "execution_count": 1,
   "metadata": {},
   "outputs": [],
   "source": [
    "import pandas as pd\n",
    "import numpy as np\n",
    "import os"
   ]
  },
  {
   "cell_type": "markdown",
   "metadata": {},
   "source": [
    "# Load and Merge Data\n",
    "- want to see cycle data"
   ]
  },
  {
   "cell_type": "code",
   "execution_count": 2,
   "metadata": {},
   "outputs": [
    {
     "name": "stdout",
     "output_type": "stream",
     "text": [
      "<class 'pandas.core.frame.DataFrame'>\n",
      "RangeIndex: 13512 entries, 0 to 13511\n",
      "Data columns (total 14 columns):\n",
      "symptom_id    13512 non-null int64\n",
      "user_id       13512 non-null int64\n",
      "acne          4230 non-null float64\n",
      "backache      5027 non-null float64\n",
      "bloating      5278 non-null float64\n",
      "cramp         6943 non-null float64\n",
      "diarrhea      2233 non-null float64\n",
      "dizzy         2170 non-null float64\n",
      "headache      4402 non-null float64\n",
      "mood          5177 non-null float64\n",
      "nausea        2194 non-null float64\n",
      "sore          4090 non-null float64\n",
      "date          13512 non-null object\n",
      "date_fix      13511 non-null object\n",
      "dtypes: float64(10), int64(2), object(2)\n",
      "memory usage: 1.4+ MB\n"
     ]
    }
   ],
   "source": [
    "fp = os.path.join('..', 'data_out', 'Symptoms_clean.csv')\n",
    "symptoms =pd. read_csv(fp)\n",
    "#set zeroes as nans\n",
    "symptoms.replace(0, np.NaN, inplace=True)\n",
    "symptoms.info()"
   ]
  },
  {
   "cell_type": "markdown",
   "metadata": {},
   "source": [
    "#### Agg Symptoms"
   ]
  },
  {
   "cell_type": "code",
   "execution_count": 3,
   "metadata": {},
   "outputs": [
    {
     "data": {
      "text/plain": [
       "<matplotlib.axes._subplots.AxesSubplot at 0xeee84a8>"
      ]
     },
     "execution_count": 3,
     "metadata": {},
     "output_type": "execute_result"
    }
   ],
   "source": [
    "categories = ['acne', 'backache', 'bloating', 'cramp',\n",
    "       'diarrhea', 'dizzy', 'headache', 'mood', 'nausea', 'sore']\n",
    "agg_symptoms = symptoms[categories].agg(['mean', 'count']).T\n",
    "agg_symptoms.sort_values('count', ascending=False)\n",
    "agg_symptoms.reset_index().plot.bar(x='index', y='count', title='Top Reported Symptoms')"
   ]
  },
  {
   "cell_type": "markdown",
   "metadata": {},
   "source": [
    "#### Agg to the User Level"
   ]
  },
  {
   "cell_type": "code",
   "execution_count": 4,
   "metadata": {},
   "outputs": [
    {
     "data": {
      "text/html": [
       "<div>\n",
       "<style scoped>\n",
       "    .dataframe tbody tr th:only-of-type {\n",
       "        vertical-align: middle;\n",
       "    }\n",
       "\n",
       "    .dataframe tbody tr th {\n",
       "        vertical-align: top;\n",
       "    }\n",
       "\n",
       "    .dataframe thead th {\n",
       "        text-align: right;\n",
       "    }\n",
       "</style>\n",
       "<table border=\"1\" class=\"dataframe\">\n",
       "  <thead>\n",
       "    <tr style=\"text-align: right;\">\n",
       "      <th></th>\n",
       "      <th>user_id</th>\n",
       "      <th>acne</th>\n",
       "      <th>backache</th>\n",
       "      <th>bloating</th>\n",
       "      <th>cramp</th>\n",
       "      <th>diarrhea</th>\n",
       "      <th>dizzy</th>\n",
       "      <th>headache</th>\n",
       "      <th>mood</th>\n",
       "      <th>nausea</th>\n",
       "      <th>sore</th>\n",
       "    </tr>\n",
       "  </thead>\n",
       "  <tbody>\n",
       "    <tr>\n",
       "      <th>3063</th>\n",
       "      <td>5541</td>\n",
       "      <td>NaN</td>\n",
       "      <td>NaN</td>\n",
       "      <td>7.000000</td>\n",
       "      <td>NaN</td>\n",
       "      <td>NaN</td>\n",
       "      <td>NaN</td>\n",
       "      <td>NaN</td>\n",
       "      <td>NaN</td>\n",
       "      <td>NaN</td>\n",
       "      <td>NaN</td>\n",
       "    </tr>\n",
       "    <tr>\n",
       "      <th>3658</th>\n",
       "      <td>6558</td>\n",
       "      <td>100.000000</td>\n",
       "      <td>46.0</td>\n",
       "      <td>15.000000</td>\n",
       "      <td>62.000000</td>\n",
       "      <td>11.0</td>\n",
       "      <td>13.0</td>\n",
       "      <td>28.0</td>\n",
       "      <td>17.0</td>\n",
       "      <td>12.0</td>\n",
       "      <td>10.0</td>\n",
       "    </tr>\n",
       "    <tr>\n",
       "      <th>2093</th>\n",
       "      <td>3891</td>\n",
       "      <td>NaN</td>\n",
       "      <td>NaN</td>\n",
       "      <td>NaN</td>\n",
       "      <td>NaN</td>\n",
       "      <td>NaN</td>\n",
       "      <td>NaN</td>\n",
       "      <td>NaN</td>\n",
       "      <td>52.0</td>\n",
       "      <td>50.0</td>\n",
       "      <td>NaN</td>\n",
       "    </tr>\n",
       "    <tr>\n",
       "      <th>2092</th>\n",
       "      <td>3890</td>\n",
       "      <td>36.600000</td>\n",
       "      <td>46.6</td>\n",
       "      <td>36.666667</td>\n",
       "      <td>49.333333</td>\n",
       "      <td>9.0</td>\n",
       "      <td>19.0</td>\n",
       "      <td>27.0</td>\n",
       "      <td>45.6</td>\n",
       "      <td>NaN</td>\n",
       "      <td>32.2</td>\n",
       "    </tr>\n",
       "    <tr>\n",
       "      <th>2342</th>\n",
       "      <td>4311</td>\n",
       "      <td>36.833333</td>\n",
       "      <td>NaN</td>\n",
       "      <td>NaN</td>\n",
       "      <td>59.333333</td>\n",
       "      <td>NaN</td>\n",
       "      <td>NaN</td>\n",
       "      <td>NaN</td>\n",
       "      <td>NaN</td>\n",
       "      <td>NaN</td>\n",
       "      <td>NaN</td>\n",
       "    </tr>\n",
       "  </tbody>\n",
       "</table>\n",
       "</div>"
      ],
      "text/plain": [
       "      user_id        acne  backache   bloating      cramp  diarrhea  dizzy  \\\n",
       "3063     5541         NaN       NaN   7.000000        NaN       NaN    NaN   \n",
       "3658     6558  100.000000      46.0  15.000000  62.000000      11.0   13.0   \n",
       "2093     3891         NaN       NaN        NaN        NaN       NaN    NaN   \n",
       "2092     3890   36.600000      46.6  36.666667  49.333333       9.0   19.0   \n",
       "2342     4311   36.833333       NaN        NaN  59.333333       NaN    NaN   \n",
       "\n",
       "      headache  mood  nausea  sore  \n",
       "3063       NaN   NaN     NaN   NaN  \n",
       "3658      28.0  17.0    12.0  10.0  \n",
       "2093       NaN  52.0    50.0   NaN  \n",
       "2092      27.0  45.6     NaN  32.2  \n",
       "2342       NaN   NaN     NaN   NaN  "
      ]
     },
     "execution_count": 4,
     "metadata": {},
     "output_type": "execute_result"
    }
   ],
   "source": [
    "users_agg_symptoms = symptoms.groupby(['user_id'], as_index=False)[categories].mean()\n",
    "users_agg_symptoms.sample(5)"
   ]
  },
  {
   "cell_type": "markdown",
   "metadata": {},
   "source": [
    "#### Cycle Data"
   ]
  },
  {
   "cell_type": "code",
   "execution_count": 5,
   "metadata": {},
   "outputs": [
    {
     "name": "stdout",
     "output_type": "stream",
     "text": [
      "<class 'pandas.core.frame.DataFrame'>\n",
      "RangeIndex: 31964 entries, 0 to 31963\n",
      "Data columns (total 7 columns):\n",
      "period_id         31964 non-null int64\n",
      "start_date        31964 non-null object\n",
      "end_date          31964 non-null object\n",
      "user_id           31964 non-null int64\n",
      "start_date_fix    31964 non-null datetime64[ns]\n",
      "end_date_fix      31964 non-null datetime64[ns]\n",
      "length            31964 non-null timedelta64[ns]\n",
      "dtypes: datetime64[ns](2), int64(2), object(2), timedelta64[ns](1)\n",
      "memory usage: 1.7+ MB\n"
     ]
    }
   ],
   "source": [
    "fp = os.path.join('..', 'data_out', 'Clean_periods_clean.csv')\n",
    "periods = pd.read_csv(fp, parse_dates=['start_date_fix', 'end_date_fix'])\n",
    "periods.length = pd.to_timedelta(periods.length, unit='days')\n",
    "periods.info()"
   ]
  },
  {
   "cell_type": "markdown",
   "metadata": {},
   "source": [
    "#### create cycle lengths\n",
    "- drop any cycle with length over 45 days"
   ]
  },
  {
   "cell_type": "code",
   "execution_count": 6,
   "metadata": {},
   "outputs": [
    {
     "name": "stdout",
     "output_type": "stream",
     "text": [
      "predrop: 31964\n",
      "postdrop: 28549\n",
      "stats pre drop:\n",
      "count                      25377\n",
      "mean     36 days 18:27:59.347440\n",
      "std      34 days 18:54:53.149531\n",
      "min              0 days 00:00:00\n",
      "25%             27 days 00:00:00\n",
      "50%             29 days 00:00:00\n",
      "75%             34 days 00:00:00\n",
      "max            947 days 00:00:00\n",
      "Name: cycle_length, dtype: object\n",
      "stats post drop:\n",
      "count                      21962\n",
      "mean     28 days 18:00:25.571441\n",
      "std       5 days 07:30:12.911247\n",
      "min              0 days 00:00:00\n",
      "25%             26 days 00:00:00\n",
      "50%             28 days 00:00:00\n",
      "75%             31 days 00:00:00\n",
      "max             44 days 00:00:00\n",
      "Name: cycle_length, dtype: object\n"
     ]
    },
    {
     "data": {
      "text/html": [
       "<div>\n",
       "<style scoped>\n",
       "    .dataframe tbody tr th:only-of-type {\n",
       "        vertical-align: middle;\n",
       "    }\n",
       "\n",
       "    .dataframe tbody tr th {\n",
       "        vertical-align: top;\n",
       "    }\n",
       "\n",
       "    .dataframe thead th {\n",
       "        text-align: right;\n",
       "    }\n",
       "</style>\n",
       "<table border=\"1\" class=\"dataframe\">\n",
       "  <thead>\n",
       "    <tr style=\"text-align: right;\">\n",
       "      <th></th>\n",
       "      <th>user_id</th>\n",
       "      <th>cycle_start_date</th>\n",
       "      <th>cycle_length</th>\n",
       "    </tr>\n",
       "  </thead>\n",
       "  <tbody>\n",
       "    <tr>\n",
       "      <th>23860</th>\n",
       "      <td>1983</td>\n",
       "      <td>2018-02-05</td>\n",
       "      <td>31 days</td>\n",
       "    </tr>\n",
       "    <tr>\n",
       "      <th>21976</th>\n",
       "      <td>5773</td>\n",
       "      <td>2017-11-18</td>\n",
       "      <td>27 days</td>\n",
       "    </tr>\n",
       "    <tr>\n",
       "      <th>11273</th>\n",
       "      <td>1460</td>\n",
       "      <td>2016-09-02</td>\n",
       "      <td>28 days</td>\n",
       "    </tr>\n",
       "    <tr>\n",
       "      <th>18828</th>\n",
       "      <td>4651</td>\n",
       "      <td>2017-06-29</td>\n",
       "      <td>30 days</td>\n",
       "    </tr>\n",
       "    <tr>\n",
       "      <th>2044</th>\n",
       "      <td>1389</td>\n",
       "      <td>2015-06-03</td>\n",
       "      <td>21 days</td>\n",
       "    </tr>\n",
       "  </tbody>\n",
       "</table>\n",
       "</div>"
      ],
      "text/plain": [
       "       user_id cycle_start_date cycle_length\n",
       "23860     1983       2018-02-05      31 days\n",
       "21976     5773       2017-11-18      27 days\n",
       "11273     1460       2016-09-02      28 days\n",
       "18828     4651       2017-06-29      30 days\n",
       "2044      1389       2015-06-03      21 days"
      ]
     },
     "execution_count": 6,
     "metadata": {},
     "output_type": "execute_result"
    }
   ],
   "source": [
    "print('predrop:', periods.shape[0])\n",
    "periods_multi_respos = periods.groupby('user_id').filter(lambda x: x.shape[0] > 1).copy()\n",
    "print('postdrop:', periods_multi_respos.shape[0])\n",
    "#sort\n",
    "periods_multi_respos.sort_values(['user_id', 'start_date_fix'], inplace=True)\n",
    "#roll column\n",
    "periods_multi_respos['previous_start_date'] = periods_multi_respos.start_date_fix.shift(1)\n",
    "#calc difference\n",
    "periods_multi_respos['cycle_length'] = periods_multi_respos['start_date_fix'] - periods_multi_respos['previous_start_date']\n",
    "#set non repeated user it \n",
    "cumcount = periods_multi_respos.groupby('user_id').cumcount()\n",
    "periods_multi_respos.loc[cumcount==0, 'cycle_length'] = np.NaN\n",
    "#drop missing data\n",
    "periods_multi_respos.dropna(subset=['cycle_length'], inplace=True)\n",
    "#check cycle_length stats\n",
    "print('stats pre drop:', periods_multi_respos.cycle_length.describe(), sep='\\n')\n",
    "#drop any cycle ove 45 days\n",
    "periods_multi_respos = periods_multi_respos[periods_multi_respos.cycle_length < pd.to_timedelta(45, unit='days')]\n",
    "print('stats post drop:', periods_multi_respos.cycle_length.describe(), sep='\\n')\n",
    "#create cycle df\n",
    "select = ['user_id', 'previous_start_date', 'cycle_length']\n",
    "cycles = periods_multi_respos[select].copy()\n",
    "cycles.rename(columns={'previous_start_date': 'cycle_start_date'}, inplace=True)\n",
    "fp = os.path.join('..', 'data_out', 'cycles.csv')\n",
    "cycles.to_csv(fp, index=False)\n",
    "cycles.sample(5)"
   ]
  },
  {
   "cell_type": "markdown",
   "metadata": {},
   "source": [
    "# Get data to add to data set"
   ]
  },
  {
   "cell_type": "code",
   "execution_count": 7,
   "metadata": {},
   "outputs": [
    {
     "data": {
      "text/html": [
       "<div>\n",
       "<style scoped>\n",
       "    .dataframe tbody tr th:only-of-type {\n",
       "        vertical-align: middle;\n",
       "    }\n",
       "\n",
       "    .dataframe tbody tr th {\n",
       "        vertical-align: top;\n",
       "    }\n",
       "\n",
       "    .dataframe thead th {\n",
       "        text-align: right;\n",
       "    }\n",
       "</style>\n",
       "<table border=\"1\" class=\"dataframe\">\n",
       "  <thead>\n",
       "    <tr style=\"text-align: right;\">\n",
       "      <th></th>\n",
       "      <th>user_id</th>\n",
       "      <th>expected_cycle_length</th>\n",
       "      <th>expected_period_length</th>\n",
       "    </tr>\n",
       "  </thead>\n",
       "  <tbody>\n",
       "    <tr>\n",
       "      <th>5119</th>\n",
       "      <td>5446</td>\n",
       "      <td>30 days</td>\n",
       "      <td>7 days</td>\n",
       "    </tr>\n",
       "    <tr>\n",
       "      <th>1333</th>\n",
       "      <td>1660</td>\n",
       "      <td>28 days</td>\n",
       "      <td>5 days</td>\n",
       "    </tr>\n",
       "    <tr>\n",
       "      <th>3226</th>\n",
       "      <td>3553</td>\n",
       "      <td>28 days</td>\n",
       "      <td>4 days</td>\n",
       "    </tr>\n",
       "    <tr>\n",
       "      <th>4311</th>\n",
       "      <td>4638</td>\n",
       "      <td>35 days</td>\n",
       "      <td>7 days</td>\n",
       "    </tr>\n",
       "    <tr>\n",
       "      <th>214</th>\n",
       "      <td>536</td>\n",
       "      <td>25 days</td>\n",
       "      <td>4 days</td>\n",
       "    </tr>\n",
       "  </tbody>\n",
       "</table>\n",
       "</div>"
      ],
      "text/plain": [
       "      user_id expected_cycle_length expected_period_length\n",
       "5119     5446               30 days                 7 days\n",
       "1333     1660               28 days                 5 days\n",
       "3226     3553               28 days                 4 days\n",
       "4311     4638               35 days                 7 days\n",
       "214       536               25 days                 4 days"
      ]
     },
     "execution_count": 7,
     "metadata": {},
     "output_type": "execute_result"
    }
   ],
   "source": [
    "fp = os.path.join('..', 'data_out', 'User_clean.csv')\n",
    "users = pd.read_csv(fp)\n",
    "users = users[['user_id', 'cycle_length_initial', 'period_length_initial']]\n",
    "users.columns = ['user_id', 'expected_cycle_length', 'expected_period_length']\n",
    "#expected dates as timedeltas\n",
    "users.expected_cycle_length = pd.to_timedelta(users.expected_cycle_length, unit='days')\n",
    "users.expected_period_length = pd.to_timedelta(users.expected_period_length, unit='days')\n",
    "users.sample(5)"
   ]
  },
  {
   "cell_type": "markdown",
   "metadata": {},
   "source": [
    "#### get average period length"
   ]
  },
  {
   "cell_type": "code",
   "execution_count": 8,
   "metadata": {},
   "outputs": [
    {
     "data": {
      "text/html": [
       "<div>\n",
       "<style scoped>\n",
       "    .dataframe tbody tr th:only-of-type {\n",
       "        vertical-align: middle;\n",
       "    }\n",
       "\n",
       "    .dataframe tbody tr th {\n",
       "        vertical-align: top;\n",
       "    }\n",
       "\n",
       "    .dataframe thead th {\n",
       "        text-align: right;\n",
       "    }\n",
       "</style>\n",
       "<table border=\"1\" class=\"dataframe\">\n",
       "  <thead>\n",
       "    <tr style=\"text-align: right;\">\n",
       "      <th></th>\n",
       "      <th>user_id</th>\n",
       "      <th>mean_period_length</th>\n",
       "    </tr>\n",
       "  </thead>\n",
       "  <tbody>\n",
       "    <tr>\n",
       "      <th>200</th>\n",
       "      <td>527</td>\n",
       "      <td>5 days</td>\n",
       "    </tr>\n",
       "    <tr>\n",
       "      <th>6244</th>\n",
       "      <td>6707</td>\n",
       "      <td>4 days</td>\n",
       "    </tr>\n",
       "    <tr>\n",
       "      <th>2789</th>\n",
       "      <td>3178</td>\n",
       "      <td>6 days</td>\n",
       "    </tr>\n",
       "    <tr>\n",
       "      <th>4985</th>\n",
       "      <td>5423</td>\n",
       "      <td>3 days</td>\n",
       "    </tr>\n",
       "    <tr>\n",
       "      <th>2764</th>\n",
       "      <td>3153</td>\n",
       "      <td>6 days</td>\n",
       "    </tr>\n",
       "  </tbody>\n",
       "</table>\n",
       "</div>"
      ],
      "text/plain": [
       "      user_id mean_period_length\n",
       "200       527             5 days\n",
       "6244     6707             4 days\n",
       "2789     3178             6 days\n",
       "4985     5423             3 days\n",
       "2764     3153             6 days"
      ]
     },
     "execution_count": 8,
     "metadata": {},
     "output_type": "execute_result"
    }
   ],
   "source": [
    "mean_period_days = pd.to_timedelta(periods.groupby('user_id').apply(lambda x: x.length.dt.days.mean()), unit='days').reset_index()\n",
    "mean_period_days.columns = ['user_id', 'mean_period_length']\n",
    "mean_period_days.sample(5)"
   ]
  },
  {
   "cell_type": "markdown",
   "metadata": {},
   "source": [
    "#### get average cycle"
   ]
  },
  {
   "cell_type": "code",
   "execution_count": 9,
   "metadata": {},
   "outputs": [
    {
     "data": {
      "text/html": [
       "<div>\n",
       "<style scoped>\n",
       "    .dataframe tbody tr th:only-of-type {\n",
       "        vertical-align: middle;\n",
       "    }\n",
       "\n",
       "    .dataframe tbody tr th {\n",
       "        vertical-align: top;\n",
       "    }\n",
       "\n",
       "    .dataframe thead th {\n",
       "        text-align: right;\n",
       "    }\n",
       "</style>\n",
       "<table border=\"1\" class=\"dataframe\">\n",
       "  <thead>\n",
       "    <tr style=\"text-align: right;\">\n",
       "      <th></th>\n",
       "      <th>user_id</th>\n",
       "      <th>mean_cycle_length</th>\n",
       "    </tr>\n",
       "  </thead>\n",
       "  <tbody>\n",
       "    <tr>\n",
       "      <th>1460</th>\n",
       "      <td>3677</td>\n",
       "      <td>40 days 00:00:00</td>\n",
       "    </tr>\n",
       "    <tr>\n",
       "      <th>2477</th>\n",
       "      <td>5981</td>\n",
       "      <td>21 days 00:00:00</td>\n",
       "    </tr>\n",
       "    <tr>\n",
       "      <th>2693</th>\n",
       "      <td>6422</td>\n",
       "      <td>32 days 15:25:42.857142</td>\n",
       "    </tr>\n",
       "    <tr>\n",
       "      <th>1759</th>\n",
       "      <td>4310</td>\n",
       "      <td>25 days 00:00:00</td>\n",
       "    </tr>\n",
       "    <tr>\n",
       "      <th>935</th>\n",
       "      <td>2478</td>\n",
       "      <td>31 days 09:36:00</td>\n",
       "    </tr>\n",
       "  </tbody>\n",
       "</table>\n",
       "</div>"
      ],
      "text/plain": [
       "      user_id       mean_cycle_length\n",
       "1460     3677        40 days 00:00:00\n",
       "2477     5981        21 days 00:00:00\n",
       "2693     6422 32 days 15:25:42.857142\n",
       "1759     4310        25 days 00:00:00\n",
       "935      2478        31 days 09:36:00"
      ]
     },
     "execution_count": 9,
     "metadata": {},
     "output_type": "execute_result"
    }
   ],
   "source": [
    "mean_cycle_days = pd.to_timedelta(cycles.groupby('user_id')['cycle_length'].apply(lambda x: x.dt.days.mean()), unit='days').reset_index()\n",
    "mean_cycle_days.columns = ['user_id', 'mean_cycle_length']\n",
    "mean_cycle_days.sample(5)"
   ]
  },
  {
   "cell_type": "markdown",
   "metadata": {},
   "source": [
    "#### format data for modeling\n",
    "- data adds, symptoms, expected values"
   ]
  },
  {
   "cell_type": "code",
   "execution_count": 10,
   "metadata": {},
   "outputs": [
    {
     "name": "stdout",
     "output_type": "stream",
     "text": [
      "premerge: (21962, 3)\n",
      "postmerge: (21962, 17)\n"
     ]
    },
    {
     "data": {
      "text/html": [
       "<div>\n",
       "<style scoped>\n",
       "    .dataframe tbody tr th:only-of-type {\n",
       "        vertical-align: middle;\n",
       "    }\n",
       "\n",
       "    .dataframe tbody tr th {\n",
       "        vertical-align: top;\n",
       "    }\n",
       "\n",
       "    .dataframe thead th {\n",
       "        text-align: right;\n",
       "    }\n",
       "</style>\n",
       "<table border=\"1\" class=\"dataframe\">\n",
       "  <thead>\n",
       "    <tr style=\"text-align: right;\">\n",
       "      <th></th>\n",
       "      <th>user_id</th>\n",
       "      <th>cycle_start_date</th>\n",
       "      <th>cycle_length</th>\n",
       "      <th>expected_cycle_length</th>\n",
       "      <th>expected_period_length</th>\n",
       "      <th>mean_period_length</th>\n",
       "      <th>mean_cycle_length</th>\n",
       "      <th>acne</th>\n",
       "      <th>backache</th>\n",
       "      <th>bloating</th>\n",
       "      <th>cramp</th>\n",
       "      <th>diarrhea</th>\n",
       "      <th>dizzy</th>\n",
       "      <th>headache</th>\n",
       "      <th>mood</th>\n",
       "      <th>nausea</th>\n",
       "      <th>sore</th>\n",
       "    </tr>\n",
       "  </thead>\n",
       "  <tbody>\n",
       "    <tr>\n",
       "      <th>17736</th>\n",
       "      <td>5194</td>\n",
       "      <td>2017-07-10</td>\n",
       "      <td>33 days</td>\n",
       "      <td>30 days</td>\n",
       "      <td>5 days</td>\n",
       "      <td>4 days 00:00:00</td>\n",
       "      <td>32 days 00:00:00</td>\n",
       "      <td>NaN</td>\n",
       "      <td>NaN</td>\n",
       "      <td>NaN</td>\n",
       "      <td>NaN</td>\n",
       "      <td>51.0</td>\n",
       "      <td>35.0</td>\n",
       "      <td>NaN</td>\n",
       "      <td>NaN</td>\n",
       "      <td>36.0</td>\n",
       "      <td>NaN</td>\n",
       "    </tr>\n",
       "    <tr>\n",
       "      <th>2796</th>\n",
       "      <td>1089</td>\n",
       "      <td>2016-05-01</td>\n",
       "      <td>28 days</td>\n",
       "      <td>28 days</td>\n",
       "      <td>6 days</td>\n",
       "      <td>4 days 16:00:00</td>\n",
       "      <td>27 days 15:04:11.162790</td>\n",
       "      <td>NaN</td>\n",
       "      <td>39.0</td>\n",
       "      <td>42.000000</td>\n",
       "      <td>70.5</td>\n",
       "      <td>NaN</td>\n",
       "      <td>NaN</td>\n",
       "      <td>NaN</td>\n",
       "      <td>NaN</td>\n",
       "      <td>NaN</td>\n",
       "      <td>NaN</td>\n",
       "    </tr>\n",
       "    <tr>\n",
       "      <th>4538</th>\n",
       "      <td>1537</td>\n",
       "      <td>2016-07-12</td>\n",
       "      <td>33 days</td>\n",
       "      <td>32 days</td>\n",
       "      <td>7 days</td>\n",
       "      <td>5 days 12:00:00</td>\n",
       "      <td>31 days 02:40:00</td>\n",
       "      <td>NaN</td>\n",
       "      <td>NaN</td>\n",
       "      <td>40.000000</td>\n",
       "      <td>55.0</td>\n",
       "      <td>NaN</td>\n",
       "      <td>NaN</td>\n",
       "      <td>47.000000</td>\n",
       "      <td>44.000000</td>\n",
       "      <td>40.0</td>\n",
       "      <td>NaN</td>\n",
       "    </tr>\n",
       "    <tr>\n",
       "      <th>12475</th>\n",
       "      <td>3688</td>\n",
       "      <td>2018-02-25</td>\n",
       "      <td>22 days</td>\n",
       "      <td>28 days</td>\n",
       "      <td>8 days</td>\n",
       "      <td>6 days 00:51:25.714285</td>\n",
       "      <td>23 days 18:40:00</td>\n",
       "      <td>29.0</td>\n",
       "      <td>67.5</td>\n",
       "      <td>55.166667</td>\n",
       "      <td>57.6</td>\n",
       "      <td>51.5</td>\n",
       "      <td>56.0</td>\n",
       "      <td>67.666667</td>\n",
       "      <td>63.333333</td>\n",
       "      <td>51.0</td>\n",
       "      <td>67.833333</td>\n",
       "    </tr>\n",
       "    <tr>\n",
       "      <th>18873</th>\n",
       "      <td>5619</td>\n",
       "      <td>2018-08-31</td>\n",
       "      <td>36 days</td>\n",
       "      <td>28 days</td>\n",
       "      <td>11 days</td>\n",
       "      <td>5 days 22:09:13.846153</td>\n",
       "      <td>26 days 07:12:00</td>\n",
       "      <td>NaN</td>\n",
       "      <td>NaN</td>\n",
       "      <td>62.000000</td>\n",
       "      <td>36.0</td>\n",
       "      <td>NaN</td>\n",
       "      <td>NaN</td>\n",
       "      <td>NaN</td>\n",
       "      <td>NaN</td>\n",
       "      <td>NaN</td>\n",
       "      <td>NaN</td>\n",
       "    </tr>\n",
       "  </tbody>\n",
       "</table>\n",
       "</div>"
      ],
      "text/plain": [
       "       user_id cycle_start_date cycle_length expected_cycle_length  \\\n",
       "17736     5194       2017-07-10      33 days               30 days   \n",
       "2796      1089       2016-05-01      28 days               28 days   \n",
       "4538      1537       2016-07-12      33 days               32 days   \n",
       "12475     3688       2018-02-25      22 days               28 days   \n",
       "18873     5619       2018-08-31      36 days               28 days   \n",
       "\n",
       "      expected_period_length     mean_period_length       mean_cycle_length  \\\n",
       "17736                 5 days        4 days 00:00:00        32 days 00:00:00   \n",
       "2796                  6 days        4 days 16:00:00 27 days 15:04:11.162790   \n",
       "4538                  7 days        5 days 12:00:00        31 days 02:40:00   \n",
       "12475                 8 days 6 days 00:51:25.714285        23 days 18:40:00   \n",
       "18873                11 days 5 days 22:09:13.846153        26 days 07:12:00   \n",
       "\n",
       "       acne  backache   bloating  cramp  diarrhea  dizzy   headache  \\\n",
       "17736   NaN       NaN        NaN    NaN      51.0   35.0        NaN   \n",
       "2796    NaN      39.0  42.000000   70.5       NaN    NaN        NaN   \n",
       "4538    NaN       NaN  40.000000   55.0       NaN    NaN  47.000000   \n",
       "12475  29.0      67.5  55.166667   57.6      51.5   56.0  67.666667   \n",
       "18873   NaN       NaN  62.000000   36.0       NaN    NaN        NaN   \n",
       "\n",
       "            mood  nausea       sore  \n",
       "17736        NaN    36.0        NaN  \n",
       "2796         NaN     NaN        NaN  \n",
       "4538   44.000000    40.0        NaN  \n",
       "12475  63.333333    51.0  67.833333  \n",
       "18873        NaN     NaN        NaN  "
      ]
     },
     "execution_count": 10,
     "metadata": {},
     "output_type": "execute_result"
    }
   ],
   "source": [
    "print('premerge:', cycles.shape)\n",
    "model_sample = cycles.merge(users, on='user_id', how='left')\n",
    "model_sample = model_sample.merge(mean_period_days, on='user_id', how='left')\n",
    "model_sample = model_sample.merge(mean_cycle_days, on='user_id', how='left')\n",
    "model_sample = model_sample.merge(users_agg_symptoms, on='user_id', how='left')\n",
    "print('postmerge:', model_sample.shape)\n",
    "fp = os.path.join('..', 'data_out', 'model_sampl.csv')\n",
    "model_sample.to_csv(fp, index=False)\n",
    "model_sample.sample(5)"
   ]
  },
  {
   "cell_type": "markdown",
   "metadata": {},
   "source": [
    "#### Error\n",
    "average estimated cycle length error is 3 days 11 hours"
   ]
  },
  {
   "cell_type": "code",
   "execution_count": 11,
   "metadata": {},
   "outputs": [
    {
     "data": {
      "text/plain": [
       "count                     21962\n",
       "mean     3 days 11:45:38.439122\n",
       "std      3 days 22:23:25.612809\n",
       "min             0 days 00:00:00\n",
       "25%             1 days 00:00:00\n",
       "50%             2 days 00:00:00\n",
       "75%             4 days 00:00:00\n",
       "max            37 days 00:00:00\n",
       "dtype: object"
      ]
     },
     "execution_count": 11,
     "metadata": {},
     "output_type": "execute_result"
    }
   ],
   "source": [
    "np.abs(model_sample.cycle_length - model_sample.expected_cycle_length).describe()"
   ]
  },
  {
   "cell_type": "markdown",
   "metadata": {},
   "source": [
    "#### Look at good gap in data"
   ]
  },
  {
   "cell_type": "code",
   "execution_count": 12,
   "metadata": {},
   "outputs": [
    {
     "data": {
      "text/plain": [
       "<matplotlib.axes._subplots.AxesSubplot at 0x1122cc88>"
      ]
     },
     "execution_count": 12,
     "metadata": {},
     "output_type": "execute_result"
    },
    {
     "data": {
      "image/png": "[encoded data removed]",
      "text/plain": [
       "<Figure size 432x288 with 1 Axes>"
      ]
     },
     "metadata": {},
     "output_type": "display_data"
    }
   ],
   "source": [
    "days = cycles.cycle_length.dt.days\n",
    "days = days[(days > 0 ) & (days < 100)]\n",
    "days.plot.hist()"
   ]
  },
  {
   "cell_type": "markdown",
   "metadata": {},
   "source": [
    "# Review cycles data"
   ]
  },
  {
   "cell_type": "code",
   "execution_count": 13,
   "metadata": {},
   "outputs": [
    {
     "data": {
      "text/plain": [
       "std       3.639562\n",
       "mean     29.150913\n",
       "count     9.790083\n",
       "dtype: float64"
      ]
     },
     "execution_count": 13,
     "metadata": {},
     "output_type": "execute_result"
    }
   ],
   "source": [
    "cycles['cycle_length_days'] = cycles.cycle_length.dt.days\n",
    "user_cycles = cycles.groupby('user_id')['cycle_length_days'].agg(['std', 'mean', 'count'])\n",
    "user_cycles = user_cycles.dropna()\n",
    "#print('mean std for cycle: {:,.4f}'.format(user_cycles['std'].mean()))\n",
    "user_cycles.mean()"
   ]
  },
  {
   "cell_type": "code",
   "execution_count": 14,
   "metadata": {},
   "outputs": [
    {
     "data": {
      "text/plain": [
       "<matplotlib.axes._subplots.AxesSubplot at 0x11488e80>"
      ]
     },
     "execution_count": 14,
     "metadata": {},
     "output_type": "execute_result"
    },
    {
     "data": {
      "image/png": "[encoded data removed]",
      "text/plain": [
       "<Figure size 432x288 with 1 Axes>"
      ]
     },
     "metadata": {},
     "output_type": "display_data"
    }
   ],
   "source": [
    "user_cycles['std'].plot.hist(title='User Cycle Length Standard Deviations')"
   ]
  },
  {
   "cell_type": "markdown",
   "metadata": {},
   "source": [
    "#### add columns for modeling"
   ]
  },
  {
   "cell_type": "code",
   "execution_count": 15,
   "metadata": {},
   "outputs": [],
   "source": [
    "model_sample['expected_cycle_length_days'] = model_sample['expected_cycle_length'].dt.days\n",
    "model_sample['expected_period_length_days'] = model_sample['expected_period_length'].dt.days\n",
    "model_sample['mean_period_length_days'] = model_sample['mean_period_length'].dt.days\n",
    "model_sample['mean_cycle_length_days'] = model_sample['mean_cycle_length'].dt.days\n",
    "model_sample['cycle_length_days'] = model_sample['cycle_length'].dt.days\n",
    "just_symptoms = ['acne', 'backache', 'bloating', 'cramp', 'diarrhea', 'dizzy',\n",
    "       'headache', 'mood', 'nausea', 'sore']\n",
    "for col in just_symptoms:\n",
    "    model_sample[col + '_0'] = model_sample[col].fillna(0)\n",
    "    def to_bool(score):\n",
    "        if np.isnan(score):\n",
    "            return 0\n",
    "        return 1\n",
    "    model_sample[col + '_bool'] = model_sample[col].apply(to_bool)"
   ]
  },
  {
   "cell_type": "markdown",
   "metadata": {},
   "source": [
    "#### create a test and train data set\n",
    "- numpy expects a array of shape (sample, features)"
   ]
  },
  {
   "cell_type": "code",
   "execution_count": 16,
   "metadata": {},
   "outputs": [
    {
     "name": "stdout",
     "output_type": "stream",
     "text": [
      "train shape: (19765, 4)\n",
      "test shape: (2197, 4)\n"
     ]
    }
   ],
   "source": [
    "from sklearn.model_selection import train_test_split\n",
    "\n",
    "features = ['expected_cycle_length_days', 'expected_period_length_days', 'mean_period_length_days', 'mean_cycle_length_days']\n",
    "\n",
    "feature_data = model_sample[features].values\n",
    "target_data = model_sample[['cycle_length_days']].values\n",
    "\n",
    "x_train, x_test, y_train, y_test = train_test_split(feature_data, target_data, test_size=0.1, random_state=42)\n",
    "\n",
    "print('train shape: {}\\ntest shape: {}'.format(x_train.shape, x_test.shape))"
   ]
  },
  {
   "cell_type": "code",
   "execution_count": 17,
   "metadata": {},
   "outputs": [],
   "source": [
    "def build_test(df, feature_cols, target_col):\n",
    "    feature_data = model_sample[feature_cols].values\n",
    "    target_data = model_sample[[target_col]].values\n",
    "    return train_test_split(feature_data, target_data, test_size=0.1, random_state=42)\n",
    "\n",
    "def many_lr(df, features_list, target_col):\n",
    "    for index, feature_cols in enumerate(features_list):\n",
    "        print('Run {}'.format(index + 1))\n",
    "        x_train, x_test, y_train, y_test = build_test(df, feature_cols=feature_cols, target_col=target_col)\n",
    "        lin_model = linear_model.LinearRegression()\n",
    "        lin_model.fit(x_train, y_train)\n",
    "        lin_predictions = lin_model.predict(x_test)\n",
    "        for feature, coef in zip(feature_cols, lin_model.coef_[0]):\n",
    "            print('{1}: {0:,.4f} '.format(coef, feature))\n",
    "        # The mean squared error\n",
    "        print(\"Mean squared error: %.2f\"\n",
    "              % mean_squared_error(y_test, lin_predictions))\n",
    "        # Explained variance score: 1 is perfect prediction\n",
    "        print('Variance score: %.2f\\n' % r2_score(y_test, lin_predictions))"
   ]
  },
  {
   "cell_type": "markdown",
   "metadata": {},
   "source": [
    "#### Try linear regression"
   ]
  },
  {
   "cell_type": "code",
   "execution_count": 18,
   "metadata": {},
   "outputs": [],
   "source": [
    "from sklearn import datasets, linear_model\n",
    "from sklearn.metrics import mean_squared_error, r2_score"
   ]
  },
  {
   "cell_type": "code",
   "execution_count": 19,
   "metadata": {},
   "outputs": [],
   "source": [
    "#get model and train\n",
    "lin_model = linear_model.LinearRegression()\n",
    "lin_model.fit(x_train, y_train)\n",
    "lin_predictions = lin_model.predict(x_test)"
   ]
  },
  {
   "cell_type": "code",
   "execution_count": null,
   "metadata": {},
   "outputs": [],
   "source": []
  },
  {
   "cell_type": "code",
   "execution_count": 20,
   "metadata": {},
   "outputs": [
    {
     "name": "stdout",
     "output_type": "stream",
     "text": [
      "0.0079 expected_cycle_length_days\n",
      "0.0029 expected_period_length_days\n",
      "-0.0080 mean_period_length_days\n",
      "0.9887 mean_cycle_length_days\n",
      "Mean squared error: 15.60\n",
      "Variance score: 0.45\n"
     ]
    }
   ],
   "source": [
    "# The coefficients\n",
    "for feature, coef in zip(features, lin_model.coef_[0]):\n",
    "    print('{0:,.4f} {1}'.format(coef, feature))\n",
    "# The mean squared error\n",
    "print(\"Mean squared error: %.2f\"\n",
    "      % mean_squared_error(y_test, lin_predictions))\n",
    "# Explained variance score: 1 is perfect prediction\n",
    "print('Variance score: %.2f' % r2_score(y_test, lin_predictions))"
   ]
  },
  {
   "cell_type": "code",
   "execution_count": 21,
   "metadata": {},
   "outputs": [],
   "source": [
    "just_symptoms = ['acne_bool', 'backache_bool', 'bloating_bool', 'cramp_bool', 'diarrhea_bool', 'dizzy_bool',\n",
    "       'headache_bool', 'mood_bool', 'nausea_bool', 'sore_bool']"
   ]
  },
  {
   "cell_type": "markdown",
   "metadata": {},
   "source": [
    "#### Build and run many times\n",
    "- adding the symptoms has almost no effect on the results"
   ]
  },
  {
   "cell_type": "code",
   "execution_count": 22,
   "metadata": {},
   "outputs": [
    {
     "name": "stdout",
     "output_type": "stream",
     "text": [
      "Run 1\n",
      "expected_cycle_length_days: 0.0079 \n",
      "expected_period_length_days: 0.0029 \n",
      "mean_period_length_days: -0.0080 \n",
      "mean_cycle_length_days: 0.9887 \n",
      "Mean squared error: 15.60\n",
      "Variance score: 0.45\n",
      "\n",
      "Run 2\n",
      "expected_cycle_length_days: 0.5495 \n",
      "expected_period_length_days: 0.1073 \n",
      "Mean squared error: 26.85\n",
      "Variance score: 0.06\n",
      "\n",
      "Run 3\n",
      "acne_0: 0.0059 \n",
      "backache_0: 0.0052 \n",
      "bloating_0: -0.0070 \n",
      "cramp_0: 0.0055 \n",
      "diarrhea_0: 0.0032 \n",
      "dizzy_0: 0.0045 \n",
      "headache_0: -0.0056 \n",
      "mood_0: -0.0048 \n",
      "nausea_0: -0.0004 \n",
      "sore_0: -0.0072 \n",
      "Mean squared error: 28.48\n",
      "Variance score: 0.00\n",
      "\n",
      "Run 4\n",
      "acne_bool: 0.4689 \n",
      "backache_bool: 0.2229 \n",
      "bloating_bool: -0.2869 \n",
      "cramp_bool: 0.3714 \n",
      "diarrhea_bool: 0.2805 \n",
      "dizzy_bool: -0.0201 \n",
      "headache_bool: -0.0577 \n",
      "mood_bool: -0.0924 \n",
      "nausea_bool: -0.1486 \n",
      "sore_bool: -0.5823 \n",
      "Mean squared error: 28.54\n",
      "Variance score: 0.00\n",
      "\n",
      "Run 5\n",
      "expected_cycle_length_days: 0.0076 \n",
      "expected_period_length_days: 0.0029 \n",
      "mean_period_length_days: -0.0085 \n",
      "mean_cycle_length_days: 0.9888 \n",
      "acne_bool: -0.0211 \n",
      "backache_bool: 0.0061 \n",
      "bloating_bool: 0.0045 \n",
      "cramp_bool: 0.0002 \n",
      "diarrhea_bool: 0.0642 \n",
      "dizzy_bool: -0.0064 \n",
      "headache_bool: -0.0162 \n",
      "mood_bool: 0.0190 \n",
      "nausea_bool: -0.0024 \n",
      "sore_bool: 0.0160 \n",
      "Mean squared error: 15.60\n",
      "Variance score: 0.45\n",
      "\n"
     ]
    }
   ],
   "source": [
    "features = ['expected_cycle_length_days', 'expected_period_length_days', 'mean_period_length_days', 'mean_cycle_length_days']\n",
    "just_expected = ['expected_cycle_length_days', 'expected_period_length_days']\n",
    "just_symptoms_0 = ['acne_0', 'backache_0', 'bloating_0', 'cramp_0', 'diarrhea_0', 'dizzy_0',\n",
    "       'headache_0', 'mood_0', 'nausea_0', 'sore_0']\n",
    "just_symptoms_bool = ['acne_bool', 'backache_bool', 'bloating_bool', 'cramp_bool', 'diarrhea_bool', 'dizzy_bool',\n",
    "       'headache_bool', 'mood_bool', 'nausea_bool', 'sore_bool']\n",
    "many = features + just_symptoms_bool\n",
    "many_lr(model_sample, features_list=[features, just_expected, just_symptoms_0, just_symptoms_bool, many], target_col='cycle_length_days')"
   ]
  },
  {
   "cell_type": "markdown",
   "metadata": {},
   "source": [
    "#### Run model of just data with feature info"
   ]
  },
  {
   "cell_type": "code",
   "execution_count": 23,
   "metadata": {},
   "outputs": [
    {
     "name": "stdout",
     "output_type": "stream",
     "text": [
      "Run 1\n",
      "expected_cycle_length_days: 0.0079 \n",
      "expected_period_length_days: 0.0029 \n",
      "mean_period_length_days: -0.0080 \n",
      "mean_cycle_length_days: 0.9887 \n",
      "Mean squared error: 15.60\n",
      "Variance score: 0.45\n",
      "\n",
      "Run 2\n",
      "expected_cycle_length_days: 0.5495 \n",
      "expected_period_length_days: 0.1073 \n",
      "Mean squared error: 26.85\n",
      "Variance score: 0.06\n",
      "\n",
      "Run 3\n",
      "acne_0: 0.0059 \n",
      "backache_0: 0.0052 \n",
      "bloating_0: -0.0070 \n",
      "cramp_0: 0.0055 \n",
      "diarrhea_0: 0.0032 \n",
      "dizzy_0: 0.0045 \n",
      "headache_0: -0.0056 \n",
      "mood_0: -0.0048 \n",
      "nausea_0: -0.0004 \n",
      "sore_0: -0.0072 \n",
      "Mean squared error: 28.48\n",
      "Variance score: 0.00\n",
      "\n",
      "Run 4\n",
      "acne_bool: 0.4689 \n",
      "backache_bool: 0.2229 \n",
      "bloating_bool: -0.2869 \n",
      "cramp_bool: 0.3714 \n",
      "diarrhea_bool: 0.2805 \n",
      "dizzy_bool: -0.0201 \n",
      "headache_bool: -0.0577 \n",
      "mood_bool: -0.0924 \n",
      "nausea_bool: -0.1486 \n",
      "sore_bool: -0.5823 \n",
      "Mean squared error: 28.54\n",
      "Variance score: 0.00\n",
      "\n",
      "Run 5\n",
      "expected_cycle_length_days: 0.0076 \n",
      "expected_period_length_days: 0.0029 \n",
      "mean_period_length_days: -0.0085 \n",
      "mean_cycle_length_days: 0.9888 \n",
      "acne_bool: -0.0211 \n",
      "backache_bool: 0.0061 \n",
      "bloating_bool: 0.0045 \n",
      "cramp_bool: 0.0002 \n",
      "diarrhea_bool: 0.0642 \n",
      "dizzy_bool: -0.0064 \n",
      "headache_bool: -0.0162 \n",
      "mood_bool: 0.0190 \n",
      "nausea_bool: -0.0024 \n",
      "sore_bool: 0.0160 \n",
      "Mean squared error: 15.60\n",
      "Variance score: 0.45\n",
      "\n"
     ]
    }
   ],
   "source": [
    "all_symptoms_sample = model_sample[model_sample[just_symptoms].sum(axis=1) == 0]\n",
    "many_lr(all_symptoms_sample, features_list=[features, just_expected, just_symptoms_0, just_symptoms_bool, many], target_col='cycle_length_days')"
   ]
  },
  {
   "cell_type": "markdown",
   "metadata": {},
   "source": [
    "#### Try SVM\n",
    "- im surprised these aren't as good"
   ]
  },
  {
   "cell_type": "code",
   "execution_count": 52,
   "metadata": {},
   "outputs": [
    {
     "name": "stdout",
     "output_type": "stream",
     "text": [
      "Mean squared error: 20.52\n",
      "Variance score: 0.2816\n"
     ]
    }
   ],
   "source": [
    "from sklearn import svm\n",
    "x_train, x_test, y_train, y_test = build_test(model_sample, features, 'cycle_length_days')\n",
    "svm_model = svm.SVC(kernel='linear')\n",
    "svm_model.fit(x_train, np.ravel(y_train))\n",
    "svm_results = svm_model.predict(x_test)\n",
    "# The mean squared error\n",
    "print(\"Mean squared error: %.2f\"\n",
    "      % mean_squared_error(y_test.tolist(), svm_results.tolist()))\n",
    "# Explained variance score: 1 is perfect prediction\n",
    "print('Variance score: %.4f' % r2_score(y_test.tolist(), svm_results.tolist()))"
   ]
  },
  {
   "cell_type": "code",
   "execution_count": 53,
   "metadata": {
    "scrolled": true
   },
   "outputs": [
    {
     "name": "stderr",
     "output_type": "stream",
     "text": [
      "C:\\Users\\ulrichw\\AppData\\Local\\Continuum\\anaconda2\\envs\\conda3env\\lib\\site-packages\\sklearn\\svm\\base.py:196: FutureWarning: The default value of gamma will change from 'auto' to 'scale' in version 0.22 to account better for unscaled features. Set gamma explicitly to 'auto' or 'scale' to avoid this warning.\n",
      "  \"avoid this warning.\", FutureWarning)\n"
     ]
    },
    {
     "name": "stdout",
     "output_type": "stream",
     "text": [
      "Mean squared error: 21.03\n",
      "Variance score: 0.2638\n"
     ]
    }
   ],
   "source": [
    "x_train, x_test, y_train, y_test = build_test(model_sample, features, 'cycle_length_days')\n",
    "svm_model = svm.SVC(kernel='rbf')\n",
    "svm_model.fit(x_train, np.ravel(y_train))\n",
    "svm_results = svm_model.predict(x_test)\n",
    "# The mean squared error\n",
    "print(\"Mean squared error: %.2f\"\n",
    "      % mean_squared_error(y_test.tolist(), svm_results.tolist()))\n",
    "# Explained variance score: 1 is perfect prediction\n",
    "print('Variance score: %.4f' % r2_score(y_test.tolist(), svm_results.tolist()))"
   ]
  },
  {
   "cell_type": "code",
   "execution_count": 48,
   "metadata": {},
   "outputs": [
    {
     "data": {
      "text/plain": [
       "DescribeResult(nobs=2197, minmax=(array([-40], dtype=int64), array([27], dtype=int64)), mean=array([-0.36640874]), variance=array([20.901658]), skewness=array([-0.48477887]), kurtosis=array([15.62307713]))"
      ]
     },
     "execution_count": 48,
     "metadata": {},
     "output_type": "execute_result"
    }
   ],
   "source": [
    "from scipy import stats\n",
    "stats.describe(svm_results[:, np.newaxis] - y_test)"
   ]
  },
  {
   "cell_type": "markdown",
   "metadata": {},
   "source": [
    "# Do naive test\n",
    "- mean suared error has significant improvement\n",
    "- r2_score is just 0... as expected"
   ]
  },
  {
   "cell_type": "code",
   "execution_count": 79,
   "metadata": {},
   "outputs": [
    {
     "name": "stdout",
     "output_type": "stream",
     "text": [
      "Naive Error: 28.22295888699675\n",
      "r2_score: 0.0\n"
     ]
    }
   ],
   "source": [
    "mean_cycle = model_sample.cycle_length_days.mean()\n",
    "naive_error = mean_squared_error(y_true=model_sample['cycle_length_days'].to_list(), \n",
    "                   y_pred=np.full(shape=(model_sample.shape[0],), fill_value=mean_cycle).tolist())\n",
    "r_val = r2_score(y_true=model_sample['cycle_length_days'].to_list(), \n",
    "                   y_pred=np.full(shape=(model_sample.shape[0],), fill_value=mean_cycle).tolist())\n",
    "print('Naive Error: {}\\nr2_score: {}'.format(naive_error, r_val))"
   ]
  },
  {
   "cell_type": "code",
   "execution_count": 81,
   "metadata": {},
   "outputs": [
    {
     "data": {
      "text/plain": [
       "0.44725852230938706"
      ]
     },
     "execution_count": 81,
     "metadata": {},
     "output_type": "execute_result"
    }
   ],
   "source": [
    "(naive_error - 15.60) / naive_error"
   ]
  }
 ],
 "metadata": {
  "kernelspec": {
   "display_name": "Python 3",
   "language": "python",
   "name": "python3"
  },
  "language_info": {
   "codemirror_mode": {
    "name": "ipython",
    "version": 3
   },
   "file_extension": ".py",
   "mimetype": "text/x-python",
   "name": "python",
   "nbconvert_exporter": "python",
   "pygments_lexer": "ipython3",
   "version": "3.7.0"
  }
 },
 "nbformat": 4,
 "nbformat_minor": 2
}

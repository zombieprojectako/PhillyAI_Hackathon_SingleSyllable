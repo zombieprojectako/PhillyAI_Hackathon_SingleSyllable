{
 "cells": [
  {
   "cell_type": "code",
   "execution_count": 3,
   "metadata": {},
   "outputs": [],
   "source": [
    "import pandas as pd\n",
    "import numpy as np\n",
    "import os"
   ]
  },
  {
   "cell_type": "markdown",
   "metadata": {},
   "source": [
    "# Load and Merge Data\n",
    "- want to see cycle data"
   ]
  },
  {
   "cell_type": "code",
   "execution_count": 11,
   "metadata": {},
   "outputs": [
    {
     "name": "stdout",
     "output_type": "stream",
     "text": [
      "<class 'pandas.core.frame.DataFrame'>\n",
      "RangeIndex: 13512 entries, 0 to 13511\n",
      "Data columns (total 14 columns):\n",
      "symptom_id    13512 non-null int64\n",
      "user_id       13512 non-null int64\n",
      "acne          4230 non-null float64\n",
      "backache      5027 non-null float64\n",
      "bloating      5278 non-null float64\n",
      "cramp         6943 non-null float64\n",
      "diarrhea      2233 non-null float64\n",
      "dizzy         2170 non-null float64\n",
      "headache      4402 non-null float64\n",
      "mood          5177 non-null float64\n",
      "nausea        2194 non-null float64\n",
      "sore          4090 non-null float64\n",
      "date          13512 non-null object\n",
      "date_fix      13511 non-null object\n",
      "dtypes: float64(10), int64(2), object(2)\n",
      "memory usage: 1.4+ MB\n"
     ]
    }
   ],
   "source": [
    "fp = os.path.join('..', 'data_out', 'Symptoms_clean.csv')\n",
    "symptoms =pd. read_csv(fp)\n",
    "#set zeroes as nans\n",
    "symptoms.replace(0, np.NaN, inplace=True)\n",
    "symptoms.info()"
   ]
  },
  {
   "cell_type": "markdown",
   "metadata": {},
   "source": [
    "#### Agg Symptoms"
   ]
  },
  {
   "cell_type": "code",
   "execution_count": 26,
   "metadata": {},
   "outputs": [
    {
     "data": {
      "text/plain": [
       "<matplotlib.axes._subplots.AxesSubplot at 0x11680eb8>"
      ]
     },
     "execution_count": 26,
     "metadata": {},
     "output_type": "execute_result"
    },
    {
     "data": {
      "image/png": "[encoded data removed]",
      "text/plain": [
       "<Figure size 432x288 with 1 Axes>"
      ]
     },
     "metadata": {},
     "output_type": "display_data"
    }
   ],
   "source": [
    "categories = ['acne', 'backache', 'bloating', 'cramp',\n",
    "       'diarrhea', 'dizzy', 'headache', 'mood', 'nausea', 'sore']\n",
    "agg_symptoms = symptoms[categories].agg(['mean', 'count']).T\n",
    "agg_symptoms.sort_values('count', ascending=False)\n",
    "agg_symptoms.reset_index().plot.bar(x='index', y='count', title='Top Reported Symptoms')"
   ]
  },
  {
   "cell_type": "markdown",
   "metadata": {},
   "source": [
    "#### Agg to the User Level"
   ]
  },
  {
   "cell_type": "code",
   "execution_count": 30,
   "metadata": {},
   "outputs": [
    {
     "data": {
      "text/html": [
       "<div>\n",
       "<style scoped>\n",
       "    .dataframe tbody tr th:only-of-type {\n",
       "        vertical-align: middle;\n",
       "    }\n",
       "\n",
       "    .dataframe tbody tr th {\n",
       "        vertical-align: top;\n",
       "    }\n",
       "\n",
       "    .dataframe thead th {\n",
       "        text-align: right;\n",
       "    }\n",
       "</style>\n",
       "<table border=\"1\" class=\"dataframe\">\n",
       "  <thead>\n",
       "    <tr style=\"text-align: right;\">\n",
       "      <th></th>\n",
       "      <th>user_id</th>\n",
       "      <th>symptom_id</th>\n",
       "      <th>acne</th>\n",
       "      <th>backache</th>\n",
       "      <th>bloating</th>\n",
       "      <th>cramp</th>\n",
       "      <th>diarrhea</th>\n",
       "      <th>dizzy</th>\n",
       "      <th>headache</th>\n",
       "      <th>mood</th>\n",
       "      <th>nausea</th>\n",
       "      <th>sore</th>\n",
       "    </tr>\n",
       "  </thead>\n",
       "  <tbody>\n",
       "    <tr>\n",
       "      <th>538</th>\n",
       "      <td>1288</td>\n",
       "      <td>1076.000000</td>\n",
       "      <td>NaN</td>\n",
       "      <td>NaN</td>\n",
       "      <td>NaN</td>\n",
       "      <td>NaN</td>\n",
       "      <td>NaN</td>\n",
       "      <td>NaN</td>\n",
       "      <td>NaN</td>\n",
       "      <td>NaN</td>\n",
       "      <td>NaN</td>\n",
       "      <td>NaN</td>\n",
       "    </tr>\n",
       "    <tr>\n",
       "      <th>3002</th>\n",
       "      <td>5440</td>\n",
       "      <td>9247.000000</td>\n",
       "      <td>NaN</td>\n",
       "      <td>55.0</td>\n",
       "      <td>NaN</td>\n",
       "      <td>NaN</td>\n",
       "      <td>14.0</td>\n",
       "      <td>NaN</td>\n",
       "      <td>NaN</td>\n",
       "      <td>NaN</td>\n",
       "      <td>NaN</td>\n",
       "      <td>NaN</td>\n",
       "    </tr>\n",
       "    <tr>\n",
       "      <th>1883</th>\n",
       "      <td>3555</td>\n",
       "      <td>4718.000000</td>\n",
       "      <td>74.0</td>\n",
       "      <td>75.0</td>\n",
       "      <td>71.0</td>\n",
       "      <td>70.0</td>\n",
       "      <td>NaN</td>\n",
       "      <td>NaN</td>\n",
       "      <td>NaN</td>\n",
       "      <td>33.0</td>\n",
       "      <td>NaN</td>\n",
       "      <td>44.0</td>\n",
       "    </tr>\n",
       "    <tr>\n",
       "      <th>3724</th>\n",
       "      <td>6668</td>\n",
       "      <td>12969.333333</td>\n",
       "      <td>28.0</td>\n",
       "      <td>NaN</td>\n",
       "      <td>43.0</td>\n",
       "      <td>42.4</td>\n",
       "      <td>25.5</td>\n",
       "      <td>20.25</td>\n",
       "      <td>NaN</td>\n",
       "      <td>20.0</td>\n",
       "      <td>21.5</td>\n",
       "      <td>NaN</td>\n",
       "    </tr>\n",
       "    <tr>\n",
       "      <th>1298</th>\n",
       "      <td>2606</td>\n",
       "      <td>3107.000000</td>\n",
       "      <td>NaN</td>\n",
       "      <td>NaN</td>\n",
       "      <td>NaN</td>\n",
       "      <td>NaN</td>\n",
       "      <td>NaN</td>\n",
       "      <td>NaN</td>\n",
       "      <td>NaN</td>\n",
       "      <td>NaN</td>\n",
       "      <td>NaN</td>\n",
       "      <td>NaN</td>\n",
       "    </tr>\n",
       "  </tbody>\n",
       "</table>\n",
       "</div>"
      ],
      "text/plain": [
       "      user_id    symptom_id  acne  backache  bloating  cramp  diarrhea  dizzy  \\\n",
       "538      1288   1076.000000   NaN       NaN       NaN    NaN       NaN    NaN   \n",
       "3002     5440   9247.000000   NaN      55.0       NaN    NaN      14.0    NaN   \n",
       "1883     3555   4718.000000  74.0      75.0      71.0   70.0       NaN    NaN   \n",
       "3724     6668  12969.333333  28.0       NaN      43.0   42.4      25.5  20.25   \n",
       "1298     2606   3107.000000   NaN       NaN       NaN    NaN       NaN    NaN   \n",
       "\n",
       "      headache  mood  nausea  sore  \n",
       "538        NaN   NaN     NaN   NaN  \n",
       "3002       NaN   NaN     NaN   NaN  \n",
       "1883       NaN  33.0     NaN  44.0  \n",
       "3724       NaN  20.0    21.5   NaN  \n",
       "1298       NaN   NaN     NaN   NaN  "
      ]
     },
     "execution_count": 30,
     "metadata": {},
     "output_type": "execute_result"
    }
   ],
   "source": [
    "users_agg_symptoms = symptoms.groupby(['user_id'], as_index=False).mean()\n",
    "users_agg_symptoms.sample(5)"
   ]
  },
  {
   "cell_type": "markdown",
   "metadata": {},
   "source": [
    "#### Cycle Data"
   ]
  },
  {
   "cell_type": "code",
   "execution_count": 57,
   "metadata": {},
   "outputs": [
    {
     "name": "stdout",
     "output_type": "stream",
     "text": [
      "<class 'pandas.core.frame.DataFrame'>\n",
      "RangeIndex: 31964 entries, 0 to 31963\n",
      "Data columns (total 7 columns):\n",
      "period_id         31964 non-null int64\n",
      "start_date        31964 non-null object\n",
      "end_date          31964 non-null object\n",
      "user_id           31964 non-null int64\n",
      "start_date_fix    31964 non-null datetime64[ns]\n",
      "end_date_fix      31964 non-null datetime64[ns]\n",
      "length            31964 non-null object\n",
      "dtypes: datetime64[ns](2), int64(2), object(3)\n",
      "memory usage: 1.7+ MB\n"
     ]
    }
   ],
   "source": [
    "fp = os.path.join('..', 'data_out', 'Clean_periods_clean.csv')\n",
    "periods = pd.read_csv(fp, parse_dates=['start_date_fix', 'end_date_fix'])\n",
    "periods.info()"
   ]
  },
  {
   "cell_type": "code",
   "execution_count": 58,
   "metadata": {},
   "outputs": [
    {
     "name": "stdout",
     "output_type": "stream",
     "text": [
      "predrop: 31964\n",
      "postdrop: 28549\n"
     ]
    }
   ],
   "source": [
    "print('predrop:', periods.shape[0])\n",
    "periods_multi_respos = periods.groupby('user_id').filter(lambda x: x.shape[0] > 1).copy()\n",
    "print('postdrop:', periods_multi_respos.shape[0])"
   ]
  },
  {
   "cell_type": "code",
   "execution_count": 65,
   "metadata": {},
   "outputs": [
    {
     "name": "stdout",
     "output_type": "stream",
     "text": [
      "stats pre drop:\n",
      "count                      19847\n",
      "mean     36 days 03:50:26.089585\n",
      "std      32 days 15:41:37.143020\n",
      "min              0 days 00:00:00\n",
      "25%             26 days 00:00:00\n",
      "50%             29 days 00:00:00\n",
      "75%             34 days 00:00:00\n",
      "max            947 days 00:00:00\n",
      "Name: cycle_length, dtype: object\n"
     ]
    }
   ],
   "source": [
    "#sort\n",
    "periods_multi_respos.sort_values(['user_id', 'start_date_fix'], inplace=True)\n",
    "#roll column\n",
    "periods_multi_respos['previous_start_date'] = periods_multi_respos.start_date_fix.shift(1)\n",
    "#calc difference\n",
    "periods_multi_respos['cycle_length'] = periods_multi_respos['start_date_fix'] - periods_multi_respos['previous_start_date']\n",
    "#set non repeated user it \n",
    "cumcount = periods_multi_respos.groupby('user_id').cumcount()\n",
    "periods_multi_respos.loc[cumcount==0, 'cycle_length'] = np.NaN\n",
    "#drop missing data\n",
    "periods_multi_respos.dropna(subset=['cycle_length'], inplace=True)\n",
    "#check cycle_length stats\n",
    "print('stats pre drop:', periods_multi_respos.cycle_length.describe(), sep='\\n')\n",
    "#drop any cycle ove 60 days"
   ]
  },
  {
   "cell_type": "code",
   "execution_count": 71,
   "metadata": {},
   "outputs": [
    {
     "data": {
      "text/plain": [
       "<matplotlib.axes._subplots.AxesSubplot at 0x12bb7240>"
      ]
     },
     "execution_count": 71,
     "metadata": {},
     "output_type": "execute_result"
    },
    {
     "data": {
      "image/png": "[encoded data removed]",
      "text/plain": [
       "<Figure size 432x288 with 1 Axes>"
      ]
     },
     "metadata": {},
     "output_type": "display_data"
    }
   ],
   "source": [
    "days = periods_multi_respos.cycle_length.dt.days\n",
    "days = days[(days > 50 ]\n",
    "days.plot.hist()"
   ]
  }
 ],
 "metadata": {
  "kernelspec": {
   "display_name": "Python 3",
   "language": "python",
   "name": "python3"
  },
  "language_info": {
   "codemirror_mode": {
    "name": "ipython",
    "version": 3
   },
   "file_extension": ".py",
   "mimetype": "text/x-python",
   "name": "python",
   "nbconvert_exporter": "python",
   "pygments_lexer": "ipython3",
   "version": "3.6.6"
  }
 },
 "nbformat": 4,
 "nbformat_minor": 2
}

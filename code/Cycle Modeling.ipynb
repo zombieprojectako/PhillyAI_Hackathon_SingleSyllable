{
 "cells": [
  {
   "cell_type": "code",
   "execution_count": 1,
   "metadata": {},
   "outputs": [],
   "source": [
    "import pandas as pd\n",
    "import numpy as np\n",
    "import os"
   ]
  },
  {
   "cell_type": "markdown",
   "metadata": {},
   "source": [
    "# Load and Merge Data\n",
    "- want to see cycle data"
   ]
  },
  {
   "cell_type": "code",
   "execution_count": 2,
   "metadata": {},
   "outputs": [
    {
     "name": "stdout",
     "output_type": "stream",
     "text": [
      "<class 'pandas.core.frame.DataFrame'>\n",
      "RangeIndex: 13512 entries, 0 to 13511\n",
      "Data columns (total 14 columns):\n",
      "symptom_id    13512 non-null int64\n",
      "user_id       13512 non-null int64\n",
      "acne          4230 non-null float64\n",
      "backache      5027 non-null float64\n",
      "bloating      5278 non-null float64\n",
      "cramp         6943 non-null float64\n",
      "diarrhea      2233 non-null float64\n",
      "dizzy         2170 non-null float64\n",
      "headache      4402 non-null float64\n",
      "mood          5177 non-null float64\n",
      "nausea        2194 non-null float64\n",
      "sore          4090 non-null float64\n",
      "date          13512 non-null object\n",
      "date_fix      13511 non-null object\n",
      "dtypes: float64(10), int64(2), object(2)\n",
      "memory usage: 1.4+ MB\n"
     ]
    }
   ],
   "source": [
    "fp = os.path.join('..', 'data_out', 'Symptoms_clean.csv')\n",
    "symptoms =pd. read_csv(fp)\n",
    "#set zeroes as nans\n",
    "symptoms.replace(0, np.NaN, inplace=True)\n",
    "symptoms.info()"
   ]
  },
  {
   "cell_type": "markdown",
   "metadata": {},
   "source": [
    "#### Agg Symptoms"
   ]
  },
  {
   "cell_type": "code",
   "execution_count": 3,
   "metadata": {},
   "outputs": [
    {
     "data": {
      "text/plain": [
       "<matplotlib.axes._subplots.AxesSubplot at 0xeee64e0>"
      ]
     },
     "execution_count": 3,
     "metadata": {},
     "output_type": "execute_result"
    }
   ],
   "source": [
    "categories = ['acne', 'backache', 'bloating', 'cramp',\n",
    "       'diarrhea', 'dizzy', 'headache', 'mood', 'nausea', 'sore']\n",
    "agg_symptoms = symptoms[categories].agg(['mean', 'count']).T\n",
    "agg_symptoms.sort_values('count', ascending=False)\n",
    "agg_symptoms.reset_index().plot.bar(x='index', y='count', title='Top Reported Symptoms')"
   ]
  },
  {
   "cell_type": "markdown",
   "metadata": {},
   "source": [
    "#### Agg to the User Level"
   ]
  },
  {
   "cell_type": "code",
   "execution_count": 4,
   "metadata": {},
   "outputs": [
    {
     "data": {
      "text/html": [
       "<div>\n",
       "<style scoped>\n",
       "    .dataframe tbody tr th:only-of-type {\n",
       "        vertical-align: middle;\n",
       "    }\n",
       "\n",
       "    .dataframe tbody tr th {\n",
       "        vertical-align: top;\n",
       "    }\n",
       "\n",
       "    .dataframe thead th {\n",
       "        text-align: right;\n",
       "    }\n",
       "</style>\n",
       "<table border=\"1\" class=\"dataframe\">\n",
       "  <thead>\n",
       "    <tr style=\"text-align: right;\">\n",
       "      <th></th>\n",
       "      <th>user_id</th>\n",
       "      <th>acne</th>\n",
       "      <th>backache</th>\n",
       "      <th>bloating</th>\n",
       "      <th>cramp</th>\n",
       "      <th>diarrhea</th>\n",
       "      <th>dizzy</th>\n",
       "      <th>headache</th>\n",
       "      <th>mood</th>\n",
       "      <th>nausea</th>\n",
       "      <th>sore</th>\n",
       "    </tr>\n",
       "  </thead>\n",
       "  <tbody>\n",
       "    <tr>\n",
       "      <th>1906</th>\n",
       "      <td>3608</td>\n",
       "      <td>89.0</td>\n",
       "      <td>91.0</td>\n",
       "      <td>90.0</td>\n",
       "      <td>93.0</td>\n",
       "      <td>100.0</td>\n",
       "      <td>98.0</td>\n",
       "      <td>100.0</td>\n",
       "      <td>100.0</td>\n",
       "      <td>100.0</td>\n",
       "      <td>100.0</td>\n",
       "    </tr>\n",
       "    <tr>\n",
       "      <th>2766</th>\n",
       "      <td>5025</td>\n",
       "      <td>55.0</td>\n",
       "      <td>NaN</td>\n",
       "      <td>100.0</td>\n",
       "      <td>100.0</td>\n",
       "      <td>100.0</td>\n",
       "      <td>NaN</td>\n",
       "      <td>NaN</td>\n",
       "      <td>52.0</td>\n",
       "      <td>NaN</td>\n",
       "      <td>NaN</td>\n",
       "    </tr>\n",
       "    <tr>\n",
       "      <th>3376</th>\n",
       "      <td>6066</td>\n",
       "      <td>NaN</td>\n",
       "      <td>52.0</td>\n",
       "      <td>NaN</td>\n",
       "      <td>NaN</td>\n",
       "      <td>53.0</td>\n",
       "      <td>NaN</td>\n",
       "      <td>19.0</td>\n",
       "      <td>84.0</td>\n",
       "      <td>NaN</td>\n",
       "      <td>22.0</td>\n",
       "    </tr>\n",
       "    <tr>\n",
       "      <th>3550</th>\n",
       "      <td>6356</td>\n",
       "      <td>92.0</td>\n",
       "      <td>87.0</td>\n",
       "      <td>88.0</td>\n",
       "      <td>100.0</td>\n",
       "      <td>NaN</td>\n",
       "      <td>75.0</td>\n",
       "      <td>79.0</td>\n",
       "      <td>99.0</td>\n",
       "      <td>NaN</td>\n",
       "      <td>91.0</td>\n",
       "    </tr>\n",
       "    <tr>\n",
       "      <th>1327</th>\n",
       "      <td>2648</td>\n",
       "      <td>NaN</td>\n",
       "      <td>NaN</td>\n",
       "      <td>NaN</td>\n",
       "      <td>NaN</td>\n",
       "      <td>NaN</td>\n",
       "      <td>NaN</td>\n",
       "      <td>NaN</td>\n",
       "      <td>NaN</td>\n",
       "      <td>NaN</td>\n",
       "      <td>NaN</td>\n",
       "    </tr>\n",
       "  </tbody>\n",
       "</table>\n",
       "</div>"
      ],
      "text/plain": [
       "      user_id  acne  backache  bloating  cramp  diarrhea  dizzy  headache  \\\n",
       "1906     3608  89.0      91.0      90.0   93.0     100.0   98.0     100.0   \n",
       "2766     5025  55.0       NaN     100.0  100.0     100.0    NaN       NaN   \n",
       "3376     6066   NaN      52.0       NaN    NaN      53.0    NaN      19.0   \n",
       "3550     6356  92.0      87.0      88.0  100.0       NaN   75.0      79.0   \n",
       "1327     2648   NaN       NaN       NaN    NaN       NaN    NaN       NaN   \n",
       "\n",
       "       mood  nausea   sore  \n",
       "1906  100.0   100.0  100.0  \n",
       "2766   52.0     NaN    NaN  \n",
       "3376   84.0     NaN   22.0  \n",
       "3550   99.0     NaN   91.0  \n",
       "1327    NaN     NaN    NaN  "
      ]
     },
     "execution_count": 4,
     "metadata": {},
     "output_type": "execute_result"
    }
   ],
   "source": [
    "users_agg_symptoms = symptoms.groupby(['user_id'], as_index=False)[categories].mean()\n",
    "users_agg_symptoms.sample(5)"
   ]
  },
  {
   "cell_type": "markdown",
   "metadata": {},
   "source": [
    "#### Cycle Data"
   ]
  },
  {
   "cell_type": "code",
   "execution_count": 5,
   "metadata": {},
   "outputs": [
    {
     "name": "stdout",
     "output_type": "stream",
     "text": [
      "<class 'pandas.core.frame.DataFrame'>\n",
      "RangeIndex: 31964 entries, 0 to 31963\n",
      "Data columns (total 7 columns):\n",
      "period_id         31964 non-null int64\n",
      "start_date        31964 non-null object\n",
      "end_date          31964 non-null object\n",
      "user_id           31964 non-null int64\n",
      "start_date_fix    31964 non-null datetime64[ns]\n",
      "end_date_fix      31964 non-null datetime64[ns]\n",
      "length            31964 non-null timedelta64[ns]\n",
      "dtypes: datetime64[ns](2), int64(2), object(2), timedelta64[ns](1)\n",
      "memory usage: 1.7+ MB\n"
     ]
    }
   ],
   "source": [
    "fp = os.path.join('..', 'data_out', 'Clean_periods_clean.csv')\n",
    "periods = pd.read_csv(fp, parse_dates=['start_date_fix', 'end_date_fix'])\n",
    "periods.length = pd.to_timedelta(periods.length, unit='days')\n",
    "periods.info()"
   ]
  },
  {
   "cell_type": "markdown",
   "metadata": {},
   "source": [
    "#### create cycle lengths\n",
    "- drop any cycle with length over 45 days"
   ]
  },
  {
   "cell_type": "code",
   "execution_count": 6,
   "metadata": {},
   "outputs": [
    {
     "name": "stdout",
     "output_type": "stream",
     "text": [
      "predrop: 31964\n",
      "postdrop: 28549\n",
      "stats pre drop:\n",
      "count                      25377\n",
      "mean     36 days 18:27:59.347440\n",
      "std      34 days 18:54:53.149531\n",
      "min              0 days 00:00:00\n",
      "25%             27 days 00:00:00\n",
      "50%             29 days 00:00:00\n",
      "75%             34 days 00:00:00\n",
      "max            947 days 00:00:00\n",
      "Name: cycle_length, dtype: object\n",
      "stats post drop:\n",
      "count                      21962\n",
      "mean     28 days 18:00:25.571441\n",
      "std       5 days 07:30:12.911247\n",
      "min              0 days 00:00:00\n",
      "25%             26 days 00:00:00\n",
      "50%             28 days 00:00:00\n",
      "75%             31 days 00:00:00\n",
      "max             44 days 00:00:00\n",
      "Name: cycle_length, dtype: object\n"
     ]
    },
    {
     "data": {
      "text/html": [
       "<div>\n",
       "<style scoped>\n",
       "    .dataframe tbody tr th:only-of-type {\n",
       "        vertical-align: middle;\n",
       "    }\n",
       "\n",
       "    .dataframe tbody tr th {\n",
       "        vertical-align: top;\n",
       "    }\n",
       "\n",
       "    .dataframe thead th {\n",
       "        text-align: right;\n",
       "    }\n",
       "</style>\n",
       "<table border=\"1\" class=\"dataframe\">\n",
       "  <thead>\n",
       "    <tr style=\"text-align: right;\">\n",
       "      <th></th>\n",
       "      <th>user_id</th>\n",
       "      <th>cycle_start_date</th>\n",
       "      <th>cycle_length</th>\n",
       "    </tr>\n",
       "  </thead>\n",
       "  <tbody>\n",
       "    <tr>\n",
       "      <th>4279</th>\n",
       "      <td>818</td>\n",
       "      <td>2016-01-19</td>\n",
       "      <td>26 days</td>\n",
       "    </tr>\n",
       "    <tr>\n",
       "      <th>12830</th>\n",
       "      <td>4539</td>\n",
       "      <td>2016-08-07</td>\n",
       "      <td>26 days</td>\n",
       "    </tr>\n",
       "    <tr>\n",
       "      <th>10947</th>\n",
       "      <td>3315</td>\n",
       "      <td>2016-08-25</td>\n",
       "      <td>24 days</td>\n",
       "    </tr>\n",
       "    <tr>\n",
       "      <th>16169</th>\n",
       "      <td>2754</td>\n",
       "      <td>2017-03-09</td>\n",
       "      <td>28 days</td>\n",
       "    </tr>\n",
       "    <tr>\n",
       "      <th>7632</th>\n",
       "      <td>3158</td>\n",
       "      <td>2016-05-05</td>\n",
       "      <td>27 days</td>\n",
       "    </tr>\n",
       "  </tbody>\n",
       "</table>\n",
       "</div>"
      ],
      "text/plain": [
       "       user_id cycle_start_date cycle_length\n",
       "4279       818       2016-01-19      26 days\n",
       "12830     4539       2016-08-07      26 days\n",
       "10947     3315       2016-08-25      24 days\n",
       "16169     2754       2017-03-09      28 days\n",
       "7632      3158       2016-05-05      27 days"
      ]
     },
     "execution_count": 6,
     "metadata": {},
     "output_type": "execute_result"
    }
   ],
   "source": [
    "print('predrop:', periods.shape[0])\n",
    "periods_multi_respos = periods.groupby('user_id').filter(lambda x: x.shape[0] > 1).copy()\n",
    "print('postdrop:', periods_multi_respos.shape[0])\n",
    "#sort\n",
    "periods_multi_respos.sort_values(['user_id', 'start_date_fix'], inplace=True)\n",
    "#roll column\n",
    "periods_multi_respos['previous_start_date'] = periods_multi_respos.start_date_fix.shift(1)\n",
    "#calc difference\n",
    "periods_multi_respos['cycle_length'] = periods_multi_respos['start_date_fix'] - periods_multi_respos['previous_start_date']\n",
    "#set non repeated user it \n",
    "cumcount = periods_multi_respos.groupby('user_id').cumcount()\n",
    "periods_multi_respos.loc[cumcount==0, 'cycle_length'] = np.NaN\n",
    "#drop missing data\n",
    "periods_multi_respos.dropna(subset=['cycle_length'], inplace=True)\n",
    "#check cycle_length stats\n",
    "print('stats pre drop:', periods_multi_respos.cycle_length.describe(), sep='\\n')\n",
    "#drop any cycle ove 45 days\n",
    "periods_multi_respos = periods_multi_respos[periods_multi_respos.cycle_length < pd.to_timedelta(45, unit='days')]\n",
    "print('stats post drop:', periods_multi_respos.cycle_length.describe(), sep='\\n')\n",
    "#create cycle df\n",
    "select = ['user_id', 'previous_start_date', 'cycle_length']\n",
    "cycles = periods_multi_respos[select].copy()\n",
    "cycles.rename(columns={'previous_start_date': 'cycle_start_date'}, inplace=True)\n",
    "fp = os.path.join('..', 'data_out', 'cycles.csv')\n",
    "cycles.to_csv(fp, index=False)\n",
    "cycles.sample(5)"
   ]
  },
  {
   "cell_type": "markdown",
   "metadata": {},
   "source": [
    "# Get data to add to data set"
   ]
  },
  {
   "cell_type": "code",
   "execution_count": 7,
   "metadata": {},
   "outputs": [
    {
     "data": {
      "text/html": [
       "<div>\n",
       "<style scoped>\n",
       "    .dataframe tbody tr th:only-of-type {\n",
       "        vertical-align: middle;\n",
       "    }\n",
       "\n",
       "    .dataframe tbody tr th {\n",
       "        vertical-align: top;\n",
       "    }\n",
       "\n",
       "    .dataframe thead th {\n",
       "        text-align: right;\n",
       "    }\n",
       "</style>\n",
       "<table border=\"1\" class=\"dataframe\">\n",
       "  <thead>\n",
       "    <tr style=\"text-align: right;\">\n",
       "      <th></th>\n",
       "      <th>user_id</th>\n",
       "      <th>expected_cycle_length</th>\n",
       "      <th>expected_period_length</th>\n",
       "    </tr>\n",
       "  </thead>\n",
       "  <tbody>\n",
       "    <tr>\n",
       "      <th>1976</th>\n",
       "      <td>2303</td>\n",
       "      <td>28 days</td>\n",
       "      <td>2 days</td>\n",
       "    </tr>\n",
       "    <tr>\n",
       "      <th>1099</th>\n",
       "      <td>1426</td>\n",
       "      <td>28 days</td>\n",
       "      <td>6 days</td>\n",
       "    </tr>\n",
       "    <tr>\n",
       "      <th>2804</th>\n",
       "      <td>3131</td>\n",
       "      <td>30 days</td>\n",
       "      <td>3 days</td>\n",
       "    </tr>\n",
       "    <tr>\n",
       "      <th>3660</th>\n",
       "      <td>3987</td>\n",
       "      <td>28 days</td>\n",
       "      <td>3 days</td>\n",
       "    </tr>\n",
       "    <tr>\n",
       "      <th>2928</th>\n",
       "      <td>3255</td>\n",
       "      <td>29 days</td>\n",
       "      <td>5 days</td>\n",
       "    </tr>\n",
       "  </tbody>\n",
       "</table>\n",
       "</div>"
      ],
      "text/plain": [
       "      user_id expected_cycle_length expected_period_length\n",
       "1976     2303               28 days                 2 days\n",
       "1099     1426               28 days                 6 days\n",
       "2804     3131               30 days                 3 days\n",
       "3660     3987               28 days                 3 days\n",
       "2928     3255               29 days                 5 days"
      ]
     },
     "execution_count": 7,
     "metadata": {},
     "output_type": "execute_result"
    }
   ],
   "source": [
    "fp = os.path.join('..', 'data_out', 'User_clean.csv')\n",
    "users = pd.read_csv(fp)\n",
    "users = users[['user_id', 'cycle_length_initial', 'period_length_initial']]\n",
    "users.columns = ['user_id', 'expected_cycle_length', 'expected_period_length']\n",
    "#expected dates as timedeltas\n",
    "users.expected_cycle_length = pd.to_timedelta(users.expected_cycle_length, unit='days')\n",
    "users.expected_period_length = pd.to_timedelta(users.expected_period_length, unit='days')\n",
    "users.sample(5)"
   ]
  },
  {
   "cell_type": "markdown",
   "metadata": {},
   "source": [
    "#### get average period length"
   ]
  },
  {
   "cell_type": "code",
   "execution_count": null,
   "metadata": {},
   "outputs": [],
   "source": [
    "mean_period_days = pd.to_timedelta(periods.groupby('user_id').apply(lambda x: x.length.dt.days.mean()), unit='days').reset_index()\n",
    "mean_period_days.columns = ['user_id', 'mean_period_length']\n",
    "mean_period_days.sample(5)"
   ]
  },
  {
   "cell_type": "markdown",
   "metadata": {},
   "source": [
    "#### get average cycle"
   ]
  },
  {
   "cell_type": "code",
   "execution_count": null,
   "metadata": {},
   "outputs": [],
   "source": [
    "mean_cycle_days = pd.to_timedelta(cycles.groupby('user_id')['cycle_length'].apply(lambda x: x.dt.days.mean()), unit='days').reset_index()\n",
    "mean_cycle_days.columns = ['user_id', 'mean_cycle_length']\n",
    "mean_cycle_days.sample(5)"
   ]
  },
  {
   "cell_type": "markdown",
   "metadata": {},
   "source": [
    "#### format data for modeling\n",
    "- data adds, symptoms, expected values"
   ]
  },
  {
   "cell_type": "code",
   "execution_count": null,
   "metadata": {},
   "outputs": [],
   "source": [
    "print('premerge:', cycles.shape)\n",
    "model_sample = cycles.merge(users, on='user_id', how='left')\n",
    "model_sample = model_sample.merge(mean_period_days, on='user_id', how='left')\n",
    "model_sample = model_sample.merge(mean_cycle_days, on='user_id', how='left')\n",
    "model_sample = model_sample.merge(users_agg_symptoms, on='user_id', how='left')\n",
    "print('postmerge:', model_sample.shape)\n",
    "fp = os.path.join('..', 'data_out', 'model_sampl.csv')\n",
    "model_sample.to_csv(fp, index=False)\n",
    "model_sample.sample(5)"
   ]
  },
  {
   "cell_type": "markdown",
   "metadata": {},
   "source": [
    "#### Error"
   ]
  },
  {
   "cell_type": "code",
   "execution_count": null,
   "metadata": {},
   "outputs": [],
   "source": [
    "np.abs(model_sample.cycle_length - model_sample.expected_cycle_length).describe()"
   ]
  },
  {
   "cell_type": "markdown",
   "metadata": {},
   "source": [
    "#### Look at good gap in data"
   ]
  },
  {
   "cell_type": "code",
   "execution_count": null,
   "metadata": {},
   "outputs": [],
   "source": [
    "days = cycles.cycle_length.dt.days\n",
    "days = days[(days > 0 ) & (days < 100)]\n",
    "days.plot.hist()"
   ]
  }
 ],
 "metadata": {
  "kernelspec": {
   "display_name": "Python 3",
   "language": "python",
   "name": "python3"
  },
  "language_info": {
   "codemirror_mode": {
    "name": "ipython",
    "version": 3
   },
   "file_extension": ".py",
   "mimetype": "text/x-python",
   "name": "python",
   "nbconvert_exporter": "python",
   "pygments_lexer": "ipython3",
   "version": "3.6.6"
  }
 },
 "nbformat": 4,
 "nbformat_minor": 2
}

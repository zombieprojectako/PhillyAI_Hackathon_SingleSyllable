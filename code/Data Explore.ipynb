{
 "cells": [
  {
   "cell_type": "code",
   "execution_count": 1,
   "metadata": {},
   "outputs": [],
   "source": [
    "import pandas as pd\n",
    "import numpy as np\n",
    "import os"
   ]
  },
  {
   "cell_type": "markdown",
   "metadata": {},
   "source": [
    "# Load Data sets"
   ]
  },
  {
   "cell_type": "markdown",
   "metadata": {},
   "source": [
    "#### Load users"
   ]
  },
  {
   "cell_type": "code",
   "execution_count": 16,
   "metadata": {},
   "outputs": [
    {
     "name": "stdout",
     "output_type": "stream",
     "text": [
      "<class 'pandas.core.frame.DataFrame'>\n",
      "RangeIndex: 6729 entries, 0 to 6728\n",
      "Data columns (total 5 columns):\n",
      "id                       6729 non-null object\n",
      "dob                      440 non-null object\n",
      "cycle_length_initial     6729 non-null int64\n",
      "period_length_initial    6729 non-null int64\n",
      "dob_fix                  345 non-null datetime64[ns]\n",
      "dtypes: datetime64[ns](1), int64(2), object(2)\n",
      "memory usage: 262.9+ KB\n"
     ]
    }
   ],
   "source": [
    "dtypes = {'id': 'str'}\n",
    "user_file_path = os.path.join('..', 'data_in', 'User.csv')\n",
    "users = pd.read_csv(user_file_path, dtype=dtypes)\n",
    "users['dob_fix'] = pd.to_datetime(users.dob, errors='coerce')\n",
    "users.info()"
   ]
  },
  {
   "cell_type": "code",
   "execution_count": null,
   "metadata": {},
   "outputs": [],
   "source": []
  },
  {
   "cell_type": "markdown",
   "metadata": {},
   "source": [
    "#### Check users\n",
    "- still some issues"
   ]
  },
  {
   "cell_type": "code",
   "execution_count": 3,
   "metadata": {},
   "outputs": [],
   "source": [
    "real_dates = users[users.dob_fix.notna()]\n",
    "birth_years = real_dates.groupby(pd.Grouper(key='dob_fix', freq='y')).size().reset_index()\n",
    "#lines_births = cm.line_chart(birth_years, x_col='dob_fix', y_col=0)\n",
    "birth_years.plot.line(x='dob_fix', y=0)\n",
    "%matplotlib inline "
   ]
  },
  {
   "cell_type": "markdown",
   "metadata": {},
   "source": [
    "#### Load Symptoms"
   ]
  },
  {
   "cell_type": "code",
   "execution_count": 4,
   "metadata": {},
   "outputs": [
    {
     "name": "stdout",
     "output_type": "stream",
     "text": [
      "<class 'pandas.core.frame.DataFrame'>\n",
      "RangeIndex: 13512 entries, 0 to 13511\n",
      "Data columns (total 14 columns):\n",
      "id          13512 non-null int64\n",
      "user_id     13512 non-null int64\n",
      "acne        13512 non-null int64\n",
      "backache    13512 non-null int64\n",
      "bloating    13512 non-null int64\n",
      "cramp       13512 non-null int64\n",
      "diarrhea    13512 non-null int64\n",
      "dizzy       13512 non-null int64\n",
      "headache    13512 non-null int64\n",
      "mood        13512 non-null int64\n",
      "nausea      13512 non-null int64\n",
      "sore        13512 non-null int64\n",
      "date        13512 non-null object\n",
      "date_fix    13511 non-null datetime64[ns]\n",
      "dtypes: datetime64[ns](1), int64(12), object(1)\n",
      "memory usage: 1.4+ MB\n"
     ]
    }
   ],
   "source": [
    "file_path = os.path.join('..', 'data_in', 'Symptom.csv')\n",
    "symptoms = pd.read_csv(file_path)\n",
    "symptoms.rename(columns={'id': 'symptom_id'})\n",
    "symptoms['date_fix'] = pd.to_datetime(symptoms.date, errors='coerce')\n",
    "symptoms.info()"
   ]
  },
  {
   "cell_type": "markdown",
   "metadata": {},
   "source": [
    "#### User responses"
   ]
  },
  {
   "cell_type": "code",
   "execution_count": 5,
   "metadata": {},
   "outputs": [
    {
     "data": {
      "text/plain": [
       "count    3953.000000\n",
       "mean        3.418163\n",
       "std         6.645441\n",
       "min         1.000000\n",
       "25%         1.000000\n",
       "50%         1.000000\n",
       "75%         3.000000\n",
       "max       182.000000\n",
       "dtype: float64"
      ]
     },
     "execution_count": 5,
     "metadata": {},
     "output_type": "execute_result"
    }
   ],
   "source": [
    "symptoms.groupby('user_id').size().describe()"
   ]
  },
  {
   "cell_type": "markdown",
   "metadata": {},
   "source": [
    "#### Read Period Data"
   ]
  },
  {
   "cell_type": "code",
   "execution_count": 6,
   "metadata": {},
   "outputs": [
    {
     "name": "stdout",
     "output_type": "stream",
     "text": [
      "<class 'pandas.core.frame.DataFrame'>\n",
      "RangeIndex: 34942 entries, 0 to 34941\n",
      "Data columns (total 6 columns):\n",
      "id                34942 non-null int64\n",
      "start_date        34939 non-null object\n",
      "end_date          32168 non-null object\n",
      "user_id           34942 non-null int64\n",
      "start_date_fix    34934 non-null datetime64[ns]\n",
      "end_date_fix      32163 non-null datetime64[ns]\n",
      "dtypes: datetime64[ns](2), int64(2), object(2)\n",
      "memory usage: 1.6+ MB\n"
     ]
    }
   ],
   "source": [
    "file_path = os.path.join('..', 'data_in', 'Period.csv')\n",
    "periods = pd.read_csv(file_path)\n",
    "periods.rename(columns={'id': 'period_id'})\n",
    "periods.columns = periods.columns.str.lower()\n",
    "periods['start_date_fix'] = pd.to_datetime(periods.start_date, errors='coerce', dayfirst=True)\n",
    "periods['end_date_fix'] = pd.to_datetime(periods.end_date, errors='coerce', dayfirst=True)\n",
    "periods.info()"
   ]
  },
  {
   "cell_type": "markdown",
   "metadata": {},
   "source": [
    "#### add period length"
   ]
  },
  {
   "cell_type": "code",
   "execution_count": 7,
   "metadata": {},
   "outputs": [
    {
     "data": {
      "text/plain": [
       "count                     32163\n",
       "mean     4 days 20:06:09.368529\n",
       "std      5 days 18:08:52.487068\n",
       "min          -22 days +00:00:00\n",
       "25%             4 days 00:00:00\n",
       "50%             5 days 00:00:00\n",
       "75%             6 days 00:00:00\n",
       "max           383 days 00:00:00\n",
       "Name: length, dtype: object"
      ]
     },
     "execution_count": 7,
     "metadata": {},
     "output_type": "execute_result"
    }
   ],
   "source": [
    "periods['length'] = periods.end_date_fix - periods.start_date_fix\n",
    "periods['length'].describe()"
   ]
  },
  {
   "cell_type": "markdown",
   "metadata": {},
   "source": [
    "#### fix dates"
   ]
  },
  {
   "cell_type": "code",
   "execution_count": 8,
   "metadata": {},
   "outputs": [
    {
     "data": {
      "text/html": [
       "<div>\n",
       "<style scoped>\n",
       "    .dataframe tbody tr th:only-of-type {\n",
       "        vertical-align: middle;\n",
       "    }\n",
       "\n",
       "    .dataframe tbody tr th {\n",
       "        vertical-align: top;\n",
       "    }\n",
       "\n",
       "    .dataframe thead th {\n",
       "        text-align: right;\n",
       "    }\n",
       "</style>\n",
       "<table border=\"1\" class=\"dataframe\">\n",
       "  <thead>\n",
       "    <tr style=\"text-align: right;\">\n",
       "      <th></th>\n",
       "      <th>start_date_fix</th>\n",
       "      <th>end_date_fix</th>\n",
       "    </tr>\n",
       "  </thead>\n",
       "  <tbody>\n",
       "    <tr>\n",
       "      <th>count</th>\n",
       "      <td>34934</td>\n",
       "      <td>32163</td>\n",
       "    </tr>\n",
       "    <tr>\n",
       "      <th>unique</th>\n",
       "      <td>1579</td>\n",
       "      <td>1566</td>\n",
       "    </tr>\n",
       "    <tr>\n",
       "      <th>top</th>\n",
       "      <td>2016-01-01 00:00:00</td>\n",
       "      <td>2016-07-31 00:00:00</td>\n",
       "    </tr>\n",
       "    <tr>\n",
       "      <th>freq</th>\n",
       "      <td>53</td>\n",
       "      <td>45</td>\n",
       "    </tr>\n",
       "    <tr>\n",
       "      <th>first</th>\n",
       "      <td>1997-04-17 00:00:00</td>\n",
       "      <td>1997-04-24 00:00:00</td>\n",
       "    </tr>\n",
       "    <tr>\n",
       "      <th>last</th>\n",
       "      <td>2061-10-30 00:00:00</td>\n",
       "      <td>2061-10-28 00:00:00</td>\n",
       "    </tr>\n",
       "  </tbody>\n",
       "</table>\n",
       "</div>"
      ],
      "text/plain": [
       "             start_date_fix         end_date_fix\n",
       "count                 34934                32163\n",
       "unique                 1579                 1566\n",
       "top     2016-01-01 00:00:00  2016-07-31 00:00:00\n",
       "freq                     53                   45\n",
       "first   1997-04-17 00:00:00  1997-04-24 00:00:00\n",
       "last    2061-10-30 00:00:00  2061-10-28 00:00:00"
      ]
     },
     "execution_count": 8,
     "metadata": {},
     "output_type": "execute_result"
    }
   ],
   "source": [
    "periods[['start_date_fix', 'end_date_fix']].describe()"
   ]
  },
  {
   "cell_type": "markdown",
   "metadata": {},
   "source": [
    "#### Periods with dates over today\n",
    "- why would there be data from 1958-61"
   ]
  },
  {
   "cell_type": "code",
   "execution_count": 9,
   "metadata": {},
   "outputs": [
    {
     "data": {
      "text/plain": [
       "59    20\n",
       "60    10\n",
       "61     7\n",
       "58     3\n",
       "Name: start_date, dtype: int64"
      ]
     },
     "execution_count": 9,
     "metadata": {},
     "output_type": "execute_result"
    }
   ],
   "source": [
    "periods.loc[periods.start_date_fix > pd.to_datetime('today'), 'start_date'].str[-2:].value_counts()"
   ]
  },
  {
   "cell_type": "markdown",
   "metadata": {},
   "source": [
    "#### A lot with period less than 0"
   ]
  },
  {
   "cell_type": "code",
   "execution_count": 10,
   "metadata": {},
   "outputs": [
    {
     "name": "stdout",
     "output_type": "stream",
     "text": [
      "Periods with negative times: 50\n"
     ]
    },
    {
     "data": {
      "text/html": [
       "<div>\n",
       "<style scoped>\n",
       "    .dataframe tbody tr th:only-of-type {\n",
       "        vertical-align: middle;\n",
       "    }\n",
       "\n",
       "    .dataframe tbody tr th {\n",
       "        vertical-align: top;\n",
       "    }\n",
       "\n",
       "    .dataframe thead th {\n",
       "        text-align: right;\n",
       "    }\n",
       "</style>\n",
       "<table border=\"1\" class=\"dataframe\">\n",
       "  <thead>\n",
       "    <tr style=\"text-align: right;\">\n",
       "      <th></th>\n",
       "      <th>id</th>\n",
       "      <th>start_date</th>\n",
       "      <th>end_date</th>\n",
       "      <th>user_id</th>\n",
       "      <th>start_date_fix</th>\n",
       "      <th>end_date_fix</th>\n",
       "      <th>length</th>\n",
       "    </tr>\n",
       "  </thead>\n",
       "  <tbody>\n",
       "    <tr>\n",
       "      <th>2777</th>\n",
       "      <td>3775</td>\n",
       "      <td>18/12/15</td>\n",
       "      <td>1/12/15</td>\n",
       "      <td>879</td>\n",
       "      <td>2015-12-18</td>\n",
       "      <td>2015-12-01</td>\n",
       "      <td>-17 days</td>\n",
       "    </tr>\n",
       "    <tr>\n",
       "      <th>22297</th>\n",
       "      <td>25264</td>\n",
       "      <td>8/10/17</td>\n",
       "      <td>4/10/17</td>\n",
       "      <td>5208</td>\n",
       "      <td>2017-10-08</td>\n",
       "      <td>2017-10-04</td>\n",
       "      <td>-4 days</td>\n",
       "    </tr>\n",
       "    <tr>\n",
       "      <th>1782</th>\n",
       "      <td>2689</td>\n",
       "      <td>12/11/15</td>\n",
       "      <td>11/11/15</td>\n",
       "      <td>1089</td>\n",
       "      <td>2015-11-12</td>\n",
       "      <td>2015-11-11</td>\n",
       "      <td>-1 days</td>\n",
       "    </tr>\n",
       "    <tr>\n",
       "      <th>13347</th>\n",
       "      <td>15422</td>\n",
       "      <td>5/11/16</td>\n",
       "      <td>3/11/16</td>\n",
       "      <td>2764</td>\n",
       "      <td>2016-11-05</td>\n",
       "      <td>2016-11-03</td>\n",
       "      <td>-2 days</td>\n",
       "    </tr>\n",
       "    <tr>\n",
       "      <th>31608</th>\n",
       "      <td>35241</td>\n",
       "      <td>14/10/18</td>\n",
       "      <td>12/10/18</td>\n",
       "      <td>4309</td>\n",
       "      <td>2018-10-14</td>\n",
       "      <td>2018-10-12</td>\n",
       "      <td>-2 days</td>\n",
       "    </tr>\n",
       "  </tbody>\n",
       "</table>\n",
       "</div>"
      ],
      "text/plain": [
       "          id start_date  end_date  user_id start_date_fix end_date_fix  \\\n",
       "2777    3775   18/12/15   1/12/15      879     2015-12-18   2015-12-01   \n",
       "22297  25264    8/10/17   4/10/17     5208     2017-10-08   2017-10-04   \n",
       "1782    2689   12/11/15  11/11/15     1089     2015-11-12   2015-11-11   \n",
       "13347  15422    5/11/16   3/11/16     2764     2016-11-05   2016-11-03   \n",
       "31608  35241   14/10/18  12/10/18     4309     2018-10-14   2018-10-12   \n",
       "\n",
       "        length  \n",
       "2777  -17 days  \n",
       "22297  -4 days  \n",
       "1782   -1 days  \n",
       "13347  -2 days  \n",
       "31608  -2 days  "
      ]
     },
     "execution_count": 10,
     "metadata": {},
     "output_type": "execute_result"
    }
   ],
   "source": [
    "negatives_periods = periods[periods['length'] < pd.to_timedelta(0, unit='days')] \n",
    "print('Periods with negative times:', negatives_periods.shape[0])\n",
    "negatives_periods.sample(5)\n"
   ]
  },
  {
   "cell_type": "markdown",
   "metadata": {},
   "source": [
    "#### periods with long length"
   ]
  },
  {
   "cell_type": "code",
   "execution_count": 11,
   "metadata": {},
   "outputs": [
    {
     "name": "stdout",
     "output_type": "stream",
     "text": [
      "Count of periods over 20 days: 106\n"
     ]
    }
   ],
   "source": [
    "max_days = 20\n",
    "long_periods = periods[periods['length'] > pd.to_timedelta(max_days, unit='days')]\n",
    "print('Count of periods over {} days: {}'.format(max_days, long_periods.shape[0]))"
   ]
  },
  {
   "cell_type": "markdown",
   "metadata": {},
   "source": [
    "# Clean dates for periods\n",
    "- drop anything under 0 days in length\n",
    "- drop any period with a start or end date before toda"
   ]
  },
  {
   "cell_type": "code",
   "execution_count": 12,
   "metadata": {},
   "outputs": [
    {
     "name": "stdout",
     "output_type": "stream",
     "text": [
      "Predrop: 34942\n",
      "after dropping negative period length: 32113\n",
      "after dropping start dates before today: 32076\n",
      "after dropping end dates before today: 32076\n",
      "after dropping periods over 20 days: 31964\n"
     ]
    }
   ],
   "source": [
    "print('Predrop:', periods.shape[0])\n",
    "clean_periods = periods[periods.length >= pd.to_timedelta(0, unit='days')].copy()\n",
    "print('after dropping negative period length:', clean_periods.shape[0])\n",
    "clean_periods = clean_periods[clean_periods.start_date_fix < pd.to_datetime('today')]\n",
    "print('after dropping start dates before today:', clean_periods.shape[0])\n",
    "clean_periods = clean_periods[clean_periods.end_date_fix < pd.to_datetime('today')]\n",
    "print('after dropping end dates before today:', clean_periods.shape[0])\n",
    "max_days = 20\n",
    "clean_periods = clean_periods[clean_periods['length'] < pd.to_timedelta(max_days, unit='days')]\n",
    "print('after dropping periods over {} days: {}'.format(max_days, clean_periods.shape[0]))"
   ]
  },
  {
   "cell_type": "code",
   "execution_count": 13,
   "metadata": {},
   "outputs": [
    {
     "data": {
      "text/plain": [
       "count                     31964\n",
       "mean     4 days 16:11:58.107871\n",
       "std      1 days 15:34:35.670295\n",
       "min             0 days 00:00:00\n",
       "25%             4 days 00:00:00\n",
       "50%             5 days 00:00:00\n",
       "75%             6 days 00:00:00\n",
       "max            19 days 00:00:00\n",
       "Name: length, dtype: object"
      ]
     },
     "execution_count": 13,
     "metadata": {},
     "output_type": "execute_result"
    }
   ],
   "source": [
    "clean_periods.length.describe()"
   ]
  },
  {
   "cell_type": "code",
   "execution_count": 17,
   "metadata": {},
   "outputs": [],
   "source": [
    "# wrtie out clean files\n",
    "user_file_path = os.path.join('..', 'data_out', 'User_clean.csv')\n",
    "users.to_csv(user_file_path)"
   ]
  },
  {
   "cell_type": "code",
   "execution_count": 18,
   "metadata": {},
   "outputs": [],
   "source": [
    "# wrtie out clean files\n",
    "user_file_path = os.path.join('..', 'data_out', 'Symptoms_clean.csv')\n",
    "symptoms.to_csv(user_file_path)"
   ]
  },
  {
   "cell_type": "code",
   "execution_count": 19,
   "metadata": {},
   "outputs": [],
   "source": [
    "# wrtie out clean files\n",
    "user_file_path = os.path.join('..', 'data_out', 'Clean_periods_clean.csv')\n",
    "clean_periods.to_csv(user_file_path)"
   ]
  },
  {
   "cell_type": "code",
   "execution_count": null,
   "metadata": {},
   "outputs": [],
   "source": []
  }
 ],
 "metadata": {
  "kernelspec": {
   "display_name": "Python 3",
   "language": "python",
   "name": "python3"
  },
  "language_info": {
   "codemirror_mode": {
    "name": "ipython",
    "version": 3
   },
   "file_extension": ".py",
   "mimetype": "text/x-python",
   "name": "python",
   "nbconvert_exporter": "python",
   "pygments_lexer": "ipython3",
   "version": "3.7.0"
  }
 },
 "nbformat": 4,
 "nbformat_minor": 2
}
